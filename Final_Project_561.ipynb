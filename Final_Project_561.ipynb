{
  "nbformat": 4,
  "nbformat_minor": 0,
  "metadata": {
    "colab": {
      "name": "Final_Project_561.ipynb",
      "provenance": []
    },
    "kernelspec": {
      "name": "python3",
      "display_name": "Python 3"
    },
    "language_info": {
      "name": "python"
    }
  },
  "cells": [
    {
      "cell_type": "markdown",
      "source": [
        "#Spark Installation"
      ],
      "metadata": {
        "id": "dq70pLCuuk6L"
      }
    },
    {
      "cell_type": "code",
      "execution_count": 1,
      "metadata": {
        "colab": {
          "base_uri": "https://localhost:8080/"
        },
        "id": "tU7xHn5a52hm",
        "outputId": "7b2f4fa1-496a-4335-f00e-d79c833b09e2"
      },
      "outputs": [
        {
          "output_type": "stream",
          "name": "stdout",
          "text": [
            "Mounted at /content/drive\n"
          ]
        }
      ],
      "source": [
        "from google.colab import drive\n",
        "drive.mount('/content/drive')"
      ]
    },
    {
      "cell_type": "code",
      "source": [
        "%cd /content/drive/MyDrive/IDS 561 Assignment"
      ],
      "metadata": {
        "colab": {
          "base_uri": "https://localhost:8080/"
        },
        "id": "jiHXtNk061Iw",
        "outputId": "7a38824b-0975-4394-f35a-a125bc9433f7"
      },
      "execution_count": 2,
      "outputs": [
        {
          "output_type": "stream",
          "name": "stdout",
          "text": [
            "/content/drive/MyDrive/IDS 561 Assignment\n"
          ]
        }
      ]
    },
    {
      "cell_type": "code",
      "source": [
        "!apt-get install openjdk-8-jdk-headless -qq > /dev/null"
      ],
      "metadata": {
        "id": "aN5KdjCa7sJC"
      },
      "execution_count": 3,
      "outputs": []
    },
    {
      "cell_type": "code",
      "source": [
        "!wget -v https://dlcdn.apache.org/spark/spark-3.2.1/spark-3.2.1-bin-hadoop3.2.tgz"
      ],
      "metadata": {
        "colab": {
          "base_uri": "https://localhost:8080/"
        },
        "id": "IONZo9Yx7u0u",
        "outputId": "684789ed-b69e-43db-982a-67b213701c66"
      },
      "execution_count": 4,
      "outputs": [
        {
          "output_type": "stream",
          "name": "stdout",
          "text": [
            "--2022-05-04 19:35:44--  https://dlcdn.apache.org/spark/spark-3.2.1/spark-3.2.1-bin-hadoop3.2.tgz\n",
            "Resolving dlcdn.apache.org (dlcdn.apache.org)... 151.101.2.132, 2a04:4e42::644\n",
            "Connecting to dlcdn.apache.org (dlcdn.apache.org)|151.101.2.132|:443... connected.\n",
            "HTTP request sent, awaiting response... 200 OK\n",
            "Length: 300971569 (287M) [application/x-gzip]\n",
            "Saving to: ‘spark-3.2.1-bin-hadoop3.2.tgz.61’\n",
            "\n",
            "spark-3.2.1-bin-had 100%[===================>] 287.03M  49.0MB/s    in 6.0s    \n",
            "\n",
            "2022-05-04 19:35:51 (48.0 MB/s) - ‘spark-3.2.1-bin-hadoop3.2.tgz.61’ saved [300971569/300971569]\n",
            "\n"
          ]
        }
      ]
    },
    {
      "cell_type": "code",
      "source": [
        "!ls"
      ],
      "metadata": {
        "colab": {
          "base_uri": "https://localhost:8080/"
        },
        "id": "5vm5nckE7yAZ",
        "outputId": "6b1ff685-601c-43f9-dea0-d14953a2b52f"
      },
      "execution_count": 5,
      "outputs": [
        {
          "output_type": "stream",
          "name": "stdout",
          "text": [
            "Amazon_Responded_Oct05.csv\t  spark-3.2.1-bin-hadoop3.2.tgz.30\n",
            "daily_active_users.csv\t\t  spark-3.2.1-bin-hadoop3.2.tgz.31\n",
            "data.json\t\t\t  spark-3.2.1-bin-hadoop3.2.tgz.32\n",
            "experiment.txt\t\t\t  spark-3.2.1-bin-hadoop3.2.tgz.33\n",
            "experiment_user.csv\t\t  spark-3.2.1-bin-hadoop3.2.tgz.34\n",
            "final_experiment.csv\t\t  spark-3.2.1-bin-hadoop3.2.tgz.35\n",
            "finalexperimentnew.csv\t\t  spark-3.2.1-bin-hadoop3.2.tgz.36\n",
            "find_text.csv\t\t\t  spark-3.2.1-bin-hadoop3.2.tgz.37\n",
            "findtextfinal.csv\t\t  spark-3.2.1-bin-hadoop3.2.tgz.38\n",
            "iris.data\t\t\t  spark-3.2.1-bin-hadoop3.2.tgz.39\n",
            "mini_sparkify_event_data.json\t  spark-3.2.1-bin-hadoop3.2.tgz.4\n",
            "page_url.csv\t\t\t  spark-3.2.1-bin-hadoop3.2.tgz.40\n",
            "page_url.txt\t\t\t  spark-3.2.1-bin-hadoop3.2.tgz.41\n",
            "page_url.xlsx\t\t\t  spark-3.2.1-bin-hadoop3.2.tgz.42\n",
            "page_view.csv\t\t\t  spark-3.2.1-bin-hadoop3.2.tgz.43\n",
            "page_view.gsheet\t\t  spark-3.2.1-bin-hadoop3.2.tgz.44\n",
            "page_view.txt\t\t\t  spark-3.2.1-bin-hadoop3.2.tgz.45\n",
            "page_view.xlsx\t\t\t  spark-3.2.1-bin-hadoop3.2.tgz.46\n",
            "spark-3.2.1-bin-hadoop3.2\t  spark-3.2.1-bin-hadoop3.2.tgz.47\n",
            "spark-3.2.1-bin-hadoop3.2.tgz\t  spark-3.2.1-bin-hadoop3.2.tgz.48\n",
            "spark-3.2.1-bin-hadoop3.2.tgz.1   spark-3.2.1-bin-hadoop3.2.tgz.49\n",
            "spark-3.2.1-bin-hadoop3.2.tgz.10  spark-3.2.1-bin-hadoop3.2.tgz.5\n",
            "spark-3.2.1-bin-hadoop3.2.tgz.11  spark-3.2.1-bin-hadoop3.2.tgz.50\n",
            "spark-3.2.1-bin-hadoop3.2.tgz.12  spark-3.2.1-bin-hadoop3.2.tgz.51\n",
            "spark-3.2.1-bin-hadoop3.2.tgz.13  spark-3.2.1-bin-hadoop3.2.tgz.52\n",
            "spark-3.2.1-bin-hadoop3.2.tgz.14  spark-3.2.1-bin-hadoop3.2.tgz.53\n",
            "spark-3.2.1-bin-hadoop3.2.tgz.15  spark-3.2.1-bin-hadoop3.2.tgz.54\n",
            "spark-3.2.1-bin-hadoop3.2.tgz.16  spark-3.2.1-bin-hadoop3.2.tgz.55\n",
            "spark-3.2.1-bin-hadoop3.2.tgz.17  spark-3.2.1-bin-hadoop3.2.tgz.56\n",
            "spark-3.2.1-bin-hadoop3.2.tgz.18  spark-3.2.1-bin-hadoop3.2.tgz.57\n",
            "spark-3.2.1-bin-hadoop3.2.tgz.19  spark-3.2.1-bin-hadoop3.2.tgz.58\n",
            "spark-3.2.1-bin-hadoop3.2.tgz.2   spark-3.2.1-bin-hadoop3.2.tgz.59\n",
            "spark-3.2.1-bin-hadoop3.2.tgz.20  spark-3.2.1-bin-hadoop3.2.tgz.6\n",
            "spark-3.2.1-bin-hadoop3.2.tgz.21  spark-3.2.1-bin-hadoop3.2.tgz.60\n",
            "spark-3.2.1-bin-hadoop3.2.tgz.22  spark-3.2.1-bin-hadoop3.2.tgz.61\n",
            "spark-3.2.1-bin-hadoop3.2.tgz.23  spark-3.2.1-bin-hadoop3.2.tgz.7\n",
            "spark-3.2.1-bin-hadoop3.2.tgz.24  spark-3.2.1-bin-hadoop3.2.tgz.8\n",
            "spark-3.2.1-bin-hadoop3.2.tgz.25  spark-3.2.1-bin-hadoop3.2.tgz.9\n",
            "spark-3.2.1-bin-hadoop3.2.tgz.26  u.data\n",
            "spark-3.2.1-bin-hadoop3.2.tgz.27  user.csv\n",
            "spark-3.2.1-bin-hadoop3.2.tgz.28  user.txt\n",
            "spark-3.2.1-bin-hadoop3.2.tgz.29  user.xlsx\n",
            "spark-3.2.1-bin-hadoop3.2.tgz.3   wordcount.csv\n"
          ]
        }
      ]
    },
    {
      "cell_type": "code",
      "source": [
        "!tar -xvf spark-3.2.1-bin-hadoop3.2.tgz"
      ],
      "metadata": {
        "colab": {
          "base_uri": "https://localhost:8080/"
        },
        "id": "LnvfXeEf73ug",
        "outputId": "36bd8701-7999-4570-a0be-4f7fcbf4d430"
      },
      "execution_count": 6,
      "outputs": [
        {
          "output_type": "stream",
          "name": "stdout",
          "text": [
            "spark-3.2.1-bin-hadoop3.2/\n",
            "spark-3.2.1-bin-hadoop3.2/LICENSE\n",
            "spark-3.2.1-bin-hadoop3.2/NOTICE\n",
            "spark-3.2.1-bin-hadoop3.2/R/\n",
            "spark-3.2.1-bin-hadoop3.2/R/lib/\n",
            "spark-3.2.1-bin-hadoop3.2/R/lib/SparkR/\n",
            "spark-3.2.1-bin-hadoop3.2/R/lib/SparkR/DESCRIPTION\n",
            "spark-3.2.1-bin-hadoop3.2/R/lib/SparkR/INDEX\n",
            "spark-3.2.1-bin-hadoop3.2/R/lib/SparkR/Meta/\n",
            "spark-3.2.1-bin-hadoop3.2/R/lib/SparkR/Meta/Rd.rds\n",
            "spark-3.2.1-bin-hadoop3.2/R/lib/SparkR/Meta/features.rds\n",
            "spark-3.2.1-bin-hadoop3.2/R/lib/SparkR/Meta/hsearch.rds\n",
            "spark-3.2.1-bin-hadoop3.2/R/lib/SparkR/Meta/links.rds\n",
            "spark-3.2.1-bin-hadoop3.2/R/lib/SparkR/Meta/nsInfo.rds\n",
            "spark-3.2.1-bin-hadoop3.2/R/lib/SparkR/Meta/package.rds\n",
            "spark-3.2.1-bin-hadoop3.2/R/lib/SparkR/Meta/vignette.rds\n",
            "spark-3.2.1-bin-hadoop3.2/R/lib/SparkR/NAMESPACE\n",
            "spark-3.2.1-bin-hadoop3.2/R/lib/SparkR/R/\n",
            "spark-3.2.1-bin-hadoop3.2/R/lib/SparkR/R/SparkR\n",
            "spark-3.2.1-bin-hadoop3.2/R/lib/SparkR/R/SparkR.rdb\n",
            "spark-3.2.1-bin-hadoop3.2/R/lib/SparkR/R/SparkR.rdx\n",
            "spark-3.2.1-bin-hadoop3.2/R/lib/SparkR/doc/\n",
            "spark-3.2.1-bin-hadoop3.2/R/lib/SparkR/doc/index.html\n",
            "spark-3.2.1-bin-hadoop3.2/R/lib/SparkR/doc/sparkr-vignettes.R\n",
            "spark-3.2.1-bin-hadoop3.2/R/lib/SparkR/doc/sparkr-vignettes.Rmd\n",
            "spark-3.2.1-bin-hadoop3.2/R/lib/SparkR/doc/sparkr-vignettes.html\n",
            "spark-3.2.1-bin-hadoop3.2/R/lib/SparkR/help/\n",
            "spark-3.2.1-bin-hadoop3.2/R/lib/SparkR/help/AnIndex\n",
            "spark-3.2.1-bin-hadoop3.2/R/lib/SparkR/help/SparkR.rdb\n",
            "spark-3.2.1-bin-hadoop3.2/R/lib/SparkR/help/SparkR.rdx\n",
            "spark-3.2.1-bin-hadoop3.2/R/lib/SparkR/help/aliases.rds\n",
            "spark-3.2.1-bin-hadoop3.2/R/lib/SparkR/help/paths.rds\n",
            "spark-3.2.1-bin-hadoop3.2/R/lib/SparkR/html/\n",
            "spark-3.2.1-bin-hadoop3.2/R/lib/SparkR/html/00Index.html\n",
            "spark-3.2.1-bin-hadoop3.2/R/lib/SparkR/html/R.css\n",
            "spark-3.2.1-bin-hadoop3.2/R/lib/SparkR/profile/\n",
            "spark-3.2.1-bin-hadoop3.2/R/lib/SparkR/profile/general.R\n",
            "spark-3.2.1-bin-hadoop3.2/R/lib/SparkR/profile/shell.R\n",
            "spark-3.2.1-bin-hadoop3.2/R/lib/SparkR/tests/\n",
            "spark-3.2.1-bin-hadoop3.2/R/lib/SparkR/tests/testthat/\n",
            "spark-3.2.1-bin-hadoop3.2/R/lib/SparkR/tests/testthat/test_basic.R\n",
            "spark-3.2.1-bin-hadoop3.2/R/lib/SparkR/worker/\n",
            "spark-3.2.1-bin-hadoop3.2/R/lib/SparkR/worker/daemon.R\n",
            "spark-3.2.1-bin-hadoop3.2/R/lib/SparkR/worker/worker.R\n",
            "spark-3.2.1-bin-hadoop3.2/R/lib/sparkr.zip\n",
            "spark-3.2.1-bin-hadoop3.2/README.md\n",
            "spark-3.2.1-bin-hadoop3.2/RELEASE\n",
            "spark-3.2.1-bin-hadoop3.2/bin/\n",
            "spark-3.2.1-bin-hadoop3.2/bin/beeline\n",
            "spark-3.2.1-bin-hadoop3.2/bin/beeline.cmd\n",
            "spark-3.2.1-bin-hadoop3.2/bin/docker-image-tool.sh\n",
            "spark-3.2.1-bin-hadoop3.2/bin/find-spark-home\n",
            "spark-3.2.1-bin-hadoop3.2/bin/find-spark-home.cmd\n",
            "spark-3.2.1-bin-hadoop3.2/bin/load-spark-env.cmd\n",
            "spark-3.2.1-bin-hadoop3.2/bin/load-spark-env.sh\n",
            "spark-3.2.1-bin-hadoop3.2/bin/pyspark\n",
            "spark-3.2.1-bin-hadoop3.2/bin/pyspark.cmd\n",
            "spark-3.2.1-bin-hadoop3.2/bin/pyspark2.cmd\n",
            "spark-3.2.1-bin-hadoop3.2/bin/run-example\n",
            "spark-3.2.1-bin-hadoop3.2/bin/run-example.cmd\n",
            "spark-3.2.1-bin-hadoop3.2/bin/spark-class\n",
            "spark-3.2.1-bin-hadoop3.2/bin/spark-class.cmd\n",
            "spark-3.2.1-bin-hadoop3.2/bin/spark-class2.cmd\n",
            "spark-3.2.1-bin-hadoop3.2/bin/spark-shell\n",
            "spark-3.2.1-bin-hadoop3.2/bin/spark-shell.cmd\n",
            "spark-3.2.1-bin-hadoop3.2/bin/spark-shell2.cmd\n",
            "spark-3.2.1-bin-hadoop3.2/bin/spark-sql\n",
            "spark-3.2.1-bin-hadoop3.2/bin/spark-sql.cmd\n",
            "spark-3.2.1-bin-hadoop3.2/bin/spark-sql2.cmd\n",
            "spark-3.2.1-bin-hadoop3.2/bin/spark-submit\n",
            "spark-3.2.1-bin-hadoop3.2/bin/spark-submit.cmd\n",
            "spark-3.2.1-bin-hadoop3.2/bin/spark-submit2.cmd\n",
            "spark-3.2.1-bin-hadoop3.2/bin/sparkR\n",
            "spark-3.2.1-bin-hadoop3.2/bin/sparkR.cmd\n",
            "spark-3.2.1-bin-hadoop3.2/bin/sparkR2.cmd\n",
            "spark-3.2.1-bin-hadoop3.2/conf/\n",
            "spark-3.2.1-bin-hadoop3.2/conf/fairscheduler.xml.template\n",
            "spark-3.2.1-bin-hadoop3.2/conf/log4j.properties.template\n",
            "spark-3.2.1-bin-hadoop3.2/conf/metrics.properties.template\n",
            "spark-3.2.1-bin-hadoop3.2/conf/spark-defaults.conf.template\n",
            "spark-3.2.1-bin-hadoop3.2/conf/spark-env.sh.template\n",
            "spark-3.2.1-bin-hadoop3.2/conf/workers.template\n",
            "spark-3.2.1-bin-hadoop3.2/data/\n",
            "spark-3.2.1-bin-hadoop3.2/data/graphx/\n",
            "spark-3.2.1-bin-hadoop3.2/data/graphx/followers.txt\n",
            "spark-3.2.1-bin-hadoop3.2/data/graphx/users.txt\n",
            "spark-3.2.1-bin-hadoop3.2/data/mllib/\n",
            "spark-3.2.1-bin-hadoop3.2/data/mllib/als/\n",
            "spark-3.2.1-bin-hadoop3.2/data/mllib/als/sample_movielens_ratings.txt\n",
            "spark-3.2.1-bin-hadoop3.2/data/mllib/als/test.data\n",
            "spark-3.2.1-bin-hadoop3.2/data/mllib/gmm_data.txt\n",
            "spark-3.2.1-bin-hadoop3.2/data/mllib/images/\n",
            "spark-3.2.1-bin-hadoop3.2/data/mllib/images/license.txt\n",
            "spark-3.2.1-bin-hadoop3.2/data/mllib/images/origin/\n",
            "spark-3.2.1-bin-hadoop3.2/data/mllib/images/origin/kittens/\n",
            "spark-3.2.1-bin-hadoop3.2/data/mllib/images/origin/kittens/29.5.a_b_EGDP022204.jpg\n",
            "spark-3.2.1-bin-hadoop3.2/data/mllib/images/origin/kittens/54893.jpg\n",
            "spark-3.2.1-bin-hadoop3.2/data/mllib/images/origin/kittens/DP153539.jpg\n",
            "spark-3.2.1-bin-hadoop3.2/data/mllib/images/origin/kittens/DP802813.jpg\n",
            "spark-3.2.1-bin-hadoop3.2/data/mllib/images/origin/kittens/not-image.txt\n",
            "spark-3.2.1-bin-hadoop3.2/data/mllib/images/origin/license.txt\n",
            "spark-3.2.1-bin-hadoop3.2/data/mllib/images/origin/multi-channel/\n",
            "spark-3.2.1-bin-hadoop3.2/data/mllib/images/origin/multi-channel/BGRA.png\n",
            "spark-3.2.1-bin-hadoop3.2/data/mllib/images/origin/multi-channel/BGRA_alpha_60.png\n",
            "spark-3.2.1-bin-hadoop3.2/data/mllib/images/origin/multi-channel/chr30.4.184.jpg\n",
            "spark-3.2.1-bin-hadoop3.2/data/mllib/images/origin/multi-channel/grayscale.jpg\n",
            "spark-3.2.1-bin-hadoop3.2/data/mllib/images/partitioned/\n",
            "spark-3.2.1-bin-hadoop3.2/data/mllib/images/partitioned/cls=kittens/\n",
            "spark-3.2.1-bin-hadoop3.2/data/mllib/images/partitioned/cls=kittens/date=2018-01/\n",
            "spark-3.2.1-bin-hadoop3.2/data/mllib/images/partitioned/cls=kittens/date=2018-01/29.5.a_b_EGDP022204.jpg\n",
            "spark-3.2.1-bin-hadoop3.2/data/mllib/images/partitioned/cls=kittens/date=2018-01/not-image.txt\n",
            "spark-3.2.1-bin-hadoop3.2/data/mllib/images/partitioned/cls=kittens/date=2018-02/\n",
            "spark-3.2.1-bin-hadoop3.2/data/mllib/images/partitioned/cls=kittens/date=2018-02/54893.jpg\n",
            "spark-3.2.1-bin-hadoop3.2/data/mllib/images/partitioned/cls=kittens/date=2018-02/DP153539.jpg\n",
            "spark-3.2.1-bin-hadoop3.2/data/mllib/images/partitioned/cls=kittens/date=2018-02/DP802813.jpg\n",
            "spark-3.2.1-bin-hadoop3.2/data/mllib/images/partitioned/cls=multichannel/\n",
            "spark-3.2.1-bin-hadoop3.2/data/mllib/images/partitioned/cls=multichannel/date=2018-01/\n",
            "spark-3.2.1-bin-hadoop3.2/data/mllib/images/partitioned/cls=multichannel/date=2018-01/BGRA.png\n",
            "spark-3.2.1-bin-hadoop3.2/data/mllib/images/partitioned/cls=multichannel/date=2018-01/BGRA_alpha_60.png\n",
            "spark-3.2.1-bin-hadoop3.2/data/mllib/images/partitioned/cls=multichannel/date=2018-02/\n",
            "spark-3.2.1-bin-hadoop3.2/data/mllib/images/partitioned/cls=multichannel/date=2018-02/chr30.4.184.jpg\n",
            "spark-3.2.1-bin-hadoop3.2/data/mllib/images/partitioned/cls=multichannel/date=2018-02/grayscale.jpg\n",
            "spark-3.2.1-bin-hadoop3.2/data/mllib/iris_libsvm.txt\n",
            "spark-3.2.1-bin-hadoop3.2/data/mllib/kmeans_data.txt\n",
            "spark-3.2.1-bin-hadoop3.2/data/mllib/pagerank_data.txt\n",
            "spark-3.2.1-bin-hadoop3.2/data/mllib/pic_data.txt\n",
            "spark-3.2.1-bin-hadoop3.2/data/mllib/ridge-data/\n",
            "spark-3.2.1-bin-hadoop3.2/data/mllib/ridge-data/lpsa.data\n",
            "spark-3.2.1-bin-hadoop3.2/data/mllib/sample_binary_classification_data.txt\n",
            "spark-3.2.1-bin-hadoop3.2/data/mllib/sample_fpgrowth.txt\n",
            "spark-3.2.1-bin-hadoop3.2/data/mllib/sample_isotonic_regression_libsvm_data.txt\n",
            "spark-3.2.1-bin-hadoop3.2/data/mllib/sample_kmeans_data.txt\n",
            "spark-3.2.1-bin-hadoop3.2/data/mllib/sample_lda_data.txt\n",
            "spark-3.2.1-bin-hadoop3.2/data/mllib/sample_lda_libsvm_data.txt\n",
            "spark-3.2.1-bin-hadoop3.2/data/mllib/sample_libsvm_data.txt\n",
            "spark-3.2.1-bin-hadoop3.2/data/mllib/sample_linear_regression_data.txt\n",
            "spark-3.2.1-bin-hadoop3.2/data/mllib/sample_movielens_data.txt\n",
            "spark-3.2.1-bin-hadoop3.2/data/mllib/sample_multiclass_classification_data.txt\n",
            "spark-3.2.1-bin-hadoop3.2/data/mllib/sample_svm_data.txt\n",
            "spark-3.2.1-bin-hadoop3.2/data/mllib/streaming_kmeans_data_test.txt\n",
            "spark-3.2.1-bin-hadoop3.2/data/streaming/\n",
            "spark-3.2.1-bin-hadoop3.2/data/streaming/AFINN-111.txt\n",
            "spark-3.2.1-bin-hadoop3.2/examples/\n",
            "spark-3.2.1-bin-hadoop3.2/examples/jars/\n",
            "spark-3.2.1-bin-hadoop3.2/examples/jars/scopt_2.12-3.7.1.jar\n",
            "spark-3.2.1-bin-hadoop3.2/examples/jars/spark-examples_2.12-3.2.1.jar\n",
            "spark-3.2.1-bin-hadoop3.2/examples/src/\n",
            "spark-3.2.1-bin-hadoop3.2/examples/src/main/\n",
            "spark-3.2.1-bin-hadoop3.2/examples/src/main/java/\n",
            "spark-3.2.1-bin-hadoop3.2/examples/src/main/java/org/\n",
            "spark-3.2.1-bin-hadoop3.2/examples/src/main/java/org/apache/\n",
            "spark-3.2.1-bin-hadoop3.2/examples/src/main/java/org/apache/spark/\n",
            "spark-3.2.1-bin-hadoop3.2/examples/src/main/java/org/apache/spark/examples/\n",
            "spark-3.2.1-bin-hadoop3.2/examples/src/main/java/org/apache/spark/examples/JavaHdfsLR.java\n",
            "spark-3.2.1-bin-hadoop3.2/examples/src/main/java/org/apache/spark/examples/JavaLogQuery.java\n",
            "spark-3.2.1-bin-hadoop3.2/examples/src/main/java/org/apache/spark/examples/JavaPageRank.java\n",
            "spark-3.2.1-bin-hadoop3.2/examples/src/main/java/org/apache/spark/examples/JavaSparkPi.java\n",
            "spark-3.2.1-bin-hadoop3.2/examples/src/main/java/org/apache/spark/examples/JavaStatusTrackerDemo.java\n",
            "spark-3.2.1-bin-hadoop3.2/examples/src/main/java/org/apache/spark/examples/JavaTC.java\n",
            "spark-3.2.1-bin-hadoop3.2/examples/src/main/java/org/apache/spark/examples/JavaWordCount.java\n",
            "spark-3.2.1-bin-hadoop3.2/examples/src/main/java/org/apache/spark/examples/ml/\n",
            "spark-3.2.1-bin-hadoop3.2/examples/src/main/java/org/apache/spark/examples/ml/JavaAFTSurvivalRegressionExample.java\n",
            "spark-3.2.1-bin-hadoop3.2/examples/src/main/java/org/apache/spark/examples/ml/JavaALSExample.java\n",
            "spark-3.2.1-bin-hadoop3.2/examples/src/main/java/org/apache/spark/examples/ml/JavaBinarizerExample.java\n",
            "spark-3.2.1-bin-hadoop3.2/examples/src/main/java/org/apache/spark/examples/ml/JavaBisectingKMeansExample.java\n",
            "spark-3.2.1-bin-hadoop3.2/examples/src/main/java/org/apache/spark/examples/ml/JavaBucketedRandomProjectionLSHExample.java\n",
            "spark-3.2.1-bin-hadoop3.2/examples/src/main/java/org/apache/spark/examples/ml/JavaBucketizerExample.java\n",
            "spark-3.2.1-bin-hadoop3.2/examples/src/main/java/org/apache/spark/examples/ml/JavaChiSqSelectorExample.java\n",
            "spark-3.2.1-bin-hadoop3.2/examples/src/main/java/org/apache/spark/examples/ml/JavaChiSquareTestExample.java\n",
            "spark-3.2.1-bin-hadoop3.2/examples/src/main/java/org/apache/spark/examples/ml/JavaCorrelationExample.java\n",
            "spark-3.2.1-bin-hadoop3.2/examples/src/main/java/org/apache/spark/examples/ml/JavaCountVectorizerExample.java\n",
            "spark-3.2.1-bin-hadoop3.2/examples/src/main/java/org/apache/spark/examples/ml/JavaDCTExample.java\n",
            "spark-3.2.1-bin-hadoop3.2/examples/src/main/java/org/apache/spark/examples/ml/JavaDecisionTreeClassificationExample.java\n",
            "spark-3.2.1-bin-hadoop3.2/examples/src/main/java/org/apache/spark/examples/ml/JavaDecisionTreeRegressionExample.java\n",
            "spark-3.2.1-bin-hadoop3.2/examples/src/main/java/org/apache/spark/examples/ml/JavaDocument.java\n",
            "spark-3.2.1-bin-hadoop3.2/examples/src/main/java/org/apache/spark/examples/ml/JavaElementwiseProductExample.java\n",
            "spark-3.2.1-bin-hadoop3.2/examples/src/main/java/org/apache/spark/examples/ml/JavaEstimatorTransformerParamExample.java\n",
            "spark-3.2.1-bin-hadoop3.2/examples/src/main/java/org/apache/spark/examples/ml/JavaFMClassifierExample.java\n",
            "spark-3.2.1-bin-hadoop3.2/examples/src/main/java/org/apache/spark/examples/ml/JavaFMRegressorExample.java\n",
            "spark-3.2.1-bin-hadoop3.2/examples/src/main/java/org/apache/spark/examples/ml/JavaFPGrowthExample.java\n",
            "spark-3.2.1-bin-hadoop3.2/examples/src/main/java/org/apache/spark/examples/ml/JavaFeatureHasherExample.java\n",
            "spark-3.2.1-bin-hadoop3.2/examples/src/main/java/org/apache/spark/examples/ml/JavaGaussianMixtureExample.java\n",
            "spark-3.2.1-bin-hadoop3.2/examples/src/main/java/org/apache/spark/examples/ml/JavaGeneralizedLinearRegressionExample.java\n",
            "spark-3.2.1-bin-hadoop3.2/examples/src/main/java/org/apache/spark/examples/ml/JavaGradientBoostedTreeClassifierExample.java\n",
            "spark-3.2.1-bin-hadoop3.2/examples/src/main/java/org/apache/spark/examples/ml/JavaGradientBoostedTreeRegressorExample.java\n",
            "spark-3.2.1-bin-hadoop3.2/examples/src/main/java/org/apache/spark/examples/ml/JavaImputerExample.java\n",
            "spark-3.2.1-bin-hadoop3.2/examples/src/main/java/org/apache/spark/examples/ml/JavaIndexToStringExample.java\n",
            "spark-3.2.1-bin-hadoop3.2/examples/src/main/java/org/apache/spark/examples/ml/JavaInteractionExample.java\n",
            "spark-3.2.1-bin-hadoop3.2/examples/src/main/java/org/apache/spark/examples/ml/JavaIsotonicRegressionExample.java\n",
            "spark-3.2.1-bin-hadoop3.2/examples/src/main/java/org/apache/spark/examples/ml/JavaKMeansExample.java\n",
            "spark-3.2.1-bin-hadoop3.2/examples/src/main/java/org/apache/spark/examples/ml/JavaLDAExample.java\n",
            "spark-3.2.1-bin-hadoop3.2/examples/src/main/java/org/apache/spark/examples/ml/JavaLabeledDocument.java\n",
            "spark-3.2.1-bin-hadoop3.2/examples/src/main/java/org/apache/spark/examples/ml/JavaLinearRegressionWithElasticNetExample.java\n",
            "spark-3.2.1-bin-hadoop3.2/examples/src/main/java/org/apache/spark/examples/ml/JavaLinearSVCExample.java\n",
            "spark-3.2.1-bin-hadoop3.2/examples/src/main/java/org/apache/spark/examples/ml/JavaLogisticRegressionSummaryExample.java\n",
            "spark-3.2.1-bin-hadoop3.2/examples/src/main/java/org/apache/spark/examples/ml/JavaLogisticRegressionWithElasticNetExample.java\n",
            "spark-3.2.1-bin-hadoop3.2/examples/src/main/java/org/apache/spark/examples/ml/JavaMaxAbsScalerExample.java\n",
            "spark-3.2.1-bin-hadoop3.2/examples/src/main/java/org/apache/spark/examples/ml/JavaMinHashLSHExample.java\n",
            "spark-3.2.1-bin-hadoop3.2/examples/src/main/java/org/apache/spark/examples/ml/JavaMinMaxScalerExample.java\n",
            "spark-3.2.1-bin-hadoop3.2/examples/src/main/java/org/apache/spark/examples/ml/JavaModelSelectionViaCrossValidationExample.java\n",
            "spark-3.2.1-bin-hadoop3.2/examples/src/main/java/org/apache/spark/examples/ml/JavaModelSelectionViaTrainValidationSplitExample.java\n",
            "spark-3.2.1-bin-hadoop3.2/examples/src/main/java/org/apache/spark/examples/ml/JavaMulticlassLogisticRegressionWithElasticNetExample.java\n",
            "spark-3.2.1-bin-hadoop3.2/examples/src/main/java/org/apache/spark/examples/ml/JavaMultilayerPerceptronClassifierExample.java\n",
            "spark-3.2.1-bin-hadoop3.2/examples/src/main/java/org/apache/spark/examples/ml/JavaNGramExample.java\n",
            "spark-3.2.1-bin-hadoop3.2/examples/src/main/java/org/apache/spark/examples/ml/JavaNaiveBayesExample.java\n",
            "spark-3.2.1-bin-hadoop3.2/examples/src/main/java/org/apache/spark/examples/ml/JavaNormalizerExample.java\n",
            "spark-3.2.1-bin-hadoop3.2/examples/src/main/java/org/apache/spark/examples/ml/JavaOneHotEncoderExample.java\n",
            "spark-3.2.1-bin-hadoop3.2/examples/src/main/java/org/apache/spark/examples/ml/JavaOneVsRestExample.java\n",
            "spark-3.2.1-bin-hadoop3.2/examples/src/main/java/org/apache/spark/examples/ml/JavaPCAExample.java\n",
            "spark-3.2.1-bin-hadoop3.2/examples/src/main/java/org/apache/spark/examples/ml/JavaPipelineExample.java\n",
            "spark-3.2.1-bin-hadoop3.2/examples/src/main/java/org/apache/spark/examples/ml/JavaPolynomialExpansionExample.java\n",
            "spark-3.2.1-bin-hadoop3.2/examples/src/main/java/org/apache/spark/examples/ml/JavaPowerIterationClusteringExample.java\n",
            "spark-3.2.1-bin-hadoop3.2/examples/src/main/java/org/apache/spark/examples/ml/JavaPrefixSpanExample.java\n",
            "spark-3.2.1-bin-hadoop3.2/examples/src/main/java/org/apache/spark/examples/ml/JavaQuantileDiscretizerExample.java\n",
            "spark-3.2.1-bin-hadoop3.2/examples/src/main/java/org/apache/spark/examples/ml/JavaRFormulaExample.java\n",
            "spark-3.2.1-bin-hadoop3.2/examples/src/main/java/org/apache/spark/examples/ml/JavaRandomForestClassifierExample.java\n",
            "spark-3.2.1-bin-hadoop3.2/examples/src/main/java/org/apache/spark/examples/ml/JavaRandomForestRegressorExample.java\n",
            "spark-3.2.1-bin-hadoop3.2/examples/src/main/java/org/apache/spark/examples/ml/JavaRobustScalerExample.java\n",
            "spark-3.2.1-bin-hadoop3.2/examples/src/main/java/org/apache/spark/examples/ml/JavaSQLTransformerExample.java\n",
            "spark-3.2.1-bin-hadoop3.2/examples/src/main/java/org/apache/spark/examples/ml/JavaStandardScalerExample.java\n",
            "spark-3.2.1-bin-hadoop3.2/examples/src/main/java/org/apache/spark/examples/ml/JavaStopWordsRemoverExample.java\n",
            "spark-3.2.1-bin-hadoop3.2/examples/src/main/java/org/apache/spark/examples/ml/JavaStringIndexerExample.java\n",
            "spark-3.2.1-bin-hadoop3.2/examples/src/main/java/org/apache/spark/examples/ml/JavaSummarizerExample.java\n",
            "spark-3.2.1-bin-hadoop3.2/examples/src/main/java/org/apache/spark/examples/ml/JavaTfIdfExample.java\n",
            "spark-3.2.1-bin-hadoop3.2/examples/src/main/java/org/apache/spark/examples/ml/JavaTokenizerExample.java\n",
            "spark-3.2.1-bin-hadoop3.2/examples/src/main/java/org/apache/spark/examples/ml/JavaUnivariateFeatureSelectorExample.java\n",
            "spark-3.2.1-bin-hadoop3.2/examples/src/main/java/org/apache/spark/examples/ml/JavaVarianceThresholdSelectorExample.java\n",
            "spark-3.2.1-bin-hadoop3.2/examples/src/main/java/org/apache/spark/examples/ml/JavaVectorAssemblerExample.java\n",
            "spark-3.2.1-bin-hadoop3.2/examples/src/main/java/org/apache/spark/examples/ml/JavaVectorIndexerExample.java\n",
            "spark-3.2.1-bin-hadoop3.2/examples/src/main/java/org/apache/spark/examples/ml/JavaVectorSizeHintExample.java\n",
            "spark-3.2.1-bin-hadoop3.2/examples/src/main/java/org/apache/spark/examples/ml/JavaVectorSlicerExample.java\n",
            "spark-3.2.1-bin-hadoop3.2/examples/src/main/java/org/apache/spark/examples/ml/JavaWord2VecExample.java\n",
            "spark-3.2.1-bin-hadoop3.2/examples/src/main/java/org/apache/spark/examples/mllib/\n",
            "spark-3.2.1-bin-hadoop3.2/examples/src/main/java/org/apache/spark/examples/mllib/JavaALS.java\n",
            "spark-3.2.1-bin-hadoop3.2/examples/src/main/java/org/apache/spark/examples/mllib/JavaAssociationRulesExample.java\n",
            "spark-3.2.1-bin-hadoop3.2/examples/src/main/java/org/apache/spark/examples/mllib/JavaBinaryClassificationMetricsExample.java\n",
            "spark-3.2.1-bin-hadoop3.2/examples/src/main/java/org/apache/spark/examples/mllib/JavaBisectingKMeansExample.java\n",
            "spark-3.2.1-bin-hadoop3.2/examples/src/main/java/org/apache/spark/examples/mllib/JavaChiSqSelectorExample.java\n",
            "spark-3.2.1-bin-hadoop3.2/examples/src/main/java/org/apache/spark/examples/mllib/JavaCorrelationsExample.java\n",
            "spark-3.2.1-bin-hadoop3.2/examples/src/main/java/org/apache/spark/examples/mllib/JavaDecisionTreeClassificationExample.java\n",
            "spark-3.2.1-bin-hadoop3.2/examples/src/main/java/org/apache/spark/examples/mllib/JavaDecisionTreeRegressionExample.java\n",
            "spark-3.2.1-bin-hadoop3.2/examples/src/main/java/org/apache/spark/examples/mllib/JavaElementwiseProductExample.java\n",
            "spark-3.2.1-bin-hadoop3.2/examples/src/main/java/org/apache/spark/examples/mllib/JavaGaussianMixtureExample.java\n",
            "spark-3.2.1-bin-hadoop3.2/examples/src/main/java/org/apache/spark/examples/mllib/JavaGradientBoostingClassificationExample.java\n",
            "spark-3.2.1-bin-hadoop3.2/examples/src/main/java/org/apache/spark/examples/mllib/JavaGradientBoostingRegressionExample.java\n",
            "spark-3.2.1-bin-hadoop3.2/examples/src/main/java/org/apache/spark/examples/mllib/JavaHypothesisTestingExample.java\n",
            "spark-3.2.1-bin-hadoop3.2/examples/src/main/java/org/apache/spark/examples/mllib/JavaHypothesisTestingKolmogorovSmirnovTestExample.java\n",
            "spark-3.2.1-bin-hadoop3.2/examples/src/main/java/org/apache/spark/examples/mllib/JavaIsotonicRegressionExample.java\n",
            "spark-3.2.1-bin-hadoop3.2/examples/src/main/java/org/apache/spark/examples/mllib/JavaKMeansExample.java\n",
            "spark-3.2.1-bin-hadoop3.2/examples/src/main/java/org/apache/spark/examples/mllib/JavaKernelDensityEstimationExample.java\n",
            "spark-3.2.1-bin-hadoop3.2/examples/src/main/java/org/apache/spark/examples/mllib/JavaLBFGSExample.java\n",
            "spark-3.2.1-bin-hadoop3.2/examples/src/main/java/org/apache/spark/examples/mllib/JavaLatentDirichletAllocationExample.java\n",
            "spark-3.2.1-bin-hadoop3.2/examples/src/main/java/org/apache/spark/examples/mllib/JavaLogisticRegressionWithLBFGSExample.java\n",
            "spark-3.2.1-bin-hadoop3.2/examples/src/main/java/org/apache/spark/examples/mllib/JavaMultiLabelClassificationMetricsExample.java\n",
            "spark-3.2.1-bin-hadoop3.2/examples/src/main/java/org/apache/spark/examples/mllib/JavaMulticlassClassificationMetricsExample.java\n",
            "spark-3.2.1-bin-hadoop3.2/examples/src/main/java/org/apache/spark/examples/mllib/JavaNaiveBayesExample.java\n",
            "spark-3.2.1-bin-hadoop3.2/examples/src/main/java/org/apache/spark/examples/mllib/JavaPCAExample.java\n",
            "spark-3.2.1-bin-hadoop3.2/examples/src/main/java/org/apache/spark/examples/mllib/JavaPowerIterationClusteringExample.java\n",
            "spark-3.2.1-bin-hadoop3.2/examples/src/main/java/org/apache/spark/examples/mllib/JavaPrefixSpanExample.java\n",
            "spark-3.2.1-bin-hadoop3.2/examples/src/main/java/org/apache/spark/examples/mllib/JavaRandomForestClassificationExample.java\n",
            "spark-3.2.1-bin-hadoop3.2/examples/src/main/java/org/apache/spark/examples/mllib/JavaRandomForestRegressionExample.java\n",
            "spark-3.2.1-bin-hadoop3.2/examples/src/main/java/org/apache/spark/examples/mllib/JavaRankingMetricsExample.java\n",
            "spark-3.2.1-bin-hadoop3.2/examples/src/main/java/org/apache/spark/examples/mllib/JavaRecommendationExample.java\n",
            "spark-3.2.1-bin-hadoop3.2/examples/src/main/java/org/apache/spark/examples/mllib/JavaSVDExample.java\n",
            "spark-3.2.1-bin-hadoop3.2/examples/src/main/java/org/apache/spark/examples/mllib/JavaSVMWithSGDExample.java\n",
            "spark-3.2.1-bin-hadoop3.2/examples/src/main/java/org/apache/spark/examples/mllib/JavaSimpleFPGrowth.java\n",
            "spark-3.2.1-bin-hadoop3.2/examples/src/main/java/org/apache/spark/examples/mllib/JavaStratifiedSamplingExample.java\n",
            "spark-3.2.1-bin-hadoop3.2/examples/src/main/java/org/apache/spark/examples/mllib/JavaStreamingTestExample.java\n",
            "spark-3.2.1-bin-hadoop3.2/examples/src/main/java/org/apache/spark/examples/mllib/JavaSummaryStatisticsExample.java\n",
            "spark-3.2.1-bin-hadoop3.2/examples/src/main/java/org/apache/spark/examples/sql/\n",
            "spark-3.2.1-bin-hadoop3.2/examples/src/main/java/org/apache/spark/examples/sql/JavaSQLDataSourceExample.java\n",
            "spark-3.2.1-bin-hadoop3.2/examples/src/main/java/org/apache/spark/examples/sql/JavaSparkSQLExample.java\n",
            "spark-3.2.1-bin-hadoop3.2/examples/src/main/java/org/apache/spark/examples/sql/JavaUserDefinedScalar.java\n",
            "spark-3.2.1-bin-hadoop3.2/examples/src/main/java/org/apache/spark/examples/sql/JavaUserDefinedTypedAggregation.java\n",
            "spark-3.2.1-bin-hadoop3.2/examples/src/main/java/org/apache/spark/examples/sql/JavaUserDefinedUntypedAggregation.java\n",
            "spark-3.2.1-bin-hadoop3.2/examples/src/main/java/org/apache/spark/examples/sql/hive/\n",
            "spark-3.2.1-bin-hadoop3.2/examples/src/main/java/org/apache/spark/examples/sql/hive/JavaSparkHiveExample.java\n",
            "spark-3.2.1-bin-hadoop3.2/examples/src/main/java/org/apache/spark/examples/sql/streaming/\n",
            "spark-3.2.1-bin-hadoop3.2/examples/src/main/java/org/apache/spark/examples/sql/streaming/JavaStructuredComplexSessionization.java\n",
            "spark-3.2.1-bin-hadoop3.2/examples/src/main/java/org/apache/spark/examples/sql/streaming/JavaStructuredKafkaWordCount.java\n",
            "spark-3.2.1-bin-hadoop3.2/examples/src/main/java/org/apache/spark/examples/sql/streaming/JavaStructuredKerberizedKafkaWordCount.java\n",
            "spark-3.2.1-bin-hadoop3.2/examples/src/main/java/org/apache/spark/examples/sql/streaming/JavaStructuredNetworkWordCount.java\n",
            "spark-3.2.1-bin-hadoop3.2/examples/src/main/java/org/apache/spark/examples/sql/streaming/JavaStructuredNetworkWordCountWindowed.java\n",
            "spark-3.2.1-bin-hadoop3.2/examples/src/main/java/org/apache/spark/examples/sql/streaming/JavaStructuredSessionization.java\n",
            "spark-3.2.1-bin-hadoop3.2/examples/src/main/java/org/apache/spark/examples/streaming/\n",
            "spark-3.2.1-bin-hadoop3.2/examples/src/main/java/org/apache/spark/examples/streaming/JavaCustomReceiver.java\n",
            "spark-3.2.1-bin-hadoop3.2/examples/src/main/java/org/apache/spark/examples/streaming/JavaDirectKafkaWordCount.java\n",
            "spark-3.2.1-bin-hadoop3.2/examples/src/main/java/org/apache/spark/examples/streaming/JavaDirectKerberizedKafkaWordCount.java\n",
            "spark-3.2.1-bin-hadoop3.2/examples/src/main/java/org/apache/spark/examples/streaming/JavaNetworkWordCount.java\n",
            "spark-3.2.1-bin-hadoop3.2/examples/src/main/java/org/apache/spark/examples/streaming/JavaQueueStream.java\n",
            "spark-3.2.1-bin-hadoop3.2/examples/src/main/java/org/apache/spark/examples/streaming/JavaRecord.java\n",
            "spark-3.2.1-bin-hadoop3.2/examples/src/main/java/org/apache/spark/examples/streaming/JavaRecoverableNetworkWordCount.java\n",
            "spark-3.2.1-bin-hadoop3.2/examples/src/main/java/org/apache/spark/examples/streaming/JavaSqlNetworkWordCount.java\n",
            "spark-3.2.1-bin-hadoop3.2/examples/src/main/java/org/apache/spark/examples/streaming/JavaStatefulNetworkWordCount.java\n",
            "spark-3.2.1-bin-hadoop3.2/examples/src/main/python/\n",
            "spark-3.2.1-bin-hadoop3.2/examples/src/main/python/als.py\n",
            "spark-3.2.1-bin-hadoop3.2/examples/src/main/python/avro_inputformat.py\n",
            "spark-3.2.1-bin-hadoop3.2/examples/src/main/python/kmeans.py\n",
            "spark-3.2.1-bin-hadoop3.2/examples/src/main/python/logistic_regression.py\n",
            "spark-3.2.1-bin-hadoop3.2/examples/src/main/python/ml/\n",
            "spark-3.2.1-bin-hadoop3.2/examples/src/main/python/ml/aft_survival_regression.py\n",
            "spark-3.2.1-bin-hadoop3.2/examples/src/main/python/ml/als_example.py\n",
            "spark-3.2.1-bin-hadoop3.2/examples/src/main/python/ml/binarizer_example.py\n",
            "spark-3.2.1-bin-hadoop3.2/examples/src/main/python/ml/bisecting_k_means_example.py\n",
            "spark-3.2.1-bin-hadoop3.2/examples/src/main/python/ml/bucketed_random_projection_lsh_example.py\n",
            "spark-3.2.1-bin-hadoop3.2/examples/src/main/python/ml/bucketizer_example.py\n",
            "spark-3.2.1-bin-hadoop3.2/examples/src/main/python/ml/chi_square_test_example.py\n",
            "spark-3.2.1-bin-hadoop3.2/examples/src/main/python/ml/chisq_selector_example.py\n",
            "spark-3.2.1-bin-hadoop3.2/examples/src/main/python/ml/correlation_example.py\n",
            "spark-3.2.1-bin-hadoop3.2/examples/src/main/python/ml/count_vectorizer_example.py\n",
            "spark-3.2.1-bin-hadoop3.2/examples/src/main/python/ml/cross_validator.py\n",
            "spark-3.2.1-bin-hadoop3.2/examples/src/main/python/ml/dataframe_example.py\n",
            "spark-3.2.1-bin-hadoop3.2/examples/src/main/python/ml/dct_example.py\n",
            "spark-3.2.1-bin-hadoop3.2/examples/src/main/python/ml/decision_tree_classification_example.py\n",
            "spark-3.2.1-bin-hadoop3.2/examples/src/main/python/ml/decision_tree_regression_example.py\n",
            "spark-3.2.1-bin-hadoop3.2/examples/src/main/python/ml/elementwise_product_example.py\n",
            "spark-3.2.1-bin-hadoop3.2/examples/src/main/python/ml/estimator_transformer_param_example.py\n",
            "spark-3.2.1-bin-hadoop3.2/examples/src/main/python/ml/feature_hasher_example.py\n",
            "spark-3.2.1-bin-hadoop3.2/examples/src/main/python/ml/fm_classifier_example.py\n",
            "spark-3.2.1-bin-hadoop3.2/examples/src/main/python/ml/fm_regressor_example.py\n",
            "spark-3.2.1-bin-hadoop3.2/examples/src/main/python/ml/fpgrowth_example.py\n",
            "spark-3.2.1-bin-hadoop3.2/examples/src/main/python/ml/gaussian_mixture_example.py\n",
            "spark-3.2.1-bin-hadoop3.2/examples/src/main/python/ml/generalized_linear_regression_example.py\n",
            "spark-3.2.1-bin-hadoop3.2/examples/src/main/python/ml/gradient_boosted_tree_classifier_example.py\n",
            "spark-3.2.1-bin-hadoop3.2/examples/src/main/python/ml/gradient_boosted_tree_regressor_example.py\n",
            "spark-3.2.1-bin-hadoop3.2/examples/src/main/python/ml/imputer_example.py\n",
            "spark-3.2.1-bin-hadoop3.2/examples/src/main/python/ml/index_to_string_example.py\n",
            "spark-3.2.1-bin-hadoop3.2/examples/src/main/python/ml/interaction_example.py\n",
            "spark-3.2.1-bin-hadoop3.2/examples/src/main/python/ml/isotonic_regression_example.py\n",
            "spark-3.2.1-bin-hadoop3.2/examples/src/main/python/ml/kmeans_example.py\n",
            "spark-3.2.1-bin-hadoop3.2/examples/src/main/python/ml/lda_example.py\n",
            "spark-3.2.1-bin-hadoop3.2/examples/src/main/python/ml/linear_regression_with_elastic_net.py\n",
            "spark-3.2.1-bin-hadoop3.2/examples/src/main/python/ml/linearsvc.py\n",
            "spark-3.2.1-bin-hadoop3.2/examples/src/main/python/ml/logistic_regression_summary_example.py\n",
            "spark-3.2.1-bin-hadoop3.2/examples/src/main/python/ml/logistic_regression_with_elastic_net.py\n",
            "spark-3.2.1-bin-hadoop3.2/examples/src/main/python/ml/max_abs_scaler_example.py\n",
            "spark-3.2.1-bin-hadoop3.2/examples/src/main/python/ml/min_hash_lsh_example.py\n",
            "spark-3.2.1-bin-hadoop3.2/examples/src/main/python/ml/min_max_scaler_example.py\n",
            "spark-3.2.1-bin-hadoop3.2/examples/src/main/python/ml/multiclass_logistic_regression_with_elastic_net.py\n",
            "spark-3.2.1-bin-hadoop3.2/examples/src/main/python/ml/multilayer_perceptron_classification.py\n",
            "spark-3.2.1-bin-hadoop3.2/examples/src/main/python/ml/n_gram_example.py\n",
            "spark-3.2.1-bin-hadoop3.2/examples/src/main/python/ml/naive_bayes_example.py\n",
            "spark-3.2.1-bin-hadoop3.2/examples/src/main/python/ml/normalizer_example.py\n",
            "spark-3.2.1-bin-hadoop3.2/examples/src/main/python/ml/one_vs_rest_example.py\n",
            "spark-3.2.1-bin-hadoop3.2/examples/src/main/python/ml/onehot_encoder_example.py\n",
            "spark-3.2.1-bin-hadoop3.2/examples/src/main/python/ml/pca_example.py\n",
            "spark-3.2.1-bin-hadoop3.2/examples/src/main/python/ml/pipeline_example.py\n",
            "spark-3.2.1-bin-hadoop3.2/examples/src/main/python/ml/polynomial_expansion_example.py\n",
            "spark-3.2.1-bin-hadoop3.2/examples/src/main/python/ml/power_iteration_clustering_example.py\n",
            "spark-3.2.1-bin-hadoop3.2/examples/src/main/python/ml/prefixspan_example.py\n",
            "spark-3.2.1-bin-hadoop3.2/examples/src/main/python/ml/quantile_discretizer_example.py\n",
            "spark-3.2.1-bin-hadoop3.2/examples/src/main/python/ml/random_forest_classifier_example.py\n",
            "spark-3.2.1-bin-hadoop3.2/examples/src/main/python/ml/random_forest_regressor_example.py\n",
            "spark-3.2.1-bin-hadoop3.2/examples/src/main/python/ml/rformula_example.py\n",
            "spark-3.2.1-bin-hadoop3.2/examples/src/main/python/ml/robust_scaler_example.py\n",
            "spark-3.2.1-bin-hadoop3.2/examples/src/main/python/ml/sql_transformer.py\n",
            "spark-3.2.1-bin-hadoop3.2/examples/src/main/python/ml/standard_scaler_example.py\n",
            "spark-3.2.1-bin-hadoop3.2/examples/src/main/python/ml/stopwords_remover_example.py\n",
            "spark-3.2.1-bin-hadoop3.2/examples/src/main/python/ml/string_indexer_example.py\n",
            "spark-3.2.1-bin-hadoop3.2/examples/src/main/python/ml/summarizer_example.py\n",
            "spark-3.2.1-bin-hadoop3.2/examples/src/main/python/ml/tf_idf_example.py\n",
            "spark-3.2.1-bin-hadoop3.2/examples/src/main/python/ml/tokenizer_example.py\n",
            "spark-3.2.1-bin-hadoop3.2/examples/src/main/python/ml/train_validation_split.py\n",
            "spark-3.2.1-bin-hadoop3.2/examples/src/main/python/ml/univariate_feature_selector_example.py\n",
            "spark-3.2.1-bin-hadoop3.2/examples/src/main/python/ml/variance_threshold_selector_example.py\n",
            "spark-3.2.1-bin-hadoop3.2/examples/src/main/python/ml/vector_assembler_example.py\n",
            "spark-3.2.1-bin-hadoop3.2/examples/src/main/python/ml/vector_indexer_example.py\n",
            "spark-3.2.1-bin-hadoop3.2/examples/src/main/python/ml/vector_size_hint_example.py\n",
            "spark-3.2.1-bin-hadoop3.2/examples/src/main/python/ml/vector_slicer_example.py\n",
            "spark-3.2.1-bin-hadoop3.2/examples/src/main/python/ml/word2vec_example.py\n",
            "spark-3.2.1-bin-hadoop3.2/examples/src/main/python/mllib/\n",
            "spark-3.2.1-bin-hadoop3.2/examples/src/main/python/mllib/binary_classification_metrics_example.py\n",
            "spark-3.2.1-bin-hadoop3.2/examples/src/main/python/mllib/bisecting_k_means_example.py\n",
            "spark-3.2.1-bin-hadoop3.2/examples/src/main/python/mllib/correlations.py\n",
            "spark-3.2.1-bin-hadoop3.2/examples/src/main/python/mllib/correlations_example.py\n",
            "spark-3.2.1-bin-hadoop3.2/examples/src/main/python/mllib/decision_tree_classification_example.py\n",
            "spark-3.2.1-bin-hadoop3.2/examples/src/main/python/mllib/decision_tree_regression_example.py\n",
            "spark-3.2.1-bin-hadoop3.2/examples/src/main/python/mllib/elementwise_product_example.py\n",
            "spark-3.2.1-bin-hadoop3.2/examples/src/main/python/mllib/fpgrowth_example.py\n",
            "spark-3.2.1-bin-hadoop3.2/examples/src/main/python/mllib/gaussian_mixture_example.py\n",
            "spark-3.2.1-bin-hadoop3.2/examples/src/main/python/mllib/gaussian_mixture_model.py\n",
            "spark-3.2.1-bin-hadoop3.2/examples/src/main/python/mllib/gradient_boosting_classification_example.py\n",
            "spark-3.2.1-bin-hadoop3.2/examples/src/main/python/mllib/gradient_boosting_regression_example.py\n",
            "spark-3.2.1-bin-hadoop3.2/examples/src/main/python/mllib/hypothesis_testing_example.py\n",
            "spark-3.2.1-bin-hadoop3.2/examples/src/main/python/mllib/hypothesis_testing_kolmogorov_smirnov_test_example.py\n",
            "spark-3.2.1-bin-hadoop3.2/examples/src/main/python/mllib/isotonic_regression_example.py\n",
            "spark-3.2.1-bin-hadoop3.2/examples/src/main/python/mllib/k_means_example.py\n",
            "spark-3.2.1-bin-hadoop3.2/examples/src/main/python/mllib/kernel_density_estimation_example.py\n",
            "spark-3.2.1-bin-hadoop3.2/examples/src/main/python/mllib/kmeans.py\n",
            "spark-3.2.1-bin-hadoop3.2/examples/src/main/python/mllib/latent_dirichlet_allocation_example.py\n",
            "spark-3.2.1-bin-hadoop3.2/examples/src/main/python/mllib/linear_regression_with_sgd_example.py\n",
            "spark-3.2.1-bin-hadoop3.2/examples/src/main/python/mllib/logistic_regression.py\n",
            "spark-3.2.1-bin-hadoop3.2/examples/src/main/python/mllib/logistic_regression_with_lbfgs_example.py\n",
            "spark-3.2.1-bin-hadoop3.2/examples/src/main/python/mllib/multi_class_metrics_example.py\n",
            "spark-3.2.1-bin-hadoop3.2/examples/src/main/python/mllib/multi_label_metrics_example.py\n",
            "spark-3.2.1-bin-hadoop3.2/examples/src/main/python/mllib/naive_bayes_example.py\n",
            "spark-3.2.1-bin-hadoop3.2/examples/src/main/python/mllib/normalizer_example.py\n",
            "spark-3.2.1-bin-hadoop3.2/examples/src/main/python/mllib/pca_rowmatrix_example.py\n",
            "spark-3.2.1-bin-hadoop3.2/examples/src/main/python/mllib/power_iteration_clustering_example.py\n",
            "spark-3.2.1-bin-hadoop3.2/examples/src/main/python/mllib/random_forest_classification_example.py\n",
            "spark-3.2.1-bin-hadoop3.2/examples/src/main/python/mllib/random_forest_regression_example.py\n",
            "spark-3.2.1-bin-hadoop3.2/examples/src/main/python/mllib/random_rdd_generation.py\n",
            "spark-3.2.1-bin-hadoop3.2/examples/src/main/python/mllib/ranking_metrics_example.py\n",
            "spark-3.2.1-bin-hadoop3.2/examples/src/main/python/mllib/recommendation_example.py\n",
            "spark-3.2.1-bin-hadoop3.2/examples/src/main/python/mllib/regression_metrics_example.py\n",
            "spark-3.2.1-bin-hadoop3.2/examples/src/main/python/mllib/sampled_rdds.py\n",
            "spark-3.2.1-bin-hadoop3.2/examples/src/main/python/mllib/standard_scaler_example.py\n",
            "spark-3.2.1-bin-hadoop3.2/examples/src/main/python/mllib/stratified_sampling_example.py\n",
            "spark-3.2.1-bin-hadoop3.2/examples/src/main/python/mllib/streaming_k_means_example.py\n",
            "spark-3.2.1-bin-hadoop3.2/examples/src/main/python/mllib/streaming_linear_regression_example.py\n",
            "spark-3.2.1-bin-hadoop3.2/examples/src/main/python/mllib/summary_statistics_example.py\n",
            "spark-3.2.1-bin-hadoop3.2/examples/src/main/python/mllib/svd_example.py\n",
            "spark-3.2.1-bin-hadoop3.2/examples/src/main/python/mllib/svm_with_sgd_example.py\n",
            "spark-3.2.1-bin-hadoop3.2/examples/src/main/python/mllib/tf_idf_example.py\n",
            "spark-3.2.1-bin-hadoop3.2/examples/src/main/python/mllib/word2vec.py\n",
            "spark-3.2.1-bin-hadoop3.2/examples/src/main/python/mllib/word2vec_example.py\n",
            "spark-3.2.1-bin-hadoop3.2/examples/src/main/python/pagerank.py\n",
            "spark-3.2.1-bin-hadoop3.2/examples/src/main/python/parquet_inputformat.py\n",
            "spark-3.2.1-bin-hadoop3.2/examples/src/main/python/pi.py\n",
            "spark-3.2.1-bin-hadoop3.2/examples/src/main/python/sort.py\n",
            "spark-3.2.1-bin-hadoop3.2/examples/src/main/python/sql/\n",
            "spark-3.2.1-bin-hadoop3.2/examples/src/main/python/sql/arrow.py\n",
            "spark-3.2.1-bin-hadoop3.2/examples/src/main/python/sql/basic.py\n",
            "spark-3.2.1-bin-hadoop3.2/examples/src/main/python/sql/datasource.py\n",
            "spark-3.2.1-bin-hadoop3.2/examples/src/main/python/sql/hive.py\n",
            "spark-3.2.1-bin-hadoop3.2/examples/src/main/python/sql/streaming/\n",
            "spark-3.2.1-bin-hadoop3.2/examples/src/main/python/sql/streaming/structured_kafka_wordcount.py\n",
            "spark-3.2.1-bin-hadoop3.2/examples/src/main/python/sql/streaming/structured_network_wordcount.py\n",
            "spark-3.2.1-bin-hadoop3.2/examples/src/main/python/sql/streaming/structured_network_wordcount_windowed.py\n",
            "spark-3.2.1-bin-hadoop3.2/examples/src/main/python/sql/streaming/structured_sessionization.py\n",
            "spark-3.2.1-bin-hadoop3.2/examples/src/main/python/status_api_demo.py\n",
            "spark-3.2.1-bin-hadoop3.2/examples/src/main/python/streaming/\n",
            "spark-3.2.1-bin-hadoop3.2/examples/src/main/python/streaming/hdfs_wordcount.py\n",
            "spark-3.2.1-bin-hadoop3.2/examples/src/main/python/streaming/network_wordcount.py\n",
            "spark-3.2.1-bin-hadoop3.2/examples/src/main/python/streaming/network_wordjoinsentiments.py\n",
            "spark-3.2.1-bin-hadoop3.2/examples/src/main/python/streaming/queue_stream.py\n",
            "spark-3.2.1-bin-hadoop3.2/examples/src/main/python/streaming/recoverable_network_wordcount.py\n",
            "spark-3.2.1-bin-hadoop3.2/examples/src/main/python/streaming/sql_network_wordcount.py\n",
            "spark-3.2.1-bin-hadoop3.2/examples/src/main/python/streaming/stateful_network_wordcount.py\n",
            "spark-3.2.1-bin-hadoop3.2/examples/src/main/python/transitive_closure.py\n",
            "spark-3.2.1-bin-hadoop3.2/examples/src/main/python/wordcount.py\n",
            "spark-3.2.1-bin-hadoop3.2/examples/src/main/r/\n",
            "spark-3.2.1-bin-hadoop3.2/examples/src/main/r/RSparkSQLExample.R\n",
            "spark-3.2.1-bin-hadoop3.2/examples/src/main/r/data-manipulation.R\n",
            "spark-3.2.1-bin-hadoop3.2/examples/src/main/r/dataframe.R\n",
            "spark-3.2.1-bin-hadoop3.2/examples/src/main/r/ml/\n",
            "spark-3.2.1-bin-hadoop3.2/examples/src/main/r/ml/als.R\n",
            "spark-3.2.1-bin-hadoop3.2/examples/src/main/r/ml/bisectingKmeans.R\n",
            "spark-3.2.1-bin-hadoop3.2/examples/src/main/r/ml/decisionTree.R\n",
            "spark-3.2.1-bin-hadoop3.2/examples/src/main/r/ml/fmClassifier.R\n",
            "spark-3.2.1-bin-hadoop3.2/examples/src/main/r/ml/fmRegressor.R\n",
            "spark-3.2.1-bin-hadoop3.2/examples/src/main/r/ml/fpm.R\n",
            "spark-3.2.1-bin-hadoop3.2/examples/src/main/r/ml/gaussianMixture.R\n",
            "spark-3.2.1-bin-hadoop3.2/examples/src/main/r/ml/gbt.R\n",
            "spark-3.2.1-bin-hadoop3.2/examples/src/main/r/ml/glm.R\n",
            "spark-3.2.1-bin-hadoop3.2/examples/src/main/r/ml/isoreg.R\n",
            "spark-3.2.1-bin-hadoop3.2/examples/src/main/r/ml/kmeans.R\n",
            "spark-3.2.1-bin-hadoop3.2/examples/src/main/r/ml/kstest.R\n",
            "spark-3.2.1-bin-hadoop3.2/examples/src/main/r/ml/lda.R\n",
            "spark-3.2.1-bin-hadoop3.2/examples/src/main/r/ml/lm_with_elastic_net.R\n",
            "spark-3.2.1-bin-hadoop3.2/examples/src/main/r/ml/logit.R\n",
            "spark-3.2.1-bin-hadoop3.2/examples/src/main/r/ml/ml.R\n",
            "spark-3.2.1-bin-hadoop3.2/examples/src/main/r/ml/mlp.R\n",
            "spark-3.2.1-bin-hadoop3.2/examples/src/main/r/ml/naiveBayes.R\n",
            "spark-3.2.1-bin-hadoop3.2/examples/src/main/r/ml/powerIterationClustering.R\n",
            "spark-3.2.1-bin-hadoop3.2/examples/src/main/r/ml/prefixSpan.R\n",
            "spark-3.2.1-bin-hadoop3.2/examples/src/main/r/ml/randomForest.R\n",
            "spark-3.2.1-bin-hadoop3.2/examples/src/main/r/ml/survreg.R\n",
            "spark-3.2.1-bin-hadoop3.2/examples/src/main/r/ml/svmLinear.R\n",
            "spark-3.2.1-bin-hadoop3.2/examples/src/main/r/streaming/\n",
            "spark-3.2.1-bin-hadoop3.2/examples/src/main/r/streaming/structured_network_wordcount.R\n",
            "spark-3.2.1-bin-hadoop3.2/examples/src/main/resources/\n",
            "spark-3.2.1-bin-hadoop3.2/examples/src/main/resources/META-INF/\n",
            "spark-3.2.1-bin-hadoop3.2/examples/src/main/resources/META-INF/services/\n",
            "spark-3.2.1-bin-hadoop3.2/examples/src/main/resources/META-INF/services/org.apache.spark.sql.SparkSessionExtensionsProvider\n",
            "spark-3.2.1-bin-hadoop3.2/examples/src/main/resources/META-INF/services/org.apache.spark.sql.jdbc.JdbcConnectionProvider\n",
            "spark-3.2.1-bin-hadoop3.2/examples/src/main/resources/dir1/\n",
            "spark-3.2.1-bin-hadoop3.2/examples/src/main/resources/dir1/dir2/\n",
            "spark-3.2.1-bin-hadoop3.2/examples/src/main/resources/dir1/dir2/file2.parquet\n",
            "spark-3.2.1-bin-hadoop3.2/examples/src/main/resources/dir1/file1.parquet\n",
            "spark-3.2.1-bin-hadoop3.2/examples/src/main/resources/dir1/file3.json\n",
            "spark-3.2.1-bin-hadoop3.2/examples/src/main/resources/employees.json\n",
            "spark-3.2.1-bin-hadoop3.2/examples/src/main/resources/full_user.avsc\n",
            "spark-3.2.1-bin-hadoop3.2/examples/src/main/resources/kv1.txt\n",
            "spark-3.2.1-bin-hadoop3.2/examples/src/main/resources/people.csv\n",
            "spark-3.2.1-bin-hadoop3.2/examples/src/main/resources/people.json\n",
            "spark-3.2.1-bin-hadoop3.2/examples/src/main/resources/people.txt\n",
            "spark-3.2.1-bin-hadoop3.2/examples/src/main/resources/user.avsc\n",
            "spark-3.2.1-bin-hadoop3.2/examples/src/main/resources/users.avro\n",
            "spark-3.2.1-bin-hadoop3.2/examples/src/main/resources/users.orc\n",
            "spark-3.2.1-bin-hadoop3.2/examples/src/main/resources/users.parquet\n",
            "spark-3.2.1-bin-hadoop3.2/examples/src/main/scala/\n",
            "spark-3.2.1-bin-hadoop3.2/examples/src/main/scala/org/\n",
            "spark-3.2.1-bin-hadoop3.2/examples/src/main/scala/org/apache/\n",
            "spark-3.2.1-bin-hadoop3.2/examples/src/main/scala/org/apache/spark/\n",
            "spark-3.2.1-bin-hadoop3.2/examples/src/main/scala/org/apache/spark/examples/\n",
            "spark-3.2.1-bin-hadoop3.2/examples/src/main/scala/org/apache/spark/examples/AccumulatorMetricsTest.scala\n",
            "spark-3.2.1-bin-hadoop3.2/examples/src/main/scala/org/apache/spark/examples/BroadcastTest.scala\n",
            "spark-3.2.1-bin-hadoop3.2/examples/src/main/scala/org/apache/spark/examples/DFSReadWriteTest.scala\n",
            "spark-3.2.1-bin-hadoop3.2/examples/src/main/scala/org/apache/spark/examples/DriverSubmissionTest.scala\n",
            "spark-3.2.1-bin-hadoop3.2/examples/src/main/scala/org/apache/spark/examples/ExceptionHandlingTest.scala\n",
            "spark-3.2.1-bin-hadoop3.2/examples/src/main/scala/org/apache/spark/examples/GroupByTest.scala\n",
            "spark-3.2.1-bin-hadoop3.2/examples/src/main/scala/org/apache/spark/examples/HdfsTest.scala\n",
            "spark-3.2.1-bin-hadoop3.2/examples/src/main/scala/org/apache/spark/examples/LocalALS.scala\n",
            "spark-3.2.1-bin-hadoop3.2/examples/src/main/scala/org/apache/spark/examples/LocalFileLR.scala\n",
            "spark-3.2.1-bin-hadoop3.2/examples/src/main/scala/org/apache/spark/examples/LocalKMeans.scala\n",
            "spark-3.2.1-bin-hadoop3.2/examples/src/main/scala/org/apache/spark/examples/LocalLR.scala\n",
            "spark-3.2.1-bin-hadoop3.2/examples/src/main/scala/org/apache/spark/examples/LocalPi.scala\n",
            "spark-3.2.1-bin-hadoop3.2/examples/src/main/scala/org/apache/spark/examples/LogQuery.scala\n",
            "spark-3.2.1-bin-hadoop3.2/examples/src/main/scala/org/apache/spark/examples/MultiBroadcastTest.scala\n",
            "spark-3.2.1-bin-hadoop3.2/examples/src/main/scala/org/apache/spark/examples/SimpleSkewedGroupByTest.scala\n",
            "spark-3.2.1-bin-hadoop3.2/examples/src/main/scala/org/apache/spark/examples/SkewedGroupByTest.scala\n",
            "spark-3.2.1-bin-hadoop3.2/examples/src/main/scala/org/apache/spark/examples/SparkALS.scala\n",
            "spark-3.2.1-bin-hadoop3.2/examples/src/main/scala/org/apache/spark/examples/SparkHdfsLR.scala\n",
            "spark-3.2.1-bin-hadoop3.2/examples/src/main/scala/org/apache/spark/examples/SparkKMeans.scala\n",
            "spark-3.2.1-bin-hadoop3.2/examples/src/main/scala/org/apache/spark/examples/SparkLR.scala\n",
            "spark-3.2.1-bin-hadoop3.2/examples/src/main/scala/org/apache/spark/examples/SparkPageRank.scala\n",
            "spark-3.2.1-bin-hadoop3.2/examples/src/main/scala/org/apache/spark/examples/SparkPi.scala\n",
            "spark-3.2.1-bin-hadoop3.2/examples/src/main/scala/org/apache/spark/examples/SparkRemoteFileTest.scala\n",
            "spark-3.2.1-bin-hadoop3.2/examples/src/main/scala/org/apache/spark/examples/SparkTC.scala\n",
            "spark-3.2.1-bin-hadoop3.2/examples/src/main/scala/org/apache/spark/examples/extensions/\n",
            "spark-3.2.1-bin-hadoop3.2/examples/src/main/scala/org/apache/spark/examples/extensions/AgeExample.scala\n",
            "spark-3.2.1-bin-hadoop3.2/examples/src/main/scala/org/apache/spark/examples/extensions/SessionExtensionsWithLoader.scala\n",
            "spark-3.2.1-bin-hadoop3.2/examples/src/main/scala/org/apache/spark/examples/extensions/SessionExtensionsWithoutLoader.scala\n",
            "spark-3.2.1-bin-hadoop3.2/examples/src/main/scala/org/apache/spark/examples/extensions/SparkSessionExtensionsTest.scala\n",
            "spark-3.2.1-bin-hadoop3.2/examples/src/main/scala/org/apache/spark/examples/graphx/\n",
            "spark-3.2.1-bin-hadoop3.2/examples/src/main/scala/org/apache/spark/examples/graphx/AggregateMessagesExample.scala\n",
            "spark-3.2.1-bin-hadoop3.2/examples/src/main/scala/org/apache/spark/examples/graphx/Analytics.scala\n",
            "spark-3.2.1-bin-hadoop3.2/examples/src/main/scala/org/apache/spark/examples/graphx/ComprehensiveExample.scala\n",
            "spark-3.2.1-bin-hadoop3.2/examples/src/main/scala/org/apache/spark/examples/graphx/ConnectedComponentsExample.scala\n",
            "spark-3.2.1-bin-hadoop3.2/examples/src/main/scala/org/apache/spark/examples/graphx/LiveJournalPageRank.scala\n",
            "spark-3.2.1-bin-hadoop3.2/examples/src/main/scala/org/apache/spark/examples/graphx/PageRankExample.scala\n",
            "spark-3.2.1-bin-hadoop3.2/examples/src/main/scala/org/apache/spark/examples/graphx/SSSPExample.scala\n",
            "spark-3.2.1-bin-hadoop3.2/examples/src/main/scala/org/apache/spark/examples/graphx/SynthBenchmark.scala\n",
            "spark-3.2.1-bin-hadoop3.2/examples/src/main/scala/org/apache/spark/examples/graphx/TriangleCountingExample.scala\n",
            "spark-3.2.1-bin-hadoop3.2/examples/src/main/scala/org/apache/spark/examples/ml/\n",
            "spark-3.2.1-bin-hadoop3.2/examples/src/main/scala/org/apache/spark/examples/ml/AFTSurvivalRegressionExample.scala\n",
            "spark-3.2.1-bin-hadoop3.2/examples/src/main/scala/org/apache/spark/examples/ml/ALSExample.scala\n",
            "spark-3.2.1-bin-hadoop3.2/examples/src/main/scala/org/apache/spark/examples/ml/BinarizerExample.scala\n",
            "spark-3.2.1-bin-hadoop3.2/examples/src/main/scala/org/apache/spark/examples/ml/BisectingKMeansExample.scala\n",
            "spark-3.2.1-bin-hadoop3.2/examples/src/main/scala/org/apache/spark/examples/ml/BucketedRandomProjectionLSHExample.scala\n",
            "spark-3.2.1-bin-hadoop3.2/examples/src/main/scala/org/apache/spark/examples/ml/BucketizerExample.scala\n",
            "spark-3.2.1-bin-hadoop3.2/examples/src/main/scala/org/apache/spark/examples/ml/ChiSqSelectorExample.scala\n",
            "spark-3.2.1-bin-hadoop3.2/examples/src/main/scala/org/apache/spark/examples/ml/ChiSquareTestExample.scala\n",
            "spark-3.2.1-bin-hadoop3.2/examples/src/main/scala/org/apache/spark/examples/ml/CorrelationExample.scala\n",
            "spark-3.2.1-bin-hadoop3.2/examples/src/main/scala/org/apache/spark/examples/ml/CountVectorizerExample.scala\n",
            "spark-3.2.1-bin-hadoop3.2/examples/src/main/scala/org/apache/spark/examples/ml/DCTExample.scala\n",
            "spark-3.2.1-bin-hadoop3.2/examples/src/main/scala/org/apache/spark/examples/ml/DataFrameExample.scala\n",
            "spark-3.2.1-bin-hadoop3.2/examples/src/main/scala/org/apache/spark/examples/ml/DecisionTreeClassificationExample.scala\n",
            "spark-3.2.1-bin-hadoop3.2/examples/src/main/scala/org/apache/spark/examples/ml/DecisionTreeExample.scala\n",
            "spark-3.2.1-bin-hadoop3.2/examples/src/main/scala/org/apache/spark/examples/ml/DecisionTreeRegressionExample.scala\n",
            "spark-3.2.1-bin-hadoop3.2/examples/src/main/scala/org/apache/spark/examples/ml/DeveloperApiExample.scala\n",
            "spark-3.2.1-bin-hadoop3.2/examples/src/main/scala/org/apache/spark/examples/ml/ElementwiseProductExample.scala\n",
            "spark-3.2.1-bin-hadoop3.2/examples/src/main/scala/org/apache/spark/examples/ml/EstimatorTransformerParamExample.scala\n",
            "spark-3.2.1-bin-hadoop3.2/examples/src/main/scala/org/apache/spark/examples/ml/FMClassifierExample.scala\n",
            "spark-3.2.1-bin-hadoop3.2/examples/src/main/scala/org/apache/spark/examples/ml/FMRegressorExample.scala\n",
            "spark-3.2.1-bin-hadoop3.2/examples/src/main/scala/org/apache/spark/examples/ml/FPGrowthExample.scala\n",
            "spark-3.2.1-bin-hadoop3.2/examples/src/main/scala/org/apache/spark/examples/ml/FeatureHasherExample.scala\n",
            "spark-3.2.1-bin-hadoop3.2/examples/src/main/scala/org/apache/spark/examples/ml/GBTExample.scala\n",
            "spark-3.2.1-bin-hadoop3.2/examples/src/main/scala/org/apache/spark/examples/ml/GaussianMixtureExample.scala\n",
            "spark-3.2.1-bin-hadoop3.2/examples/src/main/scala/org/apache/spark/examples/ml/GeneralizedLinearRegressionExample.scala\n",
            "spark-3.2.1-bin-hadoop3.2/examples/src/main/scala/org/apache/spark/examples/ml/GradientBoostedTreeClassifierExample.scala\n",
            "spark-3.2.1-bin-hadoop3.2/examples/src/main/scala/org/apache/spark/examples/ml/GradientBoostedTreeRegressorExample.scala\n",
            "spark-3.2.1-bin-hadoop3.2/examples/src/main/scala/org/apache/spark/examples/ml/ImputerExample.scala\n",
            "spark-3.2.1-bin-hadoop3.2/examples/src/main/scala/org/apache/spark/examples/ml/IndexToStringExample.scala\n",
            "spark-3.2.1-bin-hadoop3.2/examples/src/main/scala/org/apache/spark/examples/ml/InteractionExample.scala\n",
            "spark-3.2.1-bin-hadoop3.2/examples/src/main/scala/org/apache/spark/examples/ml/IsotonicRegressionExample.scala\n",
            "spark-3.2.1-bin-hadoop3.2/examples/src/main/scala/org/apache/spark/examples/ml/KMeansExample.scala\n",
            "spark-3.2.1-bin-hadoop3.2/examples/src/main/scala/org/apache/spark/examples/ml/LDAExample.scala\n",
            "spark-3.2.1-bin-hadoop3.2/examples/src/main/scala/org/apache/spark/examples/ml/LinearRegressionExample.scala\n",
            "spark-3.2.1-bin-hadoop3.2/examples/src/main/scala/org/apache/spark/examples/ml/LinearRegressionWithElasticNetExample.scala\n",
            "spark-3.2.1-bin-hadoop3.2/examples/src/main/scala/org/apache/spark/examples/ml/LinearSVCExample.scala\n",
            "spark-3.2.1-bin-hadoop3.2/examples/src/main/scala/org/apache/spark/examples/ml/LogisticRegressionExample.scala\n",
            "spark-3.2.1-bin-hadoop3.2/examples/src/main/scala/org/apache/spark/examples/ml/LogisticRegressionSummaryExample.scala\n",
            "spark-3.2.1-bin-hadoop3.2/examples/src/main/scala/org/apache/spark/examples/ml/LogisticRegressionWithElasticNetExample.scala\n",
            "spark-3.2.1-bin-hadoop3.2/examples/src/main/scala/org/apache/spark/examples/ml/MaxAbsScalerExample.scala\n",
            "spark-3.2.1-bin-hadoop3.2/examples/src/main/scala/org/apache/spark/examples/ml/MinHashLSHExample.scala\n",
            "spark-3.2.1-bin-hadoop3.2/examples/src/main/scala/org/apache/spark/examples/ml/MinMaxScalerExample.scala\n",
            "spark-3.2.1-bin-hadoop3.2/examples/src/main/scala/org/apache/spark/examples/ml/ModelSelectionViaCrossValidationExample.scala\n",
            "spark-3.2.1-bin-hadoop3.2/examples/src/main/scala/org/apache/spark/examples/ml/ModelSelectionViaTrainValidationSplitExample.scala\n",
            "spark-3.2.1-bin-hadoop3.2/examples/src/main/scala/org/apache/spark/examples/ml/MulticlassLogisticRegressionWithElasticNetExample.scala\n",
            "spark-3.2.1-bin-hadoop3.2/examples/src/main/scala/org/apache/spark/examples/ml/MultilayerPerceptronClassifierExample.scala\n",
            "spark-3.2.1-bin-hadoop3.2/examples/src/main/scala/org/apache/spark/examples/ml/NGramExample.scala\n",
            "spark-3.2.1-bin-hadoop3.2/examples/src/main/scala/org/apache/spark/examples/ml/NaiveBayesExample.scala\n",
            "spark-3.2.1-bin-hadoop3.2/examples/src/main/scala/org/apache/spark/examples/ml/NormalizerExample.scala\n",
            "spark-3.2.1-bin-hadoop3.2/examples/src/main/scala/org/apache/spark/examples/ml/OneHotEncoderExample.scala\n",
            "spark-3.2.1-bin-hadoop3.2/examples/src/main/scala/org/apache/spark/examples/ml/OneVsRestExample.scala\n",
            "spark-3.2.1-bin-hadoop3.2/examples/src/main/scala/org/apache/spark/examples/ml/PCAExample.scala\n",
            "spark-3.2.1-bin-hadoop3.2/examples/src/main/scala/org/apache/spark/examples/ml/PipelineExample.scala\n",
            "spark-3.2.1-bin-hadoop3.2/examples/src/main/scala/org/apache/spark/examples/ml/PolynomialExpansionExample.scala\n",
            "spark-3.2.1-bin-hadoop3.2/examples/src/main/scala/org/apache/spark/examples/ml/PowerIterationClusteringExample.scala\n",
            "spark-3.2.1-bin-hadoop3.2/examples/src/main/scala/org/apache/spark/examples/ml/PrefixSpanExample.scala\n",
            "spark-3.2.1-bin-hadoop3.2/examples/src/main/scala/org/apache/spark/examples/ml/QuantileDiscretizerExample.scala\n",
            "spark-3.2.1-bin-hadoop3.2/examples/src/main/scala/org/apache/spark/examples/ml/RFormulaExample.scala\n",
            "spark-3.2.1-bin-hadoop3.2/examples/src/main/scala/org/apache/spark/examples/ml/RandomForestClassifierExample.scala\n",
            "spark-3.2.1-bin-hadoop3.2/examples/src/main/scala/org/apache/spark/examples/ml/RandomForestExample.scala\n",
            "spark-3.2.1-bin-hadoop3.2/examples/src/main/scala/org/apache/spark/examples/ml/RandomForestRegressorExample.scala\n",
            "spark-3.2.1-bin-hadoop3.2/examples/src/main/scala/org/apache/spark/examples/ml/RobustScalerExample.scala\n",
            "spark-3.2.1-bin-hadoop3.2/examples/src/main/scala/org/apache/spark/examples/ml/SQLTransformerExample.scala\n",
            "spark-3.2.1-bin-hadoop3.2/examples/src/main/scala/org/apache/spark/examples/ml/StandardScalerExample.scala\n",
            "spark-3.2.1-bin-hadoop3.2/examples/src/main/scala/org/apache/spark/examples/ml/StopWordsRemoverExample.scala\n",
            "spark-3.2.1-bin-hadoop3.2/examples/src/main/scala/org/apache/spark/examples/ml/StringIndexerExample.scala\n",
            "spark-3.2.1-bin-hadoop3.2/examples/src/main/scala/org/apache/spark/examples/ml/SummarizerExample.scala\n",
            "spark-3.2.1-bin-hadoop3.2/examples/src/main/scala/org/apache/spark/examples/ml/TfIdfExample.scala\n",
            "spark-3.2.1-bin-hadoop3.2/examples/src/main/scala/org/apache/spark/examples/ml/TokenizerExample.scala\n",
            "spark-3.2.1-bin-hadoop3.2/examples/src/main/scala/org/apache/spark/examples/ml/UnaryTransformerExample.scala\n",
            "spark-3.2.1-bin-hadoop3.2/examples/src/main/scala/org/apache/spark/examples/ml/UnivariateFeatureSelectorExample.scala\n",
            "spark-3.2.1-bin-hadoop3.2/examples/src/main/scala/org/apache/spark/examples/ml/VarianceThresholdSelectorExample.scala\n",
            "spark-3.2.1-bin-hadoop3.2/examples/src/main/scala/org/apache/spark/examples/ml/VectorAssemblerExample.scala\n",
            "spark-3.2.1-bin-hadoop3.2/examples/src/main/scala/org/apache/spark/examples/ml/VectorIndexerExample.scala\n",
            "spark-3.2.1-bin-hadoop3.2/examples/src/main/scala/org/apache/spark/examples/ml/VectorSizeHintExample.scala\n",
            "spark-3.2.1-bin-hadoop3.2/examples/src/main/scala/org/apache/spark/examples/ml/VectorSlicerExample.scala\n",
            "spark-3.2.1-bin-hadoop3.2/examples/src/main/scala/org/apache/spark/examples/ml/Word2VecExample.scala\n",
            "spark-3.2.1-bin-hadoop3.2/examples/src/main/scala/org/apache/spark/examples/mllib/\n",
            "spark-3.2.1-bin-hadoop3.2/examples/src/main/scala/org/apache/spark/examples/mllib/AbstractParams.scala\n",
            "spark-3.2.1-bin-hadoop3.2/examples/src/main/scala/org/apache/spark/examples/mllib/AssociationRulesExample.scala\n",
            "spark-3.2.1-bin-hadoop3.2/examples/src/main/scala/org/apache/spark/examples/mllib/BinaryClassification.scala\n",
            "spark-3.2.1-bin-hadoop3.2/examples/src/main/scala/org/apache/spark/examples/mllib/BinaryClassificationMetricsExample.scala\n",
            "spark-3.2.1-bin-hadoop3.2/examples/src/main/scala/org/apache/spark/examples/mllib/BisectingKMeansExample.scala\n",
            "spark-3.2.1-bin-hadoop3.2/examples/src/main/scala/org/apache/spark/examples/mllib/ChiSqSelectorExample.scala\n",
            "spark-3.2.1-bin-hadoop3.2/examples/src/main/scala/org/apache/spark/examples/mllib/Correlations.scala\n",
            "spark-3.2.1-bin-hadoop3.2/examples/src/main/scala/org/apache/spark/examples/mllib/CorrelationsExample.scala\n",
            "spark-3.2.1-bin-hadoop3.2/examples/src/main/scala/org/apache/spark/examples/mllib/CosineSimilarity.scala\n",
            "spark-3.2.1-bin-hadoop3.2/examples/src/main/scala/org/apache/spark/examples/mllib/DecisionTreeClassificationExample.scala\n",
            "spark-3.2.1-bin-hadoop3.2/examples/src/main/scala/org/apache/spark/examples/mllib/DecisionTreeRegressionExample.scala\n",
            "spark-3.2.1-bin-hadoop3.2/examples/src/main/scala/org/apache/spark/examples/mllib/DecisionTreeRunner.scala\n",
            "spark-3.2.1-bin-hadoop3.2/examples/src/main/scala/org/apache/spark/examples/mllib/DenseKMeans.scala\n",
            "spark-3.2.1-bin-hadoop3.2/examples/src/main/scala/org/apache/spark/examples/mllib/ElementwiseProductExample.scala\n",
            "spark-3.2.1-bin-hadoop3.2/examples/src/main/scala/org/apache/spark/examples/mllib/FPGrowthExample.scala\n",
            "spark-3.2.1-bin-hadoop3.2/examples/src/main/scala/org/apache/spark/examples/mllib/GaussianMixtureExample.scala\n",
            "spark-3.2.1-bin-hadoop3.2/examples/src/main/scala/org/apache/spark/examples/mllib/GradientBoostedTreesRunner.scala\n",
            "spark-3.2.1-bin-hadoop3.2/examples/src/main/scala/org/apache/spark/examples/mllib/GradientBoostingClassificationExample.scala\n",
            "spark-3.2.1-bin-hadoop3.2/examples/src/main/scala/org/apache/spark/examples/mllib/GradientBoostingRegressionExample.scala\n",
            "spark-3.2.1-bin-hadoop3.2/examples/src/main/scala/org/apache/spark/examples/mllib/HypothesisTestingExample.scala\n",
            "spark-3.2.1-bin-hadoop3.2/examples/src/main/scala/org/apache/spark/examples/mllib/HypothesisTestingKolmogorovSmirnovTestExample.scala\n",
            "spark-3.2.1-bin-hadoop3.2/examples/src/main/scala/org/apache/spark/examples/mllib/IsotonicRegressionExample.scala\n",
            "spark-3.2.1-bin-hadoop3.2/examples/src/main/scala/org/apache/spark/examples/mllib/KMeansExample.scala\n",
            "spark-3.2.1-bin-hadoop3.2/examples/src/main/scala/org/apache/spark/examples/mllib/KernelDensityEstimationExample.scala\n",
            "spark-3.2.1-bin-hadoop3.2/examples/src/main/scala/org/apache/spark/examples/mllib/LBFGSExample.scala\n",
            "spark-3.2.1-bin-hadoop3.2/examples/src/main/scala/org/apache/spark/examples/mllib/LDAExample.scala\n",
            "spark-3.2.1-bin-hadoop3.2/examples/src/main/scala/org/apache/spark/examples/mllib/LatentDirichletAllocationExample.scala\n",
            "spark-3.2.1-bin-hadoop3.2/examples/src/main/scala/org/apache/spark/examples/mllib/LogisticRegressionWithLBFGSExample.scala\n",
            "spark-3.2.1-bin-hadoop3.2/examples/src/main/scala/org/apache/spark/examples/mllib/MovieLensALS.scala\n",
            "spark-3.2.1-bin-hadoop3.2/examples/src/main/scala/org/apache/spark/examples/mllib/MultiLabelMetricsExample.scala\n",
            "spark-3.2.1-bin-hadoop3.2/examples/src/main/scala/org/apache/spark/examples/mllib/MulticlassMetricsExample.scala\n",
            "spark-3.2.1-bin-hadoop3.2/examples/src/main/scala/org/apache/spark/examples/mllib/MultivariateSummarizer.scala\n",
            "spark-3.2.1-bin-hadoop3.2/examples/src/main/scala/org/apache/spark/examples/mllib/NaiveBayesExample.scala\n",
            "spark-3.2.1-bin-hadoop3.2/examples/src/main/scala/org/apache/spark/examples/mllib/NormalizerExample.scala\n",
            "spark-3.2.1-bin-hadoop3.2/examples/src/main/scala/org/apache/spark/examples/mllib/PCAOnRowMatrixExample.scala\n",
            "spark-3.2.1-bin-hadoop3.2/examples/src/main/scala/org/apache/spark/examples/mllib/PCAOnSourceVectorExample.scala\n",
            "spark-3.2.1-bin-hadoop3.2/examples/src/main/scala/org/apache/spark/examples/mllib/PMMLModelExportExample.scala\n",
            "spark-3.2.1-bin-hadoop3.2/examples/src/main/scala/org/apache/spark/examples/mllib/PowerIterationClusteringExample.scala\n",
            "spark-3.2.1-bin-hadoop3.2/examples/src/main/scala/org/apache/spark/examples/mllib/PrefixSpanExample.scala\n",
            "spark-3.2.1-bin-hadoop3.2/examples/src/main/scala/org/apache/spark/examples/mllib/RandomForestClassificationExample.scala\n",
            "spark-3.2.1-bin-hadoop3.2/examples/src/main/scala/org/apache/spark/examples/mllib/RandomForestRegressionExample.scala\n",
            "spark-3.2.1-bin-hadoop3.2/examples/src/main/scala/org/apache/spark/examples/mllib/RandomRDDGeneration.scala\n",
            "spark-3.2.1-bin-hadoop3.2/examples/src/main/scala/org/apache/spark/examples/mllib/RankingMetricsExample.scala\n",
            "spark-3.2.1-bin-hadoop3.2/examples/src/main/scala/org/apache/spark/examples/mllib/RecommendationExample.scala\n",
            "spark-3.2.1-bin-hadoop3.2/examples/src/main/scala/org/apache/spark/examples/mllib/SVDExample.scala\n",
            "spark-3.2.1-bin-hadoop3.2/examples/src/main/scala/org/apache/spark/examples/mllib/SVMWithSGDExample.scala\n",
            "spark-3.2.1-bin-hadoop3.2/examples/src/main/scala/org/apache/spark/examples/mllib/SampledRDDs.scala\n",
            "spark-3.2.1-bin-hadoop3.2/examples/src/main/scala/org/apache/spark/examples/mllib/SimpleFPGrowth.scala\n",
            "spark-3.2.1-bin-hadoop3.2/examples/src/main/scala/org/apache/spark/examples/mllib/SparseNaiveBayes.scala\n",
            "spark-3.2.1-bin-hadoop3.2/examples/src/main/scala/org/apache/spark/examples/mllib/StandardScalerExample.scala\n",
            "spark-3.2.1-bin-hadoop3.2/examples/src/main/scala/org/apache/spark/examples/mllib/StratifiedSamplingExample.scala\n",
            "spark-3.2.1-bin-hadoop3.2/examples/src/main/scala/org/apache/spark/examples/mllib/StreamingKMeansExample.scala\n",
            "spark-3.2.1-bin-hadoop3.2/examples/src/main/scala/org/apache/spark/examples/mllib/StreamingLinearRegressionExample.scala\n",
            "spark-3.2.1-bin-hadoop3.2/examples/src/main/scala/org/apache/spark/examples/mllib/StreamingLogisticRegression.scala\n",
            "spark-3.2.1-bin-hadoop3.2/examples/src/main/scala/org/apache/spark/examples/mllib/StreamingTestExample.scala\n",
            "spark-3.2.1-bin-hadoop3.2/examples/src/main/scala/org/apache/spark/examples/mllib/SummaryStatisticsExample.scala\n",
            "spark-3.2.1-bin-hadoop3.2/examples/src/main/scala/org/apache/spark/examples/mllib/TFIDFExample.scala\n",
            "spark-3.2.1-bin-hadoop3.2/examples/src/main/scala/org/apache/spark/examples/mllib/TallSkinnyPCA.scala\n",
            "spark-3.2.1-bin-hadoop3.2/examples/src/main/scala/org/apache/spark/examples/mllib/TallSkinnySVD.scala\n",
            "spark-3.2.1-bin-hadoop3.2/examples/src/main/scala/org/apache/spark/examples/mllib/Word2VecExample.scala\n",
            "spark-3.2.1-bin-hadoop3.2/examples/src/main/scala/org/apache/spark/examples/pythonconverters/\n",
            "spark-3.2.1-bin-hadoop3.2/examples/src/main/scala/org/apache/spark/examples/pythonconverters/AvroConverters.scala\n",
            "spark-3.2.1-bin-hadoop3.2/examples/src/main/scala/org/apache/spark/examples/sql/\n",
            "spark-3.2.1-bin-hadoop3.2/examples/src/main/scala/org/apache/spark/examples/sql/RDDRelation.scala\n",
            "spark-3.2.1-bin-hadoop3.2/examples/src/main/scala/org/apache/spark/examples/sql/SQLDataSourceExample.scala\n",
            "spark-3.2.1-bin-hadoop3.2/examples/src/main/scala/org/apache/spark/examples/sql/SimpleTypedAggregator.scala\n",
            "spark-3.2.1-bin-hadoop3.2/examples/src/main/scala/org/apache/spark/examples/sql/SparkSQLExample.scala\n",
            "spark-3.2.1-bin-hadoop3.2/examples/src/main/scala/org/apache/spark/examples/sql/UserDefinedScalar.scala\n",
            "spark-3.2.1-bin-hadoop3.2/examples/src/main/scala/org/apache/spark/examples/sql/UserDefinedTypedAggregation.scala\n",
            "spark-3.2.1-bin-hadoop3.2/examples/src/main/scala/org/apache/spark/examples/sql/UserDefinedUntypedAggregation.scala\n",
            "spark-3.2.1-bin-hadoop3.2/examples/src/main/scala/org/apache/spark/examples/sql/hive/\n",
            "spark-3.2.1-bin-hadoop3.2/examples/src/main/scala/org/apache/spark/examples/sql/hive/SparkHiveExample.scala\n",
            "spark-3.2.1-bin-hadoop3.2/examples/src/main/scala/org/apache/spark/examples/sql/jdbc/\n",
            "spark-3.2.1-bin-hadoop3.2/examples/src/main/scala/org/apache/spark/examples/sql/jdbc/ExampleJdbcConnectionProvider.scala\n",
            "spark-3.2.1-bin-hadoop3.2/examples/src/main/scala/org/apache/spark/examples/sql/streaming/\n",
            "spark-3.2.1-bin-hadoop3.2/examples/src/main/scala/org/apache/spark/examples/sql/streaming/StructuredComplexSessionization.scala\n",
            "spark-3.2.1-bin-hadoop3.2/examples/src/main/scala/org/apache/spark/examples/sql/streaming/StructuredKafkaWordCount.scala\n",
            "spark-3.2.1-bin-hadoop3.2/examples/src/main/scala/org/apache/spark/examples/sql/streaming/StructuredKerberizedKafkaWordCount.scala\n",
            "spark-3.2.1-bin-hadoop3.2/examples/src/main/scala/org/apache/spark/examples/sql/streaming/StructuredNetworkWordCount.scala\n",
            "spark-3.2.1-bin-hadoop3.2/examples/src/main/scala/org/apache/spark/examples/sql/streaming/StructuredNetworkWordCountWindowed.scala\n",
            "spark-3.2.1-bin-hadoop3.2/examples/src/main/scala/org/apache/spark/examples/sql/streaming/StructuredSessionization.scala\n",
            "spark-3.2.1-bin-hadoop3.2/examples/src/main/scala/org/apache/spark/examples/streaming/\n",
            "spark-3.2.1-bin-hadoop3.2/examples/src/main/scala/org/apache/spark/examples/streaming/CustomReceiver.scala\n",
            "spark-3.2.1-bin-hadoop3.2/examples/src/main/scala/org/apache/spark/examples/streaming/DirectKafkaWordCount.scala\n",
            "spark-3.2.1-bin-hadoop3.2/examples/src/main/scala/org/apache/spark/examples/streaming/DirectKerberizedKafkaWordCount.scala\n",
            "spark-3.2.1-bin-hadoop3.2/examples/src/main/scala/org/apache/spark/examples/streaming/HdfsWordCount.scala\n",
            "spark-3.2.1-bin-hadoop3.2/examples/src/main/scala/org/apache/spark/examples/streaming/NetworkWordCount.scala\n",
            "spark-3.2.1-bin-hadoop3.2/examples/src/main/scala/org/apache/spark/examples/streaming/QueueStream.scala\n",
            "spark-3.2.1-bin-hadoop3.2/examples/src/main/scala/org/apache/spark/examples/streaming/RawNetworkGrep.scala\n",
            "spark-3.2.1-bin-hadoop3.2/examples/src/main/scala/org/apache/spark/examples/streaming/RecoverableNetworkWordCount.scala\n",
            "spark-3.2.1-bin-hadoop3.2/examples/src/main/scala/org/apache/spark/examples/streaming/SqlNetworkWordCount.scala\n",
            "spark-3.2.1-bin-hadoop3.2/examples/src/main/scala/org/apache/spark/examples/streaming/StatefulNetworkWordCount.scala\n",
            "spark-3.2.1-bin-hadoop3.2/examples/src/main/scala/org/apache/spark/examples/streaming/StreamingExamples.scala\n",
            "spark-3.2.1-bin-hadoop3.2/examples/src/main/scala/org/apache/spark/examples/streaming/clickstream/\n",
            "spark-3.2.1-bin-hadoop3.2/examples/src/main/scala/org/apache/spark/examples/streaming/clickstream/PageViewGenerator.scala\n",
            "spark-3.2.1-bin-hadoop3.2/examples/src/main/scala/org/apache/spark/examples/streaming/clickstream/PageViewStream.scala\n",
            "spark-3.2.1-bin-hadoop3.2/examples/src/main/scripts/\n",
            "spark-3.2.1-bin-hadoop3.2/examples/src/main/scripts/getGpusResources.sh\n",
            "spark-3.2.1-bin-hadoop3.2/jars/\n",
            "spark-3.2.1-bin-hadoop3.2/jars/HikariCP-2.5.1.jar\n",
            "spark-3.2.1-bin-hadoop3.2/jars/JLargeArrays-1.5.jar\n",
            "spark-3.2.1-bin-hadoop3.2/jars/JTransforms-3.1.jar\n",
            "spark-3.2.1-bin-hadoop3.2/jars/RoaringBitmap-0.9.0.jar\n",
            "spark-3.2.1-bin-hadoop3.2/jars/ST4-4.0.4.jar\n",
            "spark-3.2.1-bin-hadoop3.2/jars/activation-1.1.1.jar\n",
            "spark-3.2.1-bin-hadoop3.2/jars/aircompressor-0.21.jar\n",
            "spark-3.2.1-bin-hadoop3.2/jars/algebra_2.12-2.0.1.jar\n",
            "spark-3.2.1-bin-hadoop3.2/jars/annotations-17.0.0.jar\n",
            "spark-3.2.1-bin-hadoop3.2/jars/antlr-runtime-3.5.2.jar\n",
            "spark-3.2.1-bin-hadoop3.2/jars/antlr4-runtime-4.8.jar\n",
            "spark-3.2.1-bin-hadoop3.2/jars/aopalliance-repackaged-2.6.1.jar\n",
            "spark-3.2.1-bin-hadoop3.2/jars/arpack-2.2.1.jar\n",
            "spark-3.2.1-bin-hadoop3.2/jars/arpack_combined_all-0.1.jar\n",
            "spark-3.2.1-bin-hadoop3.2/jars/arrow-format-2.0.0.jar\n",
            "spark-3.2.1-bin-hadoop3.2/jars/arrow-memory-core-2.0.0.jar\n",
            "spark-3.2.1-bin-hadoop3.2/jars/arrow-memory-netty-2.0.0.jar\n",
            "spark-3.2.1-bin-hadoop3.2/jars/arrow-vector-2.0.0.jar\n",
            "spark-3.2.1-bin-hadoop3.2/jars/audience-annotations-0.5.0.jar\n",
            "spark-3.2.1-bin-hadoop3.2/jars/automaton-1.11-8.jar\n",
            "spark-3.2.1-bin-hadoop3.2/jars/avro-1.10.2.jar\n",
            "spark-3.2.1-bin-hadoop3.2/jars/avro-ipc-1.10.2.jar\n",
            "spark-3.2.1-bin-hadoop3.2/jars/avro-mapred-1.10.2.jar\n",
            "spark-3.2.1-bin-hadoop3.2/jars/blas-2.2.1.jar\n",
            "spark-3.2.1-bin-hadoop3.2/jars/bonecp-0.8.0.RELEASE.jar\n",
            "spark-3.2.1-bin-hadoop3.2/jars/breeze-macros_2.12-1.2.jar\n",
            "spark-3.2.1-bin-hadoop3.2/jars/breeze_2.12-1.2.jar\n",
            "spark-3.2.1-bin-hadoop3.2/jars/cats-kernel_2.12-2.1.1.jar\n",
            "spark-3.2.1-bin-hadoop3.2/jars/chill-java-0.10.0.jar\n",
            "spark-3.2.1-bin-hadoop3.2/jars/chill_2.12-0.10.0.jar\n",
            "spark-3.2.1-bin-hadoop3.2/jars/commons-cli-1.2.jar\n",
            "spark-3.2.1-bin-hadoop3.2/jars/commons-codec-1.15.jar\n",
            "spark-3.2.1-bin-hadoop3.2/jars/commons-collections-3.2.2.jar\n",
            "spark-3.2.1-bin-hadoop3.2/jars/commons-compiler-3.0.16.jar\n",
            "spark-3.2.1-bin-hadoop3.2/jars/commons-compress-1.21.jar\n",
            "spark-3.2.1-bin-hadoop3.2/jars/commons-crypto-1.1.0.jar\n",
            "spark-3.2.1-bin-hadoop3.2/jars/commons-dbcp-1.4.jar\n",
            "spark-3.2.1-bin-hadoop3.2/jars/commons-io-2.8.0.jar\n",
            "spark-3.2.1-bin-hadoop3.2/jars/commons-lang-2.6.jar\n",
            "spark-3.2.1-bin-hadoop3.2/jars/commons-lang3-3.12.0.jar\n",
            "spark-3.2.1-bin-hadoop3.2/jars/commons-logging-1.1.3.jar\n",
            "spark-3.2.1-bin-hadoop3.2/jars/commons-math3-3.4.1.jar\n",
            "spark-3.2.1-bin-hadoop3.2/jars/commons-net-3.1.jar\n",
            "spark-3.2.1-bin-hadoop3.2/jars/commons-pool-1.5.4.jar\n",
            "spark-3.2.1-bin-hadoop3.2/jars/commons-text-1.6.jar\n",
            "spark-3.2.1-bin-hadoop3.2/jars/compress-lzf-1.0.3.jar\n",
            "spark-3.2.1-bin-hadoop3.2/jars/core-1.1.2.jar\n",
            "spark-3.2.1-bin-hadoop3.2/jars/curator-client-2.13.0.jar\n",
            "spark-3.2.1-bin-hadoop3.2/jars/curator-framework-2.13.0.jar\n",
            "spark-3.2.1-bin-hadoop3.2/jars/curator-recipes-2.13.0.jar\n",
            "spark-3.2.1-bin-hadoop3.2/jars/datanucleus-api-jdo-4.2.4.jar\n",
            "spark-3.2.1-bin-hadoop3.2/jars/datanucleus-core-4.1.17.jar\n",
            "spark-3.2.1-bin-hadoop3.2/jars/datanucleus-rdbms-4.1.19.jar\n",
            "spark-3.2.1-bin-hadoop3.2/jars/derby-10.14.2.0.jar\n",
            "spark-3.2.1-bin-hadoop3.2/jars/dropwizard-metrics-hadoop-metrics2-reporter-0.1.2.jar\n",
            "spark-3.2.1-bin-hadoop3.2/jars/flatbuffers-java-1.9.0.jar\n",
            "spark-3.2.1-bin-hadoop3.2/jars/generex-1.0.2.jar\n",
            "spark-3.2.1-bin-hadoop3.2/jars/gson-2.2.4.jar\n",
            "spark-3.2.1-bin-hadoop3.2/jars/guava-14.0.1.jar\n",
            "spark-3.2.1-bin-hadoop3.2/jars/hadoop-client-api-3.3.1.jar\n",
            "spark-3.2.1-bin-hadoop3.2/jars/hadoop-client-runtime-3.3.1.jar\n",
            "spark-3.2.1-bin-hadoop3.2/jars/hadoop-shaded-guava-1.1.1.jar\n",
            "spark-3.2.1-bin-hadoop3.2/jars/hadoop-yarn-server-web-proxy-3.3.1.jar\n",
            "spark-3.2.1-bin-hadoop3.2/jars/hive-beeline-2.3.9.jar\n",
            "spark-3.2.1-bin-hadoop3.2/jars/hive-cli-2.3.9.jar\n",
            "spark-3.2.1-bin-hadoop3.2/jars/hive-common-2.3.9.jar\n",
            "spark-3.2.1-bin-hadoop3.2/jars/hive-exec-2.3.9-core.jar\n",
            "spark-3.2.1-bin-hadoop3.2/jars/hive-jdbc-2.3.9.jar\n",
            "spark-3.2.1-bin-hadoop3.2/jars/hive-llap-common-2.3.9.jar\n",
            "spark-3.2.1-bin-hadoop3.2/jars/hive-metastore-2.3.9.jar\n",
            "spark-3.2.1-bin-hadoop3.2/jars/hive-serde-2.3.9.jar\n",
            "spark-3.2.1-bin-hadoop3.2/jars/hive-service-rpc-3.1.2.jar\n",
            "spark-3.2.1-bin-hadoop3.2/jars/hive-shims-0.23-2.3.9.jar\n",
            "spark-3.2.1-bin-hadoop3.2/jars/hive-shims-2.3.9.jar\n",
            "spark-3.2.1-bin-hadoop3.2/jars/hive-shims-common-2.3.9.jar\n",
            "spark-3.2.1-bin-hadoop3.2/jars/hive-shims-scheduler-2.3.9.jar\n",
            "spark-3.2.1-bin-hadoop3.2/jars/hive-storage-api-2.7.2.jar\n",
            "spark-3.2.1-bin-hadoop3.2/jars/hive-vector-code-gen-2.3.9.jar\n",
            "spark-3.2.1-bin-hadoop3.2/jars/hk2-api-2.6.1.jar\n",
            "spark-3.2.1-bin-hadoop3.2/jars/hk2-locator-2.6.1.jar\n",
            "spark-3.2.1-bin-hadoop3.2/jars/hk2-utils-2.6.1.jar\n",
            "spark-3.2.1-bin-hadoop3.2/jars/htrace-core4-4.1.0-incubating.jar\n",
            "spark-3.2.1-bin-hadoop3.2/jars/httpclient-4.5.13.jar\n",
            "spark-3.2.1-bin-hadoop3.2/jars/httpcore-4.4.14.jar\n",
            "spark-3.2.1-bin-hadoop3.2/jars/istack-commons-runtime-3.0.8.jar\n",
            "spark-3.2.1-bin-hadoop3.2/jars/ivy-2.5.0.jar\n",
            "spark-3.2.1-bin-hadoop3.2/jars/jackson-annotations-2.12.3.jar\n",
            "spark-3.2.1-bin-hadoop3.2/jars/jackson-core-2.12.3.jar\n",
            "spark-3.2.1-bin-hadoop3.2/jars/jackson-core-asl-1.9.13.jar\n",
            "spark-3.2.1-bin-hadoop3.2/jars/jackson-databind-2.12.3.jar\n",
            "spark-3.2.1-bin-hadoop3.2/jars/jackson-dataformat-yaml-2.12.3.jar\n",
            "spark-3.2.1-bin-hadoop3.2/jars/jackson-datatype-jsr310-2.11.2.jar\n",
            "spark-3.2.1-bin-hadoop3.2/jars/jackson-mapper-asl-1.9.13.jar\n",
            "spark-3.2.1-bin-hadoop3.2/jars/jackson-module-scala_2.12-2.12.3.jar\n",
            "spark-3.2.1-bin-hadoop3.2/jars/jakarta.annotation-api-1.3.5.jar\n",
            "spark-3.2.1-bin-hadoop3.2/jars/jakarta.inject-2.6.1.jar\n",
            "spark-3.2.1-bin-hadoop3.2/jars/jakarta.servlet-api-4.0.3.jar\n",
            "spark-3.2.1-bin-hadoop3.2/jars/jakarta.validation-api-2.0.2.jar\n",
            "spark-3.2.1-bin-hadoop3.2/jars/jakarta.ws.rs-api-2.1.6.jar\n",
            "spark-3.2.1-bin-hadoop3.2/jars/jakarta.xml.bind-api-2.3.2.jar\n",
            "spark-3.2.1-bin-hadoop3.2/jars/janino-3.0.16.jar\n",
            "spark-3.2.1-bin-hadoop3.2/jars/javassist-3.25.0-GA.jar\n",
            "spark-3.2.1-bin-hadoop3.2/jars/javax.jdo-3.2.0-m3.jar\n",
            "spark-3.2.1-bin-hadoop3.2/jars/javolution-5.5.1.jar\n",
            "spark-3.2.1-bin-hadoop3.2/jars/jaxb-api-2.2.11.jar\n",
            "spark-3.2.1-bin-hadoop3.2/jars/jaxb-runtime-2.3.2.jar\n",
            "spark-3.2.1-bin-hadoop3.2/jars/jcl-over-slf4j-1.7.30.jar\n",
            "spark-3.2.1-bin-hadoop3.2/jars/jdo-api-3.0.1.jar\n",
            "spark-3.2.1-bin-hadoop3.2/jars/jersey-client-2.34.jar\n",
            "spark-3.2.1-bin-hadoop3.2/jars/jersey-common-2.34.jar\n",
            "spark-3.2.1-bin-hadoop3.2/jars/jersey-container-servlet-2.34.jar\n",
            "spark-3.2.1-bin-hadoop3.2/jars/jersey-container-servlet-core-2.34.jar\n",
            "spark-3.2.1-bin-hadoop3.2/jars/jersey-hk2-2.34.jar\n",
            "spark-3.2.1-bin-hadoop3.2/jars/jersey-server-2.34.jar\n",
            "spark-3.2.1-bin-hadoop3.2/jars/jline-2.14.6.jar\n",
            "spark-3.2.1-bin-hadoop3.2/jars/joda-time-2.10.10.jar\n",
            "spark-3.2.1-bin-hadoop3.2/jars/jodd-core-3.5.2.jar\n",
            "spark-3.2.1-bin-hadoop3.2/jars/jpam-1.1.jar\n",
            "spark-3.2.1-bin-hadoop3.2/jars/json-1.8.jar\n",
            "spark-3.2.1-bin-hadoop3.2/jars/json4s-ast_2.12-3.7.0-M11.jar\n",
            "spark-3.2.1-bin-hadoop3.2/jars/json4s-core_2.12-3.7.0-M11.jar\n",
            "spark-3.2.1-bin-hadoop3.2/jars/json4s-jackson_2.12-3.7.0-M11.jar\n",
            "spark-3.2.1-bin-hadoop3.2/jars/json4s-scalap_2.12-3.7.0-M11.jar\n",
            "spark-3.2.1-bin-hadoop3.2/jars/jsr305-3.0.0.jar\n",
            "spark-3.2.1-bin-hadoop3.2/jars/jta-1.1.jar\n",
            "spark-3.2.1-bin-hadoop3.2/jars/jul-to-slf4j-1.7.30.jar\n",
            "spark-3.2.1-bin-hadoop3.2/jars/kryo-shaded-4.0.2.jar\n",
            "spark-3.2.1-bin-hadoop3.2/jars/kubernetes-client-5.4.1.jar\n",
            "spark-3.2.1-bin-hadoop3.2/jars/kubernetes-model-admissionregistration-5.4.1.jar\n",
            "spark-3.2.1-bin-hadoop3.2/jars/kubernetes-model-apiextensions-5.4.1.jar\n",
            "spark-3.2.1-bin-hadoop3.2/jars/kubernetes-model-apps-5.4.1.jar\n",
            "spark-3.2.1-bin-hadoop3.2/jars/kubernetes-model-autoscaling-5.4.1.jar\n",
            "spark-3.2.1-bin-hadoop3.2/jars/kubernetes-model-batch-5.4.1.jar\n",
            "spark-3.2.1-bin-hadoop3.2/jars/kubernetes-model-certificates-5.4.1.jar\n",
            "spark-3.2.1-bin-hadoop3.2/jars/kubernetes-model-common-5.4.1.jar\n",
            "spark-3.2.1-bin-hadoop3.2/jars/kubernetes-model-coordination-5.4.1.jar\n",
            "spark-3.2.1-bin-hadoop3.2/jars/kubernetes-model-core-5.4.1.jar\n",
            "spark-3.2.1-bin-hadoop3.2/jars/kubernetes-model-discovery-5.4.1.jar\n",
            "spark-3.2.1-bin-hadoop3.2/jars/kubernetes-model-events-5.4.1.jar\n",
            "spark-3.2.1-bin-hadoop3.2/jars/kubernetes-model-extensions-5.4.1.jar\n",
            "spark-3.2.1-bin-hadoop3.2/jars/kubernetes-model-flowcontrol-5.4.1.jar\n",
            "spark-3.2.1-bin-hadoop3.2/jars/kubernetes-model-metrics-5.4.1.jar\n",
            "spark-3.2.1-bin-hadoop3.2/jars/kubernetes-model-networking-5.4.1.jar\n",
            "spark-3.2.1-bin-hadoop3.2/jars/kubernetes-model-node-5.4.1.jar\n",
            "spark-3.2.1-bin-hadoop3.2/jars/kubernetes-model-policy-5.4.1.jar\n",
            "spark-3.2.1-bin-hadoop3.2/jars/kubernetes-model-rbac-5.4.1.jar\n",
            "spark-3.2.1-bin-hadoop3.2/jars/kubernetes-model-scheduling-5.4.1.jar\n",
            "spark-3.2.1-bin-hadoop3.2/jars/kubernetes-model-storageclass-5.4.1.jar\n",
            "spark-3.2.1-bin-hadoop3.2/jars/lapack-2.2.1.jar\n",
            "spark-3.2.1-bin-hadoop3.2/jars/leveldbjni-all-1.8.jar\n",
            "spark-3.2.1-bin-hadoop3.2/jars/libfb303-0.9.3.jar\n",
            "spark-3.2.1-bin-hadoop3.2/jars/libthrift-0.12.0.jar\n",
            "spark-3.2.1-bin-hadoop3.2/jars/log4j-1.2.17.jar\n",
            "spark-3.2.1-bin-hadoop3.2/jars/logging-interceptor-3.12.12.jar\n",
            "spark-3.2.1-bin-hadoop3.2/jars/lz4-java-1.7.1.jar\n",
            "spark-3.2.1-bin-hadoop3.2/jars/macro-compat_2.12-1.1.1.jar\n",
            "spark-3.2.1-bin-hadoop3.2/jars/mesos-1.4.0-shaded-protobuf.jar\n",
            "spark-3.2.1-bin-hadoop3.2/jars/metrics-core-4.2.0.jar\n",
            "spark-3.2.1-bin-hadoop3.2/jars/metrics-graphite-4.2.0.jar\n",
            "spark-3.2.1-bin-hadoop3.2/jars/metrics-jmx-4.2.0.jar\n",
            "spark-3.2.1-bin-hadoop3.2/jars/metrics-json-4.2.0.jar\n",
            "spark-3.2.1-bin-hadoop3.2/jars/metrics-jvm-4.2.0.jar\n",
            "spark-3.2.1-bin-hadoop3.2/jars/minlog-1.3.0.jar\n",
            "spark-3.2.1-bin-hadoop3.2/jars/netty-all-4.1.68.Final.jar\n",
            "spark-3.2.1-bin-hadoop3.2/jars/objenesis-2.6.jar\n",
            "spark-3.2.1-bin-hadoop3.2/jars/okhttp-3.12.12.jar\n",
            "spark-3.2.1-bin-hadoop3.2/jars/okio-1.14.0.jar\n",
            "spark-3.2.1-bin-hadoop3.2/jars/opencsv-2.3.jar\n",
            "spark-3.2.1-bin-hadoop3.2/jars/orc-core-1.6.12.jar\n",
            "spark-3.2.1-bin-hadoop3.2/jars/orc-mapreduce-1.6.12.jar\n",
            "spark-3.2.1-bin-hadoop3.2/jars/orc-shims-1.6.12.jar\n",
            "spark-3.2.1-bin-hadoop3.2/jars/oro-2.0.8.jar\n",
            "spark-3.2.1-bin-hadoop3.2/jars/osgi-resource-locator-1.0.3.jar\n",
            "spark-3.2.1-bin-hadoop3.2/jars/paranamer-2.8.jar\n",
            "spark-3.2.1-bin-hadoop3.2/jars/parquet-column-1.12.2.jar\n",
            "spark-3.2.1-bin-hadoop3.2/jars/parquet-common-1.12.2.jar\n",
            "spark-3.2.1-bin-hadoop3.2/jars/parquet-encoding-1.12.2.jar\n",
            "spark-3.2.1-bin-hadoop3.2/jars/parquet-format-structures-1.12.2.jar\n",
            "spark-3.2.1-bin-hadoop3.2/jars/parquet-hadoop-1.12.2.jar\n",
            "spark-3.2.1-bin-hadoop3.2/jars/parquet-jackson-1.12.2.jar\n",
            "spark-3.2.1-bin-hadoop3.2/jars/protobuf-java-2.5.0.jar\n",
            "spark-3.2.1-bin-hadoop3.2/jars/py4j-0.10.9.3.jar\n",
            "spark-3.2.1-bin-hadoop3.2/jars/pyrolite-4.30.jar\n",
            "spark-3.2.1-bin-hadoop3.2/jars/rocksdbjni-6.20.3.jar\n",
            "spark-3.2.1-bin-hadoop3.2/jars/scala-collection-compat_2.12-2.1.1.jar\n",
            "spark-3.2.1-bin-hadoop3.2/jars/scala-compiler-2.12.15.jar\n",
            "spark-3.2.1-bin-hadoop3.2/jars/scala-library-2.12.15.jar\n",
            "spark-3.2.1-bin-hadoop3.2/jars/scala-parser-combinators_2.12-1.1.2.jar\n",
            "spark-3.2.1-bin-hadoop3.2/jars/scala-reflect-2.12.15.jar\n",
            "spark-3.2.1-bin-hadoop3.2/jars/scala-xml_2.12-1.2.0.jar\n",
            "spark-3.2.1-bin-hadoop3.2/jars/shapeless_2.12-2.3.3.jar\n",
            "spark-3.2.1-bin-hadoop3.2/jars/shims-0.9.0.jar\n",
            "spark-3.2.1-bin-hadoop3.2/jars/slf4j-api-1.7.30.jar\n",
            "spark-3.2.1-bin-hadoop3.2/jars/slf4j-log4j12-1.7.30.jar\n",
            "spark-3.2.1-bin-hadoop3.2/jars/snakeyaml-1.27.jar\n",
            "spark-3.2.1-bin-hadoop3.2/jars/snappy-java-1.1.8.4.jar\n",
            "spark-3.2.1-bin-hadoop3.2/jars/spark-catalyst_2.12-3.2.1.jar\n",
            "spark-3.2.1-bin-hadoop3.2/jars/spark-core_2.12-3.2.1.jar\n",
            "spark-3.2.1-bin-hadoop3.2/jars/spark-graphx_2.12-3.2.1.jar\n",
            "spark-3.2.1-bin-hadoop3.2/jars/spark-hive-thriftserver_2.12-3.2.1.jar\n",
            "spark-3.2.1-bin-hadoop3.2/jars/spark-hive_2.12-3.2.1.jar\n",
            "spark-3.2.1-bin-hadoop3.2/jars/spark-kubernetes_2.12-3.2.1.jar\n",
            "spark-3.2.1-bin-hadoop3.2/jars/spark-kvstore_2.12-3.2.1.jar\n",
            "spark-3.2.1-bin-hadoop3.2/jars/spark-launcher_2.12-3.2.1.jar\n",
            "spark-3.2.1-bin-hadoop3.2/jars/spark-mesos_2.12-3.2.1.jar\n",
            "spark-3.2.1-bin-hadoop3.2/jars/spark-mllib-local_2.12-3.2.1.jar\n",
            "spark-3.2.1-bin-hadoop3.2/jars/spark-mllib_2.12-3.2.1.jar\n",
            "spark-3.2.1-bin-hadoop3.2/jars/spark-network-common_2.12-3.2.1.jar\n",
            "spark-3.2.1-bin-hadoop3.2/jars/spark-network-shuffle_2.12-3.2.1.jar\n",
            "spark-3.2.1-bin-hadoop3.2/jars/spark-repl_2.12-3.2.1.jar\n",
            "spark-3.2.1-bin-hadoop3.2/jars/spark-sketch_2.12-3.2.1.jar\n",
            "spark-3.2.1-bin-hadoop3.2/jars/spark-sql_2.12-3.2.1.jar\n",
            "spark-3.2.1-bin-hadoop3.2/jars/spark-streaming_2.12-3.2.1.jar\n",
            "spark-3.2.1-bin-hadoop3.2/jars/spark-tags_2.12-3.2.1-tests.jar\n",
            "spark-3.2.1-bin-hadoop3.2/jars/spark-tags_2.12-3.2.1.jar\n",
            "spark-3.2.1-bin-hadoop3.2/jars/spark-unsafe_2.12-3.2.1.jar\n",
            "spark-3.2.1-bin-hadoop3.2/jars/spark-yarn_2.12-3.2.1.jar\n",
            "spark-3.2.1-bin-hadoop3.2/jars/spire-macros_2.12-0.17.0.jar\n",
            "spark-3.2.1-bin-hadoop3.2/jars/spire-platform_2.12-0.17.0.jar\n",
            "spark-3.2.1-bin-hadoop3.2/jars/spire-util_2.12-0.17.0.jar\n",
            "spark-3.2.1-bin-hadoop3.2/jars/spire_2.12-0.17.0.jar\n",
            "spark-3.2.1-bin-hadoop3.2/jars/stax-api-1.0.1.jar\n",
            "spark-3.2.1-bin-hadoop3.2/jars/stream-2.9.6.jar\n",
            "spark-3.2.1-bin-hadoop3.2/jars/super-csv-2.2.0.jar\n",
            "spark-3.2.1-bin-hadoop3.2/jars/threeten-extra-1.5.0.jar\n",
            "spark-3.2.1-bin-hadoop3.2/jars/tink-1.6.0.jar\n",
            "spark-3.2.1-bin-hadoop3.2/jars/transaction-api-1.1.jar\n",
            "spark-3.2.1-bin-hadoop3.2/jars/univocity-parsers-2.9.1.jar\n",
            "spark-3.2.1-bin-hadoop3.2/jars/velocity-1.5.jar\n",
            "spark-3.2.1-bin-hadoop3.2/jars/xbean-asm9-shaded-4.20.jar\n",
            "spark-3.2.1-bin-hadoop3.2/jars/xz-1.8.jar\n",
            "spark-3.2.1-bin-hadoop3.2/jars/zjsonpatch-0.3.0.jar\n",
            "spark-3.2.1-bin-hadoop3.2/jars/zookeeper-3.6.2.jar\n",
            "spark-3.2.1-bin-hadoop3.2/jars/zookeeper-jute-3.6.2.jar\n",
            "spark-3.2.1-bin-hadoop3.2/jars/zstd-jni-1.5.0-4.jar\n",
            "spark-3.2.1-bin-hadoop3.2/kubernetes/\n",
            "spark-3.2.1-bin-hadoop3.2/kubernetes/dockerfiles/\n",
            "spark-3.2.1-bin-hadoop3.2/kubernetes/dockerfiles/spark/\n",
            "spark-3.2.1-bin-hadoop3.2/kubernetes/dockerfiles/spark/Dockerfile\n",
            "spark-3.2.1-bin-hadoop3.2/kubernetes/dockerfiles/spark/bindings/\n",
            "spark-3.2.1-bin-hadoop3.2/kubernetes/dockerfiles/spark/bindings/R/\n",
            "spark-3.2.1-bin-hadoop3.2/kubernetes/dockerfiles/spark/bindings/R/Dockerfile\n",
            "spark-3.2.1-bin-hadoop3.2/kubernetes/dockerfiles/spark/bindings/python/\n",
            "spark-3.2.1-bin-hadoop3.2/kubernetes/dockerfiles/spark/bindings/python/Dockerfile\n",
            "spark-3.2.1-bin-hadoop3.2/kubernetes/dockerfiles/spark/decom.sh\n",
            "spark-3.2.1-bin-hadoop3.2/kubernetes/dockerfiles/spark/entrypoint.sh\n",
            "spark-3.2.1-bin-hadoop3.2/kubernetes/tests/\n",
            "spark-3.2.1-bin-hadoop3.2/kubernetes/tests/autoscale.py\n",
            "spark-3.2.1-bin-hadoop3.2/kubernetes/tests/decommissioning.py\n",
            "spark-3.2.1-bin-hadoop3.2/kubernetes/tests/decommissioning_cleanup.py\n",
            "spark-3.2.1-bin-hadoop3.2/kubernetes/tests/py_container_checks.py\n",
            "spark-3.2.1-bin-hadoop3.2/kubernetes/tests/pyfiles.py\n",
            "spark-3.2.1-bin-hadoop3.2/kubernetes/tests/python_executable_check.py\n",
            "spark-3.2.1-bin-hadoop3.2/kubernetes/tests/worker_memory_check.py\n",
            "spark-3.2.1-bin-hadoop3.2/licenses/\n",
            "spark-3.2.1-bin-hadoop3.2/licenses/LICENSE-AnchorJS.txt\n",
            "spark-3.2.1-bin-hadoop3.2/licenses/LICENSE-CC0.txt\n",
            "spark-3.2.1-bin-hadoop3.2/licenses/LICENSE-JLargeArrays.txt\n",
            "spark-3.2.1-bin-hadoop3.2/licenses/LICENSE-JTransforms.txt\n",
            "spark-3.2.1-bin-hadoop3.2/licenses/LICENSE-antlr.txt\n",
            "spark-3.2.1-bin-hadoop3.2/licenses/LICENSE-arpack.txt\n",
            "spark-3.2.1-bin-hadoop3.2/licenses/LICENSE-automaton.txt\n",
            "spark-3.2.1-bin-hadoop3.2/licenses/LICENSE-blas.txt\n",
            "spark-3.2.1-bin-hadoop3.2/licenses/LICENSE-bootstrap.txt\n",
            "spark-3.2.1-bin-hadoop3.2/licenses/LICENSE-cloudpickle.txt\n",
            "spark-3.2.1-bin-hadoop3.2/licenses/LICENSE-d3.min.js.txt\n",
            "spark-3.2.1-bin-hadoop3.2/licenses/LICENSE-dagre-d3.txt\n",
            "spark-3.2.1-bin-hadoop3.2/licenses/LICENSE-datatables.txt\n",
            "spark-3.2.1-bin-hadoop3.2/licenses/LICENSE-dnsjava.txt\n",
            "spark-3.2.1-bin-hadoop3.2/licenses/LICENSE-f2j.txt\n",
            "spark-3.2.1-bin-hadoop3.2/licenses/LICENSE-graphlib-dot.txt\n",
            "spark-3.2.1-bin-hadoop3.2/licenses/LICENSE-istack-commons-runtime.txt\n",
            "spark-3.2.1-bin-hadoop3.2/licenses/LICENSE-jakarta-annotation-api\n",
            "spark-3.2.1-bin-hadoop3.2/licenses/LICENSE-jakarta-ws-rs-api\n",
            "spark-3.2.1-bin-hadoop3.2/licenses/LICENSE-jakarta.activation-api.txt\n",
            "spark-3.2.1-bin-hadoop3.2/licenses/LICENSE-jakarta.xml.bind-api.txt\n",
            "spark-3.2.1-bin-hadoop3.2/licenses/LICENSE-janino.txt\n",
            "spark-3.2.1-bin-hadoop3.2/licenses/LICENSE-javassist.html\n",
            "spark-3.2.1-bin-hadoop3.2/licenses/LICENSE-javax-transaction-transaction-api.txt\n",
            "spark-3.2.1-bin-hadoop3.2/licenses/LICENSE-javolution.txt\n",
            "spark-3.2.1-bin-hadoop3.2/licenses/LICENSE-jaxb-runtime.txt\n",
            "spark-3.2.1-bin-hadoop3.2/licenses/LICENSE-jline.txt\n",
            "spark-3.2.1-bin-hadoop3.2/licenses/LICENSE-jodd.txt\n",
            "spark-3.2.1-bin-hadoop3.2/licenses/LICENSE-join.txt\n",
            "spark-3.2.1-bin-hadoop3.2/licenses/LICENSE-jquery.txt\n",
            "spark-3.2.1-bin-hadoop3.2/licenses/LICENSE-json-formatter.txt\n",
            "spark-3.2.1-bin-hadoop3.2/licenses/LICENSE-jsp-api.txt\n",
            "spark-3.2.1-bin-hadoop3.2/licenses/LICENSE-kryo.txt\n",
            "spark-3.2.1-bin-hadoop3.2/licenses/LICENSE-leveldbjni.txt\n",
            "spark-3.2.1-bin-hadoop3.2/licenses/LICENSE-machinist.txt\n",
            "spark-3.2.1-bin-hadoop3.2/licenses/LICENSE-matchMedia-polyfill.txt\n",
            "spark-3.2.1-bin-hadoop3.2/licenses/LICENSE-minlog.txt\n",
            "spark-3.2.1-bin-hadoop3.2/licenses/LICENSE-modernizr.txt\n",
            "spark-3.2.1-bin-hadoop3.2/licenses/LICENSE-mustache.txt\n",
            "spark-3.2.1-bin-hadoop3.2/licenses/LICENSE-netlib.txt\n",
            "spark-3.2.1-bin-hadoop3.2/licenses/LICENSE-paranamer.txt\n",
            "spark-3.2.1-bin-hadoop3.2/licenses/LICENSE-pmml-model.txt\n",
            "spark-3.2.1-bin-hadoop3.2/licenses/LICENSE-protobuf.txt\n",
            "spark-3.2.1-bin-hadoop3.2/licenses/LICENSE-py4j.txt\n",
            "spark-3.2.1-bin-hadoop3.2/licenses/LICENSE-pyrolite.txt\n",
            "spark-3.2.1-bin-hadoop3.2/licenses/LICENSE-re2j.txt\n",
            "spark-3.2.1-bin-hadoop3.2/licenses/LICENSE-reflectasm.txt\n",
            "spark-3.2.1-bin-hadoop3.2/licenses/LICENSE-respond.txt\n",
            "spark-3.2.1-bin-hadoop3.2/licenses/LICENSE-sbt-launch-lib.txt\n",
            "spark-3.2.1-bin-hadoop3.2/licenses/LICENSE-scala.txt\n",
            "spark-3.2.1-bin-hadoop3.2/licenses/LICENSE-scopt.txt\n",
            "spark-3.2.1-bin-hadoop3.2/licenses/LICENSE-slf4j.txt\n",
            "spark-3.2.1-bin-hadoop3.2/licenses/LICENSE-sorttable.js.txt\n",
            "spark-3.2.1-bin-hadoop3.2/licenses/LICENSE-spire.txt\n",
            "spark-3.2.1-bin-hadoop3.2/licenses/LICENSE-vis-timeline.txt\n",
            "spark-3.2.1-bin-hadoop3.2/licenses/LICENSE-xmlenc.txt\n",
            "spark-3.2.1-bin-hadoop3.2/licenses/LICENSE-zstd-jni.txt\n",
            "spark-3.2.1-bin-hadoop3.2/licenses/LICENSE-zstd.txt\n",
            "spark-3.2.1-bin-hadoop3.2/python/\n",
            "spark-3.2.1-bin-hadoop3.2/python/.coveragerc\n",
            "spark-3.2.1-bin-hadoop3.2/python/.gitignore\n",
            "spark-3.2.1-bin-hadoop3.2/python/MANIFEST.in\n",
            "spark-3.2.1-bin-hadoop3.2/python/README.md\n",
            "spark-3.2.1-bin-hadoop3.2/python/dist/\n",
            "spark-3.2.1-bin-hadoop3.2/python/docs/\n",
            "spark-3.2.1-bin-hadoop3.2/python/docs/Makefile\n",
            "spark-3.2.1-bin-hadoop3.2/python/docs/make.bat\n",
            "spark-3.2.1-bin-hadoop3.2/python/docs/make2.bat\n",
            "spark-3.2.1-bin-hadoop3.2/python/docs/source/\n",
            "spark-3.2.1-bin-hadoop3.2/python/docs/source/_static/\n",
            "spark-3.2.1-bin-hadoop3.2/python/docs/source/_static/copybutton.js\n",
            "spark-3.2.1-bin-hadoop3.2/python/docs/source/_static/css/\n",
            "spark-3.2.1-bin-hadoop3.2/python/docs/source/_static/css/pyspark.css\n",
            "spark-3.2.1-bin-hadoop3.2/python/docs/source/_templates/\n",
            "spark-3.2.1-bin-hadoop3.2/python/docs/source/_templates/autosummary/\n",
            "spark-3.2.1-bin-hadoop3.2/python/docs/source/_templates/autosummary/class.rst\n",
            "spark-3.2.1-bin-hadoop3.2/python/docs/source/_templates/autosummary/class_with_docs.rst\n",
            "spark-3.2.1-bin-hadoop3.2/python/docs/source/conf.py\n",
            "spark-3.2.1-bin-hadoop3.2/python/docs/source/development/\n",
            "spark-3.2.1-bin-hadoop3.2/python/docs/source/development/contributing.rst\n",
            "spark-3.2.1-bin-hadoop3.2/python/docs/source/development/debugging.rst\n",
            "spark-3.2.1-bin-hadoop3.2/python/docs/source/development/index.rst\n",
            "spark-3.2.1-bin-hadoop3.2/python/docs/source/development/setting_ide.rst\n",
            "spark-3.2.1-bin-hadoop3.2/python/docs/source/development/testing.rst\n",
            "spark-3.2.1-bin-hadoop3.2/python/docs/source/getting_started/\n",
            "spark-3.2.1-bin-hadoop3.2/python/docs/source/getting_started/index.rst\n",
            "spark-3.2.1-bin-hadoop3.2/python/docs/source/getting_started/install.rst\n",
            "spark-3.2.1-bin-hadoop3.2/python/docs/source/getting_started/quickstart_df.ipynb\n",
            "spark-3.2.1-bin-hadoop3.2/python/docs/source/getting_started/quickstart_ps.ipynb\n",
            "spark-3.2.1-bin-hadoop3.2/python/docs/source/index.rst\n",
            "spark-3.2.1-bin-hadoop3.2/python/docs/source/migration_guide/\n",
            "spark-3.2.1-bin-hadoop3.2/python/docs/source/migration_guide/index.rst\n",
            "spark-3.2.1-bin-hadoop3.2/python/docs/source/migration_guide/koalas_to_pyspark.rst\n",
            "spark-3.2.1-bin-hadoop3.2/python/docs/source/migration_guide/pyspark_1.0_1.2_to_1.3.rst\n",
            "spark-3.2.1-bin-hadoop3.2/python/docs/source/migration_guide/pyspark_1.4_to_1.5.rst\n",
            "spark-3.2.1-bin-hadoop3.2/python/docs/source/migration_guide/pyspark_2.2_to_2.3.rst\n",
            "spark-3.2.1-bin-hadoop3.2/python/docs/source/migration_guide/pyspark_2.3.0_to_2.3.1_above.rst\n",
            "spark-3.2.1-bin-hadoop3.2/python/docs/source/migration_guide/pyspark_2.3_to_2.4.rst\n",
            "spark-3.2.1-bin-hadoop3.2/python/docs/source/migration_guide/pyspark_2.4_to_3.0.rst\n",
            "spark-3.2.1-bin-hadoop3.2/python/docs/source/migration_guide/pyspark_3.1_to_3.2.rst\n",
            "spark-3.2.1-bin-hadoop3.2/python/docs/source/reference/\n",
            "spark-3.2.1-bin-hadoop3.2/python/docs/source/reference/index.rst\n",
            "spark-3.2.1-bin-hadoop3.2/python/docs/source/reference/pyspark.ml.rst\n",
            "spark-3.2.1-bin-hadoop3.2/python/docs/source/reference/pyspark.mllib.rst\n",
            "spark-3.2.1-bin-hadoop3.2/python/docs/source/reference/pyspark.pandas/\n",
            "spark-3.2.1-bin-hadoop3.2/python/docs/source/reference/pyspark.pandas/extensions.rst\n",
            "spark-3.2.1-bin-hadoop3.2/python/docs/source/reference/pyspark.pandas/frame.rst\n",
            "spark-3.2.1-bin-hadoop3.2/python/docs/source/reference/pyspark.pandas/general_functions.rst\n",
            "spark-3.2.1-bin-hadoop3.2/python/docs/source/reference/pyspark.pandas/groupby.rst\n",
            "spark-3.2.1-bin-hadoop3.2/python/docs/source/reference/pyspark.pandas/index.rst\n",
            "spark-3.2.1-bin-hadoop3.2/python/docs/source/reference/pyspark.pandas/indexing.rst\n",
            "spark-3.2.1-bin-hadoop3.2/python/docs/source/reference/pyspark.pandas/io.rst\n",
            "spark-3.2.1-bin-hadoop3.2/python/docs/source/reference/pyspark.pandas/ml.rst\n",
            "spark-3.2.1-bin-hadoop3.2/python/docs/source/reference/pyspark.pandas/series.rst\n",
            "spark-3.2.1-bin-hadoop3.2/python/docs/source/reference/pyspark.pandas/window.rst\n",
            "spark-3.2.1-bin-hadoop3.2/python/docs/source/reference/pyspark.resource.rst\n",
            "spark-3.2.1-bin-hadoop3.2/python/docs/source/reference/pyspark.rst\n",
            "spark-3.2.1-bin-hadoop3.2/python/docs/source/reference/pyspark.sql.rst\n",
            "spark-3.2.1-bin-hadoop3.2/python/docs/source/reference/pyspark.ss.rst\n",
            "spark-3.2.1-bin-hadoop3.2/python/docs/source/reference/pyspark.streaming.rst\n",
            "spark-3.2.1-bin-hadoop3.2/python/docs/source/user_guide/\n",
            "spark-3.2.1-bin-hadoop3.2/python/docs/source/user_guide/arrow_pandas.rst\n",
            "spark-3.2.1-bin-hadoop3.2/python/docs/source/user_guide/index.rst\n",
            "spark-3.2.1-bin-hadoop3.2/python/docs/source/user_guide/pandas_on_spark/\n",
            "spark-3.2.1-bin-hadoop3.2/python/docs/source/user_guide/pandas_on_spark/best_practices.rst\n",
            "spark-3.2.1-bin-hadoop3.2/python/docs/source/user_guide/pandas_on_spark/faq.rst\n",
            "spark-3.2.1-bin-hadoop3.2/python/docs/source/user_guide/pandas_on_spark/from_to_dbms.rst\n",
            "spark-3.2.1-bin-hadoop3.2/python/docs/source/user_guide/pandas_on_spark/index.rst\n",
            "spark-3.2.1-bin-hadoop3.2/python/docs/source/user_guide/pandas_on_spark/options.rst\n",
            "spark-3.2.1-bin-hadoop3.2/python/docs/source/user_guide/pandas_on_spark/pandas_pyspark.rst\n",
            "spark-3.2.1-bin-hadoop3.2/python/docs/source/user_guide/pandas_on_spark/transform_apply.rst\n",
            "spark-3.2.1-bin-hadoop3.2/python/docs/source/user_guide/pandas_on_spark/typehints.rst\n",
            "spark-3.2.1-bin-hadoop3.2/python/docs/source/user_guide/pandas_on_spark/types.rst\n",
            "spark-3.2.1-bin-hadoop3.2/python/docs/source/user_guide/python_packaging.rst\n",
            "spark-3.2.1-bin-hadoop3.2/python/docs/source/user_guide/sql/\n",
            "spark-3.2.1-bin-hadoop3.2/python/docs/source/user_guide/sql/arrow_pandas.rst\n",
            "spark-3.2.1-bin-hadoop3.2/python/docs/source/user_guide/sql/index.rst\n",
            "spark-3.2.1-bin-hadoop3.2/python/lib/\n",
            "spark-3.2.1-bin-hadoop3.2/python/lib/PY4J_LICENSE.txt\n",
            "spark-3.2.1-bin-hadoop3.2/python/lib/py4j-0.10.9.3-src.zip\n",
            "spark-3.2.1-bin-hadoop3.2/python/lib/pyspark.zip\n",
            "spark-3.2.1-bin-hadoop3.2/python/mypy.ini\n",
            "spark-3.2.1-bin-hadoop3.2/python/pylintrc\n",
            "spark-3.2.1-bin-hadoop3.2/python/pyspark/\n",
            "spark-3.2.1-bin-hadoop3.2/python/pyspark/__init__.py\n",
            "spark-3.2.1-bin-hadoop3.2/python/pyspark/__init__.pyi\n",
            "spark-3.2.1-bin-hadoop3.2/python/pyspark/__pycache__/\n",
            "spark-3.2.1-bin-hadoop3.2/python/pyspark/__pycache__/install.cpython-38.pyc\n",
            "spark-3.2.1-bin-hadoop3.2/python/pyspark/_globals.py\n",
            "spark-3.2.1-bin-hadoop3.2/python/pyspark/_typing.pyi\n",
            "spark-3.2.1-bin-hadoop3.2/python/pyspark/accumulators.py\n",
            "spark-3.2.1-bin-hadoop3.2/python/pyspark/accumulators.pyi\n",
            "spark-3.2.1-bin-hadoop3.2/python/pyspark/broadcast.py\n",
            "spark-3.2.1-bin-hadoop3.2/python/pyspark/broadcast.pyi\n",
            "spark-3.2.1-bin-hadoop3.2/python/pyspark/cloudpickle/\n",
            "spark-3.2.1-bin-hadoop3.2/python/pyspark/cloudpickle/__init__.py\n",
            "spark-3.2.1-bin-hadoop3.2/python/pyspark/cloudpickle/cloudpickle.py\n",
            "spark-3.2.1-bin-hadoop3.2/python/pyspark/cloudpickle/cloudpickle_fast.py\n",
            "spark-3.2.1-bin-hadoop3.2/python/pyspark/cloudpickle/compat.py\n",
            "spark-3.2.1-bin-hadoop3.2/python/pyspark/conf.py\n",
            "spark-3.2.1-bin-hadoop3.2/python/pyspark/conf.pyi\n",
            "spark-3.2.1-bin-hadoop3.2/python/pyspark/context.py\n",
            "spark-3.2.1-bin-hadoop3.2/python/pyspark/context.pyi\n",
            "spark-3.2.1-bin-hadoop3.2/python/pyspark/daemon.py\n",
            "spark-3.2.1-bin-hadoop3.2/python/pyspark/files.py\n",
            "spark-3.2.1-bin-hadoop3.2/python/pyspark/files.pyi\n",
            "spark-3.2.1-bin-hadoop3.2/python/pyspark/find_spark_home.py\n",
            "spark-3.2.1-bin-hadoop3.2/python/pyspark/install.py\n",
            "spark-3.2.1-bin-hadoop3.2/python/pyspark/java_gateway.py\n",
            "spark-3.2.1-bin-hadoop3.2/python/pyspark/join.py\n",
            "spark-3.2.1-bin-hadoop3.2/python/pyspark/ml/\n",
            "spark-3.2.1-bin-hadoop3.2/python/pyspark/ml/__init__.py\n",
            "spark-3.2.1-bin-hadoop3.2/python/pyspark/ml/_typing.pyi\n",
            "spark-3.2.1-bin-hadoop3.2/python/pyspark/ml/base.py\n",
            "spark-3.2.1-bin-hadoop3.2/python/pyspark/ml/base.pyi\n",
            "spark-3.2.1-bin-hadoop3.2/python/pyspark/ml/classification.py\n",
            "spark-3.2.1-bin-hadoop3.2/python/pyspark/ml/classification.pyi\n",
            "spark-3.2.1-bin-hadoop3.2/python/pyspark/ml/clustering.py\n",
            "spark-3.2.1-bin-hadoop3.2/python/pyspark/ml/clustering.pyi\n",
            "spark-3.2.1-bin-hadoop3.2/python/pyspark/ml/common.py\n",
            "spark-3.2.1-bin-hadoop3.2/python/pyspark/ml/common.pyi\n",
            "spark-3.2.1-bin-hadoop3.2/python/pyspark/ml/evaluation.py\n",
            "spark-3.2.1-bin-hadoop3.2/python/pyspark/ml/evaluation.pyi\n",
            "spark-3.2.1-bin-hadoop3.2/python/pyspark/ml/feature.py\n",
            "spark-3.2.1-bin-hadoop3.2/python/pyspark/ml/feature.pyi\n",
            "spark-3.2.1-bin-hadoop3.2/python/pyspark/ml/fpm.py\n",
            "spark-3.2.1-bin-hadoop3.2/python/pyspark/ml/fpm.pyi\n",
            "spark-3.2.1-bin-hadoop3.2/python/pyspark/ml/functions.py\n",
            "spark-3.2.1-bin-hadoop3.2/python/pyspark/ml/functions.pyi\n",
            "spark-3.2.1-bin-hadoop3.2/python/pyspark/ml/image.py\n",
            "spark-3.2.1-bin-hadoop3.2/python/pyspark/ml/image.pyi\n",
            "spark-3.2.1-bin-hadoop3.2/python/pyspark/ml/linalg/\n",
            "spark-3.2.1-bin-hadoop3.2/python/pyspark/ml/linalg/__init__.py\n",
            "spark-3.2.1-bin-hadoop3.2/python/pyspark/ml/linalg/__init__.pyi\n",
            "spark-3.2.1-bin-hadoop3.2/python/pyspark/ml/param/\n",
            "spark-3.2.1-bin-hadoop3.2/python/pyspark/ml/param/__init__.py\n",
            "spark-3.2.1-bin-hadoop3.2/python/pyspark/ml/param/__init__.pyi\n",
            "spark-3.2.1-bin-hadoop3.2/python/pyspark/ml/param/_shared_params_code_gen.py\n",
            "spark-3.2.1-bin-hadoop3.2/python/pyspark/ml/param/_shared_params_code_gen.pyi\n",
            "spark-3.2.1-bin-hadoop3.2/python/pyspark/ml/param/shared.py\n",
            "spark-3.2.1-bin-hadoop3.2/python/pyspark/ml/param/shared.pyi\n",
            "spark-3.2.1-bin-hadoop3.2/python/pyspark/ml/pipeline.py\n",
            "spark-3.2.1-bin-hadoop3.2/python/pyspark/ml/pipeline.pyi\n",
            "spark-3.2.1-bin-hadoop3.2/python/pyspark/ml/recommendation.py\n",
            "spark-3.2.1-bin-hadoop3.2/python/pyspark/ml/recommendation.pyi\n",
            "spark-3.2.1-bin-hadoop3.2/python/pyspark/ml/regression.py\n",
            "spark-3.2.1-bin-hadoop3.2/python/pyspark/ml/regression.pyi\n",
            "spark-3.2.1-bin-hadoop3.2/python/pyspark/ml/stat.py\n",
            "spark-3.2.1-bin-hadoop3.2/python/pyspark/ml/stat.pyi\n",
            "spark-3.2.1-bin-hadoop3.2/python/pyspark/ml/tests/\n",
            "spark-3.2.1-bin-hadoop3.2/python/pyspark/ml/tests/__init__.py\n",
            "spark-3.2.1-bin-hadoop3.2/python/pyspark/ml/tests/test_algorithms.py\n",
            "spark-3.2.1-bin-hadoop3.2/python/pyspark/ml/tests/test_base.py\n",
            "spark-3.2.1-bin-hadoop3.2/python/pyspark/ml/tests/test_evaluation.py\n",
            "spark-3.2.1-bin-hadoop3.2/python/pyspark/ml/tests/test_feature.py\n",
            "spark-3.2.1-bin-hadoop3.2/python/pyspark/ml/tests/test_image.py\n",
            "spark-3.2.1-bin-hadoop3.2/python/pyspark/ml/tests/test_linalg.py\n",
            "spark-3.2.1-bin-hadoop3.2/python/pyspark/ml/tests/test_param.py\n",
            "spark-3.2.1-bin-hadoop3.2/python/pyspark/ml/tests/test_persistence.py\n",
            "spark-3.2.1-bin-hadoop3.2/python/pyspark/ml/tests/test_pipeline.py\n",
            "spark-3.2.1-bin-hadoop3.2/python/pyspark/ml/tests/test_stat.py\n",
            "spark-3.2.1-bin-hadoop3.2/python/pyspark/ml/tests/test_training_summary.py\n",
            "spark-3.2.1-bin-hadoop3.2/python/pyspark/ml/tests/test_tuning.py\n",
            "spark-3.2.1-bin-hadoop3.2/python/pyspark/ml/tests/test_util.py\n",
            "spark-3.2.1-bin-hadoop3.2/python/pyspark/ml/tests/test_wrapper.py\n",
            "spark-3.2.1-bin-hadoop3.2/python/pyspark/ml/tree.py\n",
            "spark-3.2.1-bin-hadoop3.2/python/pyspark/ml/tree.pyi\n",
            "spark-3.2.1-bin-hadoop3.2/python/pyspark/ml/tuning.py\n",
            "spark-3.2.1-bin-hadoop3.2/python/pyspark/ml/tuning.pyi\n",
            "spark-3.2.1-bin-hadoop3.2/python/pyspark/ml/util.py\n",
            "spark-3.2.1-bin-hadoop3.2/python/pyspark/ml/util.pyi\n",
            "spark-3.2.1-bin-hadoop3.2/python/pyspark/ml/wrapper.py\n",
            "spark-3.2.1-bin-hadoop3.2/python/pyspark/ml/wrapper.pyi\n",
            "spark-3.2.1-bin-hadoop3.2/python/pyspark/mllib/\n",
            "spark-3.2.1-bin-hadoop3.2/python/pyspark/mllib/__init__.py\n",
            "spark-3.2.1-bin-hadoop3.2/python/pyspark/mllib/_typing.pyi\n",
            "spark-3.2.1-bin-hadoop3.2/python/pyspark/mllib/classification.py\n",
            "spark-3.2.1-bin-hadoop3.2/python/pyspark/mllib/classification.pyi\n",
            "spark-3.2.1-bin-hadoop3.2/python/pyspark/mllib/clustering.py\n",
            "spark-3.2.1-bin-hadoop3.2/python/pyspark/mllib/clustering.pyi\n",
            "spark-3.2.1-bin-hadoop3.2/python/pyspark/mllib/common.py\n",
            "spark-3.2.1-bin-hadoop3.2/python/pyspark/mllib/common.pyi\n",
            "spark-3.2.1-bin-hadoop3.2/python/pyspark/mllib/evaluation.py\n",
            "spark-3.2.1-bin-hadoop3.2/python/pyspark/mllib/evaluation.pyi\n",
            "spark-3.2.1-bin-hadoop3.2/python/pyspark/mllib/feature.py\n",
            "spark-3.2.1-bin-hadoop3.2/python/pyspark/mllib/feature.pyi\n",
            "spark-3.2.1-bin-hadoop3.2/python/pyspark/mllib/fpm.py\n",
            "spark-3.2.1-bin-hadoop3.2/python/pyspark/mllib/fpm.pyi\n",
            "spark-3.2.1-bin-hadoop3.2/python/pyspark/mllib/linalg/\n",
            "spark-3.2.1-bin-hadoop3.2/python/pyspark/mllib/linalg/__init__.py\n",
            "spark-3.2.1-bin-hadoop3.2/python/pyspark/mllib/linalg/__init__.pyi\n",
            "spark-3.2.1-bin-hadoop3.2/python/pyspark/mllib/linalg/distributed.py\n",
            "spark-3.2.1-bin-hadoop3.2/python/pyspark/mllib/linalg/distributed.pyi\n",
            "spark-3.2.1-bin-hadoop3.2/python/pyspark/mllib/random.py\n",
            "spark-3.2.1-bin-hadoop3.2/python/pyspark/mllib/random.pyi\n",
            "spark-3.2.1-bin-hadoop3.2/python/pyspark/mllib/recommendation.py\n",
            "spark-3.2.1-bin-hadoop3.2/python/pyspark/mllib/recommendation.pyi\n",
            "spark-3.2.1-bin-hadoop3.2/python/pyspark/mllib/regression.py\n",
            "spark-3.2.1-bin-hadoop3.2/python/pyspark/mllib/regression.pyi\n",
            "spark-3.2.1-bin-hadoop3.2/python/pyspark/mllib/stat/\n",
            "spark-3.2.1-bin-hadoop3.2/python/pyspark/mllib/stat/KernelDensity.py\n",
            "spark-3.2.1-bin-hadoop3.2/python/pyspark/mllib/stat/KernelDensity.pyi\n",
            "spark-3.2.1-bin-hadoop3.2/python/pyspark/mllib/stat/__init__.py\n",
            "spark-3.2.1-bin-hadoop3.2/python/pyspark/mllib/stat/__init__.pyi\n",
            "spark-3.2.1-bin-hadoop3.2/python/pyspark/mllib/stat/_statistics.py\n",
            "spark-3.2.1-bin-hadoop3.2/python/pyspark/mllib/stat/_statistics.pyi\n",
            "spark-3.2.1-bin-hadoop3.2/python/pyspark/mllib/stat/distribution.py\n",
            "spark-3.2.1-bin-hadoop3.2/python/pyspark/mllib/stat/distribution.pyi\n",
            "spark-3.2.1-bin-hadoop3.2/python/pyspark/mllib/stat/test.py\n",
            "spark-3.2.1-bin-hadoop3.2/python/pyspark/mllib/stat/test.pyi\n",
            "spark-3.2.1-bin-hadoop3.2/python/pyspark/mllib/tests/\n",
            "spark-3.2.1-bin-hadoop3.2/python/pyspark/mllib/tests/__init__.py\n",
            "spark-3.2.1-bin-hadoop3.2/python/pyspark/mllib/tests/test_algorithms.py\n",
            "spark-3.2.1-bin-hadoop3.2/python/pyspark/mllib/tests/test_feature.py\n",
            "spark-3.2.1-bin-hadoop3.2/python/pyspark/mllib/tests/test_linalg.py\n",
            "spark-3.2.1-bin-hadoop3.2/python/pyspark/mllib/tests/test_stat.py\n",
            "spark-3.2.1-bin-hadoop3.2/python/pyspark/mllib/tests/test_streaming_algorithms.py\n",
            "spark-3.2.1-bin-hadoop3.2/python/pyspark/mllib/tests/test_util.py\n",
            "spark-3.2.1-bin-hadoop3.2/python/pyspark/mllib/tree.py\n",
            "spark-3.2.1-bin-hadoop3.2/python/pyspark/mllib/tree.pyi\n",
            "spark-3.2.1-bin-hadoop3.2/python/pyspark/mllib/util.py\n",
            "spark-3.2.1-bin-hadoop3.2/python/pyspark/mllib/util.pyi\n",
            "spark-3.2.1-bin-hadoop3.2/python/pyspark/pandas/\n",
            "spark-3.2.1-bin-hadoop3.2/python/pyspark/pandas/__init__.py\n",
            "spark-3.2.1-bin-hadoop3.2/python/pyspark/pandas/_typing.py\n",
            "spark-3.2.1-bin-hadoop3.2/python/pyspark/pandas/accessors.py\n",
            "spark-3.2.1-bin-hadoop3.2/python/pyspark/pandas/base.py\n",
            "spark-3.2.1-bin-hadoop3.2/python/pyspark/pandas/categorical.py\n",
            "spark-3.2.1-bin-hadoop3.2/python/pyspark/pandas/config.py\n",
            "spark-3.2.1-bin-hadoop3.2/python/pyspark/pandas/data_type_ops/\n",
            "spark-3.2.1-bin-hadoop3.2/python/pyspark/pandas/data_type_ops/__init__.py\n",
            "spark-3.2.1-bin-hadoop3.2/python/pyspark/pandas/data_type_ops/base.py\n",
            "spark-3.2.1-bin-hadoop3.2/python/pyspark/pandas/data_type_ops/binary_ops.py\n",
            "spark-3.2.1-bin-hadoop3.2/python/pyspark/pandas/data_type_ops/boolean_ops.py\n",
            "spark-3.2.1-bin-hadoop3.2/python/pyspark/pandas/data_type_ops/categorical_ops.py\n",
            "spark-3.2.1-bin-hadoop3.2/python/pyspark/pandas/data_type_ops/complex_ops.py\n",
            "spark-3.2.1-bin-hadoop3.2/python/pyspark/pandas/data_type_ops/date_ops.py\n",
            "spark-3.2.1-bin-hadoop3.2/python/pyspark/pandas/data_type_ops/datetime_ops.py\n",
            "spark-3.2.1-bin-hadoop3.2/python/pyspark/pandas/data_type_ops/null_ops.py\n",
            "spark-3.2.1-bin-hadoop3.2/python/pyspark/pandas/data_type_ops/num_ops.py\n",
            "spark-3.2.1-bin-hadoop3.2/python/pyspark/pandas/data_type_ops/string_ops.py\n",
            "spark-3.2.1-bin-hadoop3.2/python/pyspark/pandas/data_type_ops/udt_ops.py\n",
            "spark-3.2.1-bin-hadoop3.2/python/pyspark/pandas/datetimes.py\n",
            "spark-3.2.1-bin-hadoop3.2/python/pyspark/pandas/exceptions.py\n",
            "spark-3.2.1-bin-hadoop3.2/python/pyspark/pandas/extensions.py\n",
            "spark-3.2.1-bin-hadoop3.2/python/pyspark/pandas/frame.py\n",
            "spark-3.2.1-bin-hadoop3.2/python/pyspark/pandas/generic.py\n",
            "spark-3.2.1-bin-hadoop3.2/python/pyspark/pandas/groupby.py\n",
            "spark-3.2.1-bin-hadoop3.2/python/pyspark/pandas/indexes/\n",
            "spark-3.2.1-bin-hadoop3.2/python/pyspark/pandas/indexes/__init__.py\n",
            "spark-3.2.1-bin-hadoop3.2/python/pyspark/pandas/indexes/base.py\n",
            "spark-3.2.1-bin-hadoop3.2/python/pyspark/pandas/indexes/category.py\n",
            "spark-3.2.1-bin-hadoop3.2/python/pyspark/pandas/indexes/datetimes.py\n",
            "spark-3.2.1-bin-hadoop3.2/python/pyspark/pandas/indexes/multi.py\n",
            "spark-3.2.1-bin-hadoop3.2/python/pyspark/pandas/indexes/numeric.py\n",
            "spark-3.2.1-bin-hadoop3.2/python/pyspark/pandas/indexing.py\n",
            "spark-3.2.1-bin-hadoop3.2/python/pyspark/pandas/internal.py\n",
            "spark-3.2.1-bin-hadoop3.2/python/pyspark/pandas/missing/\n",
            "spark-3.2.1-bin-hadoop3.2/python/pyspark/pandas/missing/__init__.py\n",
            "spark-3.2.1-bin-hadoop3.2/python/pyspark/pandas/missing/common.py\n",
            "spark-3.2.1-bin-hadoop3.2/python/pyspark/pandas/missing/frame.py\n",
            "spark-3.2.1-bin-hadoop3.2/python/pyspark/pandas/missing/groupby.py\n",
            "spark-3.2.1-bin-hadoop3.2/python/pyspark/pandas/missing/indexes.py\n",
            "spark-3.2.1-bin-hadoop3.2/python/pyspark/pandas/missing/series.py\n",
            "spark-3.2.1-bin-hadoop3.2/python/pyspark/pandas/missing/window.py\n",
            "spark-3.2.1-bin-hadoop3.2/python/pyspark/pandas/ml.py\n",
            "spark-3.2.1-bin-hadoop3.2/python/pyspark/pandas/mlflow.py\n",
            "spark-3.2.1-bin-hadoop3.2/python/pyspark/pandas/namespace.py\n",
            "spark-3.2.1-bin-hadoop3.2/python/pyspark/pandas/numpy_compat.py\n",
            "spark-3.2.1-bin-hadoop3.2/python/pyspark/pandas/plot/\n",
            "spark-3.2.1-bin-hadoop3.2/python/pyspark/pandas/plot/__init__.py\n",
            "spark-3.2.1-bin-hadoop3.2/python/pyspark/pandas/plot/core.py\n",
            "spark-3.2.1-bin-hadoop3.2/python/pyspark/pandas/plot/matplotlib.py\n",
            "spark-3.2.1-bin-hadoop3.2/python/pyspark/pandas/plot/plotly.py\n",
            "spark-3.2.1-bin-hadoop3.2/python/pyspark/pandas/series.py\n",
            "spark-3.2.1-bin-hadoop3.2/python/pyspark/pandas/spark/\n",
            "spark-3.2.1-bin-hadoop3.2/python/pyspark/pandas/spark/__init__.py\n",
            "spark-3.2.1-bin-hadoop3.2/python/pyspark/pandas/spark/accessors.py\n",
            "spark-3.2.1-bin-hadoop3.2/python/pyspark/pandas/spark/functions.py\n",
            "spark-3.2.1-bin-hadoop3.2/python/pyspark/pandas/spark/utils.py\n",
            "spark-3.2.1-bin-hadoop3.2/python/pyspark/pandas/sql_processor.py\n",
            "spark-3.2.1-bin-hadoop3.2/python/pyspark/pandas/strings.py\n",
            "spark-3.2.1-bin-hadoop3.2/python/pyspark/pandas/tests/\n",
            "spark-3.2.1-bin-hadoop3.2/python/pyspark/pandas/tests/__init__.py\n",
            "spark-3.2.1-bin-hadoop3.2/python/pyspark/pandas/tests/data_type_ops/\n",
            "spark-3.2.1-bin-hadoop3.2/python/pyspark/pandas/tests/data_type_ops/__init__.py\n",
            "spark-3.2.1-bin-hadoop3.2/python/pyspark/pandas/tests/data_type_ops/test_base.py\n",
            "spark-3.2.1-bin-hadoop3.2/python/pyspark/pandas/tests/data_type_ops/test_binary_ops.py\n",
            "spark-3.2.1-bin-hadoop3.2/python/pyspark/pandas/tests/data_type_ops/test_boolean_ops.py\n",
            "spark-3.2.1-bin-hadoop3.2/python/pyspark/pandas/tests/data_type_ops/test_categorical_ops.py\n",
            "spark-3.2.1-bin-hadoop3.2/python/pyspark/pandas/tests/data_type_ops/test_complex_ops.py\n",
            "spark-3.2.1-bin-hadoop3.2/python/pyspark/pandas/tests/data_type_ops/test_date_ops.py\n",
            "spark-3.2.1-bin-hadoop3.2/python/pyspark/pandas/tests/data_type_ops/test_datetime_ops.py\n",
            "spark-3.2.1-bin-hadoop3.2/python/pyspark/pandas/tests/data_type_ops/test_null_ops.py\n",
            "spark-3.2.1-bin-hadoop3.2/python/pyspark/pandas/tests/data_type_ops/test_num_ops.py\n",
            "spark-3.2.1-bin-hadoop3.2/python/pyspark/pandas/tests/data_type_ops/test_string_ops.py\n",
            "spark-3.2.1-bin-hadoop3.2/python/pyspark/pandas/tests/data_type_ops/test_udt_ops.py\n",
            "spark-3.2.1-bin-hadoop3.2/python/pyspark/pandas/tests/data_type_ops/testing_utils.py\n",
            "spark-3.2.1-bin-hadoop3.2/python/pyspark/pandas/tests/indexes/\n",
            "spark-3.2.1-bin-hadoop3.2/python/pyspark/pandas/tests/indexes/__init__.py\n",
            "spark-3.2.1-bin-hadoop3.2/python/pyspark/pandas/tests/indexes/test_base.py\n",
            "spark-3.2.1-bin-hadoop3.2/python/pyspark/pandas/tests/indexes/test_category.py\n",
            "spark-3.2.1-bin-hadoop3.2/python/pyspark/pandas/tests/indexes/test_datetime.py\n",
            "spark-3.2.1-bin-hadoop3.2/python/pyspark/pandas/tests/plot/\n",
            "spark-3.2.1-bin-hadoop3.2/python/pyspark/pandas/tests/plot/__init__.py\n",
            "spark-3.2.1-bin-hadoop3.2/python/pyspark/pandas/tests/plot/test_frame_plot.py\n",
            "spark-3.2.1-bin-hadoop3.2/python/pyspark/pandas/tests/plot/test_frame_plot_matplotlib.py\n",
            "spark-3.2.1-bin-hadoop3.2/python/pyspark/pandas/tests/plot/test_frame_plot_plotly.py\n",
            "spark-3.2.1-bin-hadoop3.2/python/pyspark/pandas/tests/plot/test_series_plot.py\n",
            "spark-3.2.1-bin-hadoop3.2/python/pyspark/pandas/tests/plot/test_series_plot_matplotlib.py\n",
            "spark-3.2.1-bin-hadoop3.2/python/pyspark/pandas/tests/plot/test_series_plot_plotly.py\n",
            "spark-3.2.1-bin-hadoop3.2/python/pyspark/pandas/tests/test_categorical.py\n",
            "spark-3.2.1-bin-hadoop3.2/python/pyspark/pandas/tests/test_config.py\n",
            "spark-3.2.1-bin-hadoop3.2/python/pyspark/pandas/tests/test_csv.py\n",
            "spark-3.2.1-bin-hadoop3.2/python/pyspark/pandas/tests/test_dataframe.py\n",
            "spark-3.2.1-bin-hadoop3.2/python/pyspark/pandas/tests/test_dataframe_conversion.py\n",
            "spark-3.2.1-bin-hadoop3.2/python/pyspark/pandas/tests/test_dataframe_spark_io.py\n",
            "spark-3.2.1-bin-hadoop3.2/python/pyspark/pandas/tests/test_default_index.py\n",
            "spark-3.2.1-bin-hadoop3.2/python/pyspark/pandas/tests/test_expanding.py\n",
            "spark-3.2.1-bin-hadoop3.2/python/pyspark/pandas/tests/test_extension.py\n",
            "spark-3.2.1-bin-hadoop3.2/python/pyspark/pandas/tests/test_frame_spark.py\n",
            "spark-3.2.1-bin-hadoop3.2/python/pyspark/pandas/tests/test_groupby.py\n",
            "spark-3.2.1-bin-hadoop3.2/python/pyspark/pandas/tests/test_indexing.py\n",
            "spark-3.2.1-bin-hadoop3.2/python/pyspark/pandas/tests/test_indexops_spark.py\n",
            "spark-3.2.1-bin-hadoop3.2/python/pyspark/pandas/tests/test_internal.py\n",
            "spark-3.2.1-bin-hadoop3.2/python/pyspark/pandas/tests/test_namespace.py\n",
            "spark-3.2.1-bin-hadoop3.2/python/pyspark/pandas/tests/test_numpy_compat.py\n",
            "spark-3.2.1-bin-hadoop3.2/python/pyspark/pandas/tests/test_ops_on_diff_frames.py\n",
            "spark-3.2.1-bin-hadoop3.2/python/pyspark/pandas/tests/test_ops_on_diff_frames_groupby.py\n",
            "spark-3.2.1-bin-hadoop3.2/python/pyspark/pandas/tests/test_ops_on_diff_frames_groupby_expanding.py\n",
            "spark-3.2.1-bin-hadoop3.2/python/pyspark/pandas/tests/test_ops_on_diff_frames_groupby_rolling.py\n",
            "spark-3.2.1-bin-hadoop3.2/python/pyspark/pandas/tests/test_repr.py\n",
            "spark-3.2.1-bin-hadoop3.2/python/pyspark/pandas/tests/test_reshape.py\n",
            "spark-3.2.1-bin-hadoop3.2/python/pyspark/pandas/tests/test_rolling.py\n",
            "spark-3.2.1-bin-hadoop3.2/python/pyspark/pandas/tests/test_series.py\n",
            "spark-3.2.1-bin-hadoop3.2/python/pyspark/pandas/tests/test_series_conversion.py\n",
            "spark-3.2.1-bin-hadoop3.2/python/pyspark/pandas/tests/test_series_datetime.py\n",
            "spark-3.2.1-bin-hadoop3.2/python/pyspark/pandas/tests/test_series_string.py\n",
            "spark-3.2.1-bin-hadoop3.2/python/pyspark/pandas/tests/test_spark_functions.py\n",
            "spark-3.2.1-bin-hadoop3.2/python/pyspark/pandas/tests/test_sql.py\n",
            "spark-3.2.1-bin-hadoop3.2/python/pyspark/pandas/tests/test_stats.py\n",
            "spark-3.2.1-bin-hadoop3.2/python/pyspark/pandas/tests/test_typedef.py\n",
            "spark-3.2.1-bin-hadoop3.2/python/pyspark/pandas/tests/test_utils.py\n",
            "spark-3.2.1-bin-hadoop3.2/python/pyspark/pandas/tests/test_window.py\n",
            "spark-3.2.1-bin-hadoop3.2/python/pyspark/pandas/typedef/\n",
            "spark-3.2.1-bin-hadoop3.2/python/pyspark/pandas/typedef/__init__.py\n",
            "spark-3.2.1-bin-hadoop3.2/python/pyspark/pandas/typedef/string_typehints.py\n",
            "spark-3.2.1-bin-hadoop3.2/python/pyspark/pandas/typedef/typehints.py\n",
            "spark-3.2.1-bin-hadoop3.2/python/pyspark/pandas/usage_logging/\n",
            "spark-3.2.1-bin-hadoop3.2/python/pyspark/pandas/usage_logging/__init__.py\n",
            "spark-3.2.1-bin-hadoop3.2/python/pyspark/pandas/usage_logging/usage_logger.py\n",
            "spark-3.2.1-bin-hadoop3.2/python/pyspark/pandas/utils.py\n",
            "spark-3.2.1-bin-hadoop3.2/python/pyspark/pandas/window.py\n",
            "spark-3.2.1-bin-hadoop3.2/python/pyspark/profiler.py\n",
            "spark-3.2.1-bin-hadoop3.2/python/pyspark/profiler.pyi\n",
            "spark-3.2.1-bin-hadoop3.2/python/pyspark/py.typed\n",
            "spark-3.2.1-bin-hadoop3.2/python/pyspark/python/\n",
            "spark-3.2.1-bin-hadoop3.2/python/pyspark/python/pyspark/\n",
            "spark-3.2.1-bin-hadoop3.2/python/pyspark/python/pyspark/shell.py\n",
            "spark-3.2.1-bin-hadoop3.2/python/pyspark/rdd.py\n",
            "spark-3.2.1-bin-hadoop3.2/python/pyspark/rdd.pyi\n",
            "spark-3.2.1-bin-hadoop3.2/python/pyspark/rddsampler.py\n",
            "spark-3.2.1-bin-hadoop3.2/python/pyspark/resource/\n",
            "spark-3.2.1-bin-hadoop3.2/python/pyspark/resource/__init__.py\n",
            "spark-3.2.1-bin-hadoop3.2/python/pyspark/resource/information.py\n",
            "spark-3.2.1-bin-hadoop3.2/python/pyspark/resource/information.pyi\n",
            "spark-3.2.1-bin-hadoop3.2/python/pyspark/resource/profile.py\n",
            "spark-3.2.1-bin-hadoop3.2/python/pyspark/resource/profile.pyi\n",
            "spark-3.2.1-bin-hadoop3.2/python/pyspark/resource/requests.py\n",
            "spark-3.2.1-bin-hadoop3.2/python/pyspark/resource/requests.pyi\n",
            "spark-3.2.1-bin-hadoop3.2/python/pyspark/resource/tests/\n",
            "spark-3.2.1-bin-hadoop3.2/python/pyspark/resource/tests/__init__.py\n",
            "spark-3.2.1-bin-hadoop3.2/python/pyspark/resource/tests/test_resources.py\n",
            "spark-3.2.1-bin-hadoop3.2/python/pyspark/resultiterable.py\n",
            "spark-3.2.1-bin-hadoop3.2/python/pyspark/resultiterable.pyi\n",
            "spark-3.2.1-bin-hadoop3.2/python/pyspark/serializers.py\n",
            "spark-3.2.1-bin-hadoop3.2/python/pyspark/shell.py\n",
            "spark-3.2.1-bin-hadoop3.2/python/pyspark/shuffle.py\n",
            "spark-3.2.1-bin-hadoop3.2/python/pyspark/sql/\n",
            "spark-3.2.1-bin-hadoop3.2/python/pyspark/sql/__init__.py\n",
            "spark-3.2.1-bin-hadoop3.2/python/pyspark/sql/__init__.pyi\n",
            "spark-3.2.1-bin-hadoop3.2/python/pyspark/sql/_typing.pyi\n",
            "spark-3.2.1-bin-hadoop3.2/python/pyspark/sql/avro/\n",
            "spark-3.2.1-bin-hadoop3.2/python/pyspark/sql/avro/__init__.py\n",
            "spark-3.2.1-bin-hadoop3.2/python/pyspark/sql/avro/functions.py\n",
            "spark-3.2.1-bin-hadoop3.2/python/pyspark/sql/avro/functions.pyi\n",
            "spark-3.2.1-bin-hadoop3.2/python/pyspark/sql/catalog.py\n",
            "spark-3.2.1-bin-hadoop3.2/python/pyspark/sql/catalog.pyi\n",
            "spark-3.2.1-bin-hadoop3.2/python/pyspark/sql/column.py\n",
            "spark-3.2.1-bin-hadoop3.2/python/pyspark/sql/column.pyi\n",
            "spark-3.2.1-bin-hadoop3.2/python/pyspark/sql/conf.py\n",
            "spark-3.2.1-bin-hadoop3.2/python/pyspark/sql/conf.pyi\n",
            "spark-3.2.1-bin-hadoop3.2/python/pyspark/sql/context.py\n",
            "spark-3.2.1-bin-hadoop3.2/python/pyspark/sql/context.pyi\n",
            "spark-3.2.1-bin-hadoop3.2/python/pyspark/sql/dataframe.py\n",
            "spark-3.2.1-bin-hadoop3.2/python/pyspark/sql/dataframe.pyi\n",
            "spark-3.2.1-bin-hadoop3.2/python/pyspark/sql/functions.py\n",
            "spark-3.2.1-bin-hadoop3.2/python/pyspark/sql/functions.pyi\n",
            "spark-3.2.1-bin-hadoop3.2/python/pyspark/sql/group.py\n",
            "spark-3.2.1-bin-hadoop3.2/python/pyspark/sql/group.pyi\n",
            "spark-3.2.1-bin-hadoop3.2/python/pyspark/sql/pandas/\n",
            "spark-3.2.1-bin-hadoop3.2/python/pyspark/sql/pandas/__init__.py\n",
            "spark-3.2.1-bin-hadoop3.2/python/pyspark/sql/pandas/_typing/\n",
            "spark-3.2.1-bin-hadoop3.2/python/pyspark/sql/pandas/_typing/__init__.pyi\n",
            "spark-3.2.1-bin-hadoop3.2/python/pyspark/sql/pandas/_typing/protocols/\n",
            "spark-3.2.1-bin-hadoop3.2/python/pyspark/sql/pandas/_typing/protocols/__init__.pyi\n",
            "spark-3.2.1-bin-hadoop3.2/python/pyspark/sql/pandas/_typing/protocols/frame.pyi\n",
            "spark-3.2.1-bin-hadoop3.2/python/pyspark/sql/pandas/_typing/protocols/series.pyi\n",
            "spark-3.2.1-bin-hadoop3.2/python/pyspark/sql/pandas/conversion.py\n",
            "spark-3.2.1-bin-hadoop3.2/python/pyspark/sql/pandas/conversion.pyi\n",
            "spark-3.2.1-bin-hadoop3.2/python/pyspark/sql/pandas/functions.py\n",
            "spark-3.2.1-bin-hadoop3.2/python/pyspark/sql/pandas/functions.pyi\n",
            "spark-3.2.1-bin-hadoop3.2/python/pyspark/sql/pandas/group_ops.py\n",
            "spark-3.2.1-bin-hadoop3.2/python/pyspark/sql/pandas/group_ops.pyi\n",
            "spark-3.2.1-bin-hadoop3.2/python/pyspark/sql/pandas/map_ops.py\n",
            "spark-3.2.1-bin-hadoop3.2/python/pyspark/sql/pandas/map_ops.pyi\n",
            "spark-3.2.1-bin-hadoop3.2/python/pyspark/sql/pandas/serializers.py\n",
            "spark-3.2.1-bin-hadoop3.2/python/pyspark/sql/pandas/typehints.py\n",
            "spark-3.2.1-bin-hadoop3.2/python/pyspark/sql/pandas/types.py\n",
            "spark-3.2.1-bin-hadoop3.2/python/pyspark/sql/pandas/utils.py\n",
            "spark-3.2.1-bin-hadoop3.2/python/pyspark/sql/readwriter.py\n",
            "spark-3.2.1-bin-hadoop3.2/python/pyspark/sql/readwriter.pyi\n",
            "spark-3.2.1-bin-hadoop3.2/python/pyspark/sql/session.py\n",
            "spark-3.2.1-bin-hadoop3.2/python/pyspark/sql/session.pyi\n",
            "spark-3.2.1-bin-hadoop3.2/python/pyspark/sql/streaming.py\n",
            "spark-3.2.1-bin-hadoop3.2/python/pyspark/sql/streaming.pyi\n",
            "spark-3.2.1-bin-hadoop3.2/python/pyspark/sql/tests/\n",
            "spark-3.2.1-bin-hadoop3.2/python/pyspark/sql/tests/__init__.py\n",
            "spark-3.2.1-bin-hadoop3.2/python/pyspark/sql/tests/test_arrow.py\n",
            "spark-3.2.1-bin-hadoop3.2/python/pyspark/sql/tests/test_catalog.py\n",
            "spark-3.2.1-bin-hadoop3.2/python/pyspark/sql/tests/test_column.py\n",
            "spark-3.2.1-bin-hadoop3.2/python/pyspark/sql/tests/test_conf.py\n",
            "spark-3.2.1-bin-hadoop3.2/python/pyspark/sql/tests/test_context.py\n",
            "spark-3.2.1-bin-hadoop3.2/python/pyspark/sql/tests/test_dataframe.py\n",
            "spark-3.2.1-bin-hadoop3.2/python/pyspark/sql/tests/test_datasources.py\n",
            "spark-3.2.1-bin-hadoop3.2/python/pyspark/sql/tests/test_functions.py\n",
            "spark-3.2.1-bin-hadoop3.2/python/pyspark/sql/tests/test_group.py\n",
            "spark-3.2.1-bin-hadoop3.2/python/pyspark/sql/tests/test_pandas_cogrouped_map.py\n",
            "spark-3.2.1-bin-hadoop3.2/python/pyspark/sql/tests/test_pandas_grouped_map.py\n",
            "spark-3.2.1-bin-hadoop3.2/python/pyspark/sql/tests/test_pandas_map.py\n",
            "spark-3.2.1-bin-hadoop3.2/python/pyspark/sql/tests/test_pandas_udf.py\n",
            "spark-3.2.1-bin-hadoop3.2/python/pyspark/sql/tests/test_pandas_udf_grouped_agg.py\n",
            "spark-3.2.1-bin-hadoop3.2/python/pyspark/sql/tests/test_pandas_udf_scalar.py\n",
            "spark-3.2.1-bin-hadoop3.2/python/pyspark/sql/tests/test_pandas_udf_typehints.py\n",
            "spark-3.2.1-bin-hadoop3.2/python/pyspark/sql/tests/test_pandas_udf_window.py\n",
            "spark-3.2.1-bin-hadoop3.2/python/pyspark/sql/tests/test_readwriter.py\n",
            "spark-3.2.1-bin-hadoop3.2/python/pyspark/sql/tests/test_serde.py\n",
            "spark-3.2.1-bin-hadoop3.2/python/pyspark/sql/tests/test_session.py\n",
            "spark-3.2.1-bin-hadoop3.2/python/pyspark/sql/tests/test_streaming.py\n",
            "spark-3.2.1-bin-hadoop3.2/python/pyspark/sql/tests/test_types.py\n",
            "spark-3.2.1-bin-hadoop3.2/python/pyspark/sql/tests/test_udf.py\n",
            "spark-3.2.1-bin-hadoop3.2/python/pyspark/sql/tests/test_utils.py\n",
            "spark-3.2.1-bin-hadoop3.2/python/pyspark/sql/types.py\n",
            "spark-3.2.1-bin-hadoop3.2/python/pyspark/sql/types.pyi\n",
            "spark-3.2.1-bin-hadoop3.2/python/pyspark/sql/udf.py\n",
            "spark-3.2.1-bin-hadoop3.2/python/pyspark/sql/udf.pyi\n",
            "spark-3.2.1-bin-hadoop3.2/python/pyspark/sql/utils.py\n",
            "spark-3.2.1-bin-hadoop3.2/python/pyspark/sql/window.py\n",
            "spark-3.2.1-bin-hadoop3.2/python/pyspark/sql/window.pyi\n",
            "spark-3.2.1-bin-hadoop3.2/python/pyspark/statcounter.py\n",
            "spark-3.2.1-bin-hadoop3.2/python/pyspark/statcounter.pyi\n",
            "spark-3.2.1-bin-hadoop3.2/python/pyspark/status.py\n",
            "spark-3.2.1-bin-hadoop3.2/python/pyspark/status.pyi\n",
            "spark-3.2.1-bin-hadoop3.2/python/pyspark/storagelevel.py\n",
            "spark-3.2.1-bin-hadoop3.2/python/pyspark/storagelevel.pyi\n",
            "spark-3.2.1-bin-hadoop3.2/python/pyspark/streaming/\n",
            "spark-3.2.1-bin-hadoop3.2/python/pyspark/streaming/__init__.py\n",
            "spark-3.2.1-bin-hadoop3.2/python/pyspark/streaming/context.py\n",
            "spark-3.2.1-bin-hadoop3.2/python/pyspark/streaming/context.pyi\n",
            "spark-3.2.1-bin-hadoop3.2/python/pyspark/streaming/dstream.py\n",
            "spark-3.2.1-bin-hadoop3.2/python/pyspark/streaming/dstream.pyi\n",
            "spark-3.2.1-bin-hadoop3.2/python/pyspark/streaming/kinesis.py\n",
            "spark-3.2.1-bin-hadoop3.2/python/pyspark/streaming/kinesis.pyi\n",
            "spark-3.2.1-bin-hadoop3.2/python/pyspark/streaming/listener.py\n",
            "spark-3.2.1-bin-hadoop3.2/python/pyspark/streaming/listener.pyi\n",
            "spark-3.2.1-bin-hadoop3.2/python/pyspark/streaming/tests/\n",
            "spark-3.2.1-bin-hadoop3.2/python/pyspark/streaming/tests/__init__.py\n",
            "spark-3.2.1-bin-hadoop3.2/python/pyspark/streaming/tests/test_context.py\n",
            "spark-3.2.1-bin-hadoop3.2/python/pyspark/streaming/tests/test_dstream.py\n",
            "spark-3.2.1-bin-hadoop3.2/python/pyspark/streaming/tests/test_kinesis.py\n",
            "spark-3.2.1-bin-hadoop3.2/python/pyspark/streaming/tests/test_listener.py\n",
            "spark-3.2.1-bin-hadoop3.2/python/pyspark/streaming/util.py\n",
            "spark-3.2.1-bin-hadoop3.2/python/pyspark/taskcontext.py\n",
            "spark-3.2.1-bin-hadoop3.2/python/pyspark/taskcontext.pyi\n",
            "spark-3.2.1-bin-hadoop3.2/python/pyspark/testing/\n",
            "spark-3.2.1-bin-hadoop3.2/python/pyspark/testing/__init__.py\n",
            "spark-3.2.1-bin-hadoop3.2/python/pyspark/testing/mllibutils.py\n",
            "spark-3.2.1-bin-hadoop3.2/python/pyspark/testing/mlutils.py\n",
            "spark-3.2.1-bin-hadoop3.2/python/pyspark/testing/pandasutils.py\n",
            "spark-3.2.1-bin-hadoop3.2/python/pyspark/testing/sqlutils.py\n",
            "spark-3.2.1-bin-hadoop3.2/python/pyspark/testing/streamingutils.py\n",
            "spark-3.2.1-bin-hadoop3.2/python/pyspark/testing/utils.py\n",
            "spark-3.2.1-bin-hadoop3.2/python/pyspark/tests/\n",
            "spark-3.2.1-bin-hadoop3.2/python/pyspark/tests/__init__.py\n",
            "spark-3.2.1-bin-hadoop3.2/python/pyspark/tests/test_appsubmit.py\n",
            "spark-3.2.1-bin-hadoop3.2/python/pyspark/tests/test_broadcast.py\n",
            "spark-3.2.1-bin-hadoop3.2/python/pyspark/tests/test_conf.py\n",
            "spark-3.2.1-bin-hadoop3.2/python/pyspark/tests/test_context.py\n",
            "spark-3.2.1-bin-hadoop3.2/python/pyspark/tests/test_daemon.py\n",
            "spark-3.2.1-bin-hadoop3.2/python/pyspark/tests/test_install_spark.py\n",
            "spark-3.2.1-bin-hadoop3.2/python/pyspark/tests/test_join.py\n",
            "spark-3.2.1-bin-hadoop3.2/python/pyspark/tests/test_pin_thread.py\n",
            "spark-3.2.1-bin-hadoop3.2/python/pyspark/tests/test_profiler.py\n",
            "spark-3.2.1-bin-hadoop3.2/python/pyspark/tests/test_rdd.py\n",
            "spark-3.2.1-bin-hadoop3.2/python/pyspark/tests/test_rddbarrier.py\n",
            "spark-3.2.1-bin-hadoop3.2/python/pyspark/tests/test_readwrite.py\n",
            "spark-3.2.1-bin-hadoop3.2/python/pyspark/tests/test_serializers.py\n",
            "spark-3.2.1-bin-hadoop3.2/python/pyspark/tests/test_shuffle.py\n",
            "spark-3.2.1-bin-hadoop3.2/python/pyspark/tests/test_taskcontext.py\n",
            "spark-3.2.1-bin-hadoop3.2/python/pyspark/tests/test_util.py\n",
            "spark-3.2.1-bin-hadoop3.2/python/pyspark/tests/test_worker.py\n",
            "spark-3.2.1-bin-hadoop3.2/python/pyspark/traceback_utils.py\n",
            "spark-3.2.1-bin-hadoop3.2/python/pyspark/util.py\n",
            "spark-3.2.1-bin-hadoop3.2/python/pyspark/util.pyi\n",
            "spark-3.2.1-bin-hadoop3.2/python/pyspark/version.py\n",
            "spark-3.2.1-bin-hadoop3.2/python/pyspark/version.pyi\n",
            "spark-3.2.1-bin-hadoop3.2/python/pyspark/worker.py\n",
            "spark-3.2.1-bin-hadoop3.2/python/pyspark.egg-info/\n",
            "spark-3.2.1-bin-hadoop3.2/python/pyspark.egg-info/PKG-INFO\n",
            "spark-3.2.1-bin-hadoop3.2/python/pyspark.egg-info/SOURCES.txt\n",
            "spark-3.2.1-bin-hadoop3.2/python/pyspark.egg-info/dependency_links.txt\n",
            "spark-3.2.1-bin-hadoop3.2/python/pyspark.egg-info/requires.txt\n",
            "spark-3.2.1-bin-hadoop3.2/python/pyspark.egg-info/top_level.txt\n",
            "spark-3.2.1-bin-hadoop3.2/python/run-tests\n",
            "spark-3.2.1-bin-hadoop3.2/python/run-tests-with-coverage\n",
            "spark-3.2.1-bin-hadoop3.2/python/run-tests.py\n",
            "spark-3.2.1-bin-hadoop3.2/python/setup.cfg\n",
            "spark-3.2.1-bin-hadoop3.2/python/setup.py\n",
            "spark-3.2.1-bin-hadoop3.2/python/test_coverage/\n",
            "spark-3.2.1-bin-hadoop3.2/python/test_coverage/conf/\n",
            "spark-3.2.1-bin-hadoop3.2/python/test_coverage/conf/spark-defaults.conf\n",
            "spark-3.2.1-bin-hadoop3.2/python/test_coverage/coverage_daemon.py\n",
            "spark-3.2.1-bin-hadoop3.2/python/test_coverage/sitecustomize.py\n",
            "spark-3.2.1-bin-hadoop3.2/python/test_support/\n",
            "spark-3.2.1-bin-hadoop3.2/python/test_support/SimpleHTTPServer.py\n",
            "spark-3.2.1-bin-hadoop3.2/python/test_support/hello/\n",
            "spark-3.2.1-bin-hadoop3.2/python/test_support/hello/hello.txt\n",
            "spark-3.2.1-bin-hadoop3.2/python/test_support/hello/sub_hello/\n",
            "spark-3.2.1-bin-hadoop3.2/python/test_support/hello/sub_hello/sub_hello.txt\n",
            "spark-3.2.1-bin-hadoop3.2/python/test_support/sql/\n",
            "spark-3.2.1-bin-hadoop3.2/python/test_support/sql/ages.csv\n",
            "spark-3.2.1-bin-hadoop3.2/python/test_support/sql/ages_newlines.csv\n",
            "spark-3.2.1-bin-hadoop3.2/python/test_support/sql/orc_partitioned/\n",
            "spark-3.2.1-bin-hadoop3.2/python/test_support/sql/orc_partitioned/_SUCCESS\n",
            "spark-3.2.1-bin-hadoop3.2/python/test_support/sql/orc_partitioned/b=0/\n",
            "spark-3.2.1-bin-hadoop3.2/python/test_support/sql/orc_partitioned/b=0/c=0/\n",
            "spark-3.2.1-bin-hadoop3.2/python/test_support/sql/orc_partitioned/b=0/c=0/.part-r-00000-829af031-b970-49d6-ad39-30460a0be2c8.orc.crc\n",
            "spark-3.2.1-bin-hadoop3.2/python/test_support/sql/orc_partitioned/b=0/c=0/part-r-00000-829af031-b970-49d6-ad39-30460a0be2c8.orc\n",
            "spark-3.2.1-bin-hadoop3.2/python/test_support/sql/orc_partitioned/b=1/\n",
            "spark-3.2.1-bin-hadoop3.2/python/test_support/sql/orc_partitioned/b=1/c=1/\n",
            "spark-3.2.1-bin-hadoop3.2/python/test_support/sql/orc_partitioned/b=1/c=1/.part-r-00000-829af031-b970-49d6-ad39-30460a0be2c8.orc.crc\n",
            "spark-3.2.1-bin-hadoop3.2/python/test_support/sql/orc_partitioned/b=1/c=1/part-r-00000-829af031-b970-49d6-ad39-30460a0be2c8.orc\n",
            "spark-3.2.1-bin-hadoop3.2/python/test_support/sql/parquet_partitioned/\n",
            "spark-3.2.1-bin-hadoop3.2/python/test_support/sql/parquet_partitioned/_SUCCESS\n",
            "spark-3.2.1-bin-hadoop3.2/python/test_support/sql/parquet_partitioned/_common_metadata\n",
            "spark-3.2.1-bin-hadoop3.2/python/test_support/sql/parquet_partitioned/_metadata\n",
            "spark-3.2.1-bin-hadoop3.2/python/test_support/sql/parquet_partitioned/year=2014/\n",
            "spark-3.2.1-bin-hadoop3.2/python/test_support/sql/parquet_partitioned/year=2014/month=9/\n",
            "spark-3.2.1-bin-hadoop3.2/python/test_support/sql/parquet_partitioned/year=2014/month=9/day=1/\n",
            "spark-3.2.1-bin-hadoop3.2/python/test_support/sql/parquet_partitioned/year=2014/month=9/day=1/.part-r-00008.gz.parquet.crc\n",
            "spark-3.2.1-bin-hadoop3.2/python/test_support/sql/parquet_partitioned/year=2014/month=9/day=1/part-r-00008.gz.parquet\n",
            "spark-3.2.1-bin-hadoop3.2/python/test_support/sql/parquet_partitioned/year=2015/\n",
            "spark-3.2.1-bin-hadoop3.2/python/test_support/sql/parquet_partitioned/year=2015/month=10/\n",
            "spark-3.2.1-bin-hadoop3.2/python/test_support/sql/parquet_partitioned/year=2015/month=10/day=25/\n",
            "spark-3.2.1-bin-hadoop3.2/python/test_support/sql/parquet_partitioned/year=2015/month=10/day=25/.part-r-00002.gz.parquet.crc\n",
            "spark-3.2.1-bin-hadoop3.2/python/test_support/sql/parquet_partitioned/year=2015/month=10/day=25/.part-r-00004.gz.parquet.crc\n",
            "spark-3.2.1-bin-hadoop3.2/python/test_support/sql/parquet_partitioned/year=2015/month=10/day=25/part-r-00002.gz.parquet\n",
            "spark-3.2.1-bin-hadoop3.2/python/test_support/sql/parquet_partitioned/year=2015/month=10/day=25/part-r-00004.gz.parquet\n",
            "spark-3.2.1-bin-hadoop3.2/python/test_support/sql/parquet_partitioned/year=2015/month=10/day=26/\n",
            "spark-3.2.1-bin-hadoop3.2/python/test_support/sql/parquet_partitioned/year=2015/month=10/day=26/.part-r-00005.gz.parquet.crc\n",
            "spark-3.2.1-bin-hadoop3.2/python/test_support/sql/parquet_partitioned/year=2015/month=10/day=26/part-r-00005.gz.parquet\n",
            "spark-3.2.1-bin-hadoop3.2/python/test_support/sql/parquet_partitioned/year=2015/month=9/\n",
            "spark-3.2.1-bin-hadoop3.2/python/test_support/sql/parquet_partitioned/year=2015/month=9/day=1/\n",
            "spark-3.2.1-bin-hadoop3.2/python/test_support/sql/parquet_partitioned/year=2015/month=9/day=1/.part-r-00007.gz.parquet.crc\n",
            "spark-3.2.1-bin-hadoop3.2/python/test_support/sql/parquet_partitioned/year=2015/month=9/day=1/part-r-00007.gz.parquet\n",
            "spark-3.2.1-bin-hadoop3.2/python/test_support/sql/people.json\n",
            "spark-3.2.1-bin-hadoop3.2/python/test_support/sql/people1.json\n",
            "spark-3.2.1-bin-hadoop3.2/python/test_support/sql/people_array.json\n",
            "spark-3.2.1-bin-hadoop3.2/python/test_support/sql/people_array_utf16le.json\n",
            "spark-3.2.1-bin-hadoop3.2/python/test_support/sql/streaming/\n",
            "spark-3.2.1-bin-hadoop3.2/python/test_support/sql/streaming/text-test.txt\n",
            "spark-3.2.1-bin-hadoop3.2/python/test_support/sql/text-test.txt\n",
            "spark-3.2.1-bin-hadoop3.2/python/test_support/userlib-0.1.zip\n",
            "spark-3.2.1-bin-hadoop3.2/python/test_support/userlibrary.py\n",
            "spark-3.2.1-bin-hadoop3.2/sbin/\n",
            "spark-3.2.1-bin-hadoop3.2/sbin/decommission-slave.sh\n",
            "spark-3.2.1-bin-hadoop3.2/sbin/decommission-worker.sh\n",
            "spark-3.2.1-bin-hadoop3.2/sbin/slaves.sh\n",
            "spark-3.2.1-bin-hadoop3.2/sbin/spark-config.sh\n",
            "spark-3.2.1-bin-hadoop3.2/sbin/spark-daemon.sh\n",
            "spark-3.2.1-bin-hadoop3.2/sbin/spark-daemons.sh\n",
            "spark-3.2.1-bin-hadoop3.2/sbin/start-all.sh\n",
            "spark-3.2.1-bin-hadoop3.2/sbin/start-history-server.sh\n",
            "spark-3.2.1-bin-hadoop3.2/sbin/start-master.sh\n",
            "spark-3.2.1-bin-hadoop3.2/sbin/start-mesos-dispatcher.sh\n",
            "spark-3.2.1-bin-hadoop3.2/sbin/start-mesos-shuffle-service.sh\n",
            "spark-3.2.1-bin-hadoop3.2/sbin/start-slave.sh\n",
            "spark-3.2.1-bin-hadoop3.2/sbin/start-slaves.sh\n",
            "spark-3.2.1-bin-hadoop3.2/sbin/start-thriftserver.sh\n",
            "spark-3.2.1-bin-hadoop3.2/sbin/start-worker.sh\n",
            "spark-3.2.1-bin-hadoop3.2/sbin/start-workers.sh\n",
            "spark-3.2.1-bin-hadoop3.2/sbin/stop-all.sh\n",
            "spark-3.2.1-bin-hadoop3.2/sbin/stop-history-server.sh\n",
            "spark-3.2.1-bin-hadoop3.2/sbin/stop-master.sh\n",
            "spark-3.2.1-bin-hadoop3.2/sbin/stop-mesos-dispatcher.sh\n",
            "spark-3.2.1-bin-hadoop3.2/sbin/stop-mesos-shuffle-service.sh\n",
            "spark-3.2.1-bin-hadoop3.2/sbin/stop-slave.sh\n",
            "spark-3.2.1-bin-hadoop3.2/sbin/stop-slaves.sh\n",
            "spark-3.2.1-bin-hadoop3.2/sbin/stop-thriftserver.sh\n",
            "spark-3.2.1-bin-hadoop3.2/sbin/stop-worker.sh\n",
            "spark-3.2.1-bin-hadoop3.2/sbin/stop-workers.sh\n",
            "spark-3.2.1-bin-hadoop3.2/sbin/workers.sh\n",
            "spark-3.2.1-bin-hadoop3.2/yarn/\n",
            "spark-3.2.1-bin-hadoop3.2/yarn/spark-3.2.1-yarn-shuffle.jar\n"
          ]
        }
      ]
    },
    {
      "cell_type": "code",
      "source": [
        "!ls "
      ],
      "metadata": {
        "colab": {
          "base_uri": "https://localhost:8080/"
        },
        "id": "14IpLEbu77mG",
        "outputId": "dbe1d2bb-1477-4323-daad-d32279b83e15"
      },
      "execution_count": 7,
      "outputs": [
        {
          "output_type": "stream",
          "name": "stdout",
          "text": [
            "Amazon_Responded_Oct05.csv\t  spark-3.2.1-bin-hadoop3.2.tgz.30\n",
            "daily_active_users.csv\t\t  spark-3.2.1-bin-hadoop3.2.tgz.31\n",
            "data.json\t\t\t  spark-3.2.1-bin-hadoop3.2.tgz.32\n",
            "experiment.txt\t\t\t  spark-3.2.1-bin-hadoop3.2.tgz.33\n",
            "experiment_user.csv\t\t  spark-3.2.1-bin-hadoop3.2.tgz.34\n",
            "final_experiment.csv\t\t  spark-3.2.1-bin-hadoop3.2.tgz.35\n",
            "finalexperimentnew.csv\t\t  spark-3.2.1-bin-hadoop3.2.tgz.36\n",
            "find_text.csv\t\t\t  spark-3.2.1-bin-hadoop3.2.tgz.37\n",
            "findtextfinal.csv\t\t  spark-3.2.1-bin-hadoop3.2.tgz.38\n",
            "iris.data\t\t\t  spark-3.2.1-bin-hadoop3.2.tgz.39\n",
            "mini_sparkify_event_data.json\t  spark-3.2.1-bin-hadoop3.2.tgz.4\n",
            "page_url.csv\t\t\t  spark-3.2.1-bin-hadoop3.2.tgz.40\n",
            "page_url.txt\t\t\t  spark-3.2.1-bin-hadoop3.2.tgz.41\n",
            "page_url.xlsx\t\t\t  spark-3.2.1-bin-hadoop3.2.tgz.42\n",
            "page_view.csv\t\t\t  spark-3.2.1-bin-hadoop3.2.tgz.43\n",
            "page_view.gsheet\t\t  spark-3.2.1-bin-hadoop3.2.tgz.44\n",
            "page_view.txt\t\t\t  spark-3.2.1-bin-hadoop3.2.tgz.45\n",
            "page_view.xlsx\t\t\t  spark-3.2.1-bin-hadoop3.2.tgz.46\n",
            "spark-3.2.1-bin-hadoop3.2\t  spark-3.2.1-bin-hadoop3.2.tgz.47\n",
            "spark-3.2.1-bin-hadoop3.2.tgz\t  spark-3.2.1-bin-hadoop3.2.tgz.48\n",
            "spark-3.2.1-bin-hadoop3.2.tgz.1   spark-3.2.1-bin-hadoop3.2.tgz.49\n",
            "spark-3.2.1-bin-hadoop3.2.tgz.10  spark-3.2.1-bin-hadoop3.2.tgz.5\n",
            "spark-3.2.1-bin-hadoop3.2.tgz.11  spark-3.2.1-bin-hadoop3.2.tgz.50\n",
            "spark-3.2.1-bin-hadoop3.2.tgz.12  spark-3.2.1-bin-hadoop3.2.tgz.51\n",
            "spark-3.2.1-bin-hadoop3.2.tgz.13  spark-3.2.1-bin-hadoop3.2.tgz.52\n",
            "spark-3.2.1-bin-hadoop3.2.tgz.14  spark-3.2.1-bin-hadoop3.2.tgz.53\n",
            "spark-3.2.1-bin-hadoop3.2.tgz.15  spark-3.2.1-bin-hadoop3.2.tgz.54\n",
            "spark-3.2.1-bin-hadoop3.2.tgz.16  spark-3.2.1-bin-hadoop3.2.tgz.55\n",
            "spark-3.2.1-bin-hadoop3.2.tgz.17  spark-3.2.1-bin-hadoop3.2.tgz.56\n",
            "spark-3.2.1-bin-hadoop3.2.tgz.18  spark-3.2.1-bin-hadoop3.2.tgz.57\n",
            "spark-3.2.1-bin-hadoop3.2.tgz.19  spark-3.2.1-bin-hadoop3.2.tgz.58\n",
            "spark-3.2.1-bin-hadoop3.2.tgz.2   spark-3.2.1-bin-hadoop3.2.tgz.59\n",
            "spark-3.2.1-bin-hadoop3.2.tgz.20  spark-3.2.1-bin-hadoop3.2.tgz.6\n",
            "spark-3.2.1-bin-hadoop3.2.tgz.21  spark-3.2.1-bin-hadoop3.2.tgz.60\n",
            "spark-3.2.1-bin-hadoop3.2.tgz.22  spark-3.2.1-bin-hadoop3.2.tgz.61\n",
            "spark-3.2.1-bin-hadoop3.2.tgz.23  spark-3.2.1-bin-hadoop3.2.tgz.7\n",
            "spark-3.2.1-bin-hadoop3.2.tgz.24  spark-3.2.1-bin-hadoop3.2.tgz.8\n",
            "spark-3.2.1-bin-hadoop3.2.tgz.25  spark-3.2.1-bin-hadoop3.2.tgz.9\n",
            "spark-3.2.1-bin-hadoop3.2.tgz.26  u.data\n",
            "spark-3.2.1-bin-hadoop3.2.tgz.27  user.csv\n",
            "spark-3.2.1-bin-hadoop3.2.tgz.28  user.txt\n",
            "spark-3.2.1-bin-hadoop3.2.tgz.29  user.xlsx\n",
            "spark-3.2.1-bin-hadoop3.2.tgz.3   wordcount.csv\n"
          ]
        }
      ]
    },
    {
      "cell_type": "code",
      "source": [
        "!pip install -q findspark"
      ],
      "metadata": {
        "id": "RsKHzsJt8bdD"
      },
      "execution_count": 8,
      "outputs": []
    },
    {
      "cell_type": "code",
      "source": [
        "import os\n",
        "os.environ[\"JAVA_HOME\"] = \"/usr/lib/jvm/java-8-openjdk-amd64\"\n",
        "os.environ[\"SPARK_HOME\"] = \"/content/drive/MyDrive/IDS 561 Assignment/spark-3.2.1-bin-hadoop3.2\""
      ],
      "metadata": {
        "id": "VDWsdxri8gLS"
      },
      "execution_count": 9,
      "outputs": []
    },
    {
      "cell_type": "code",
      "source": [
        "import findspark\n",
        "findspark.init()\n",
        "from pyspark.sql import SparkSession\n",
        "spark = SparkSession.builder.master(\"local[*]\").getOrCreate()"
      ],
      "metadata": {
        "id": "-Nrr916b8kjo"
      },
      "execution_count": 10,
      "outputs": []
    },
    {
      "cell_type": "code",
      "source": [
        "from pyspark import SparkContext\n",
        "sc = SparkContext.getOrCreate()\n",
        "\n",
        "from pyspark.sql import SparkSession\n",
        "from pyspark.sql.window import Window\n",
        "from pyspark.sql.types import IntegerType\n",
        "from pyspark.sql.functions import isnan, count, when, col, desc, col, sort_array, asc, avg\n",
        "from pyspark.sql.functions import sum as Fsum, col, split, mean, first, lit\n",
        "from pyspark.sql.functions import UserDefinedFunction as udf\n",
        "from pyspark.sql.functions import broadcast\n",
        "from pyspark.ml.feature import StandardScaler, VectorAssembler\n",
        "from pyspark.ml.evaluation import MulticlassClassificationEvaluator\n",
        "from pyspark.ml.classification import GBTClassifier,LinearSVC, LogisticRegression\n",
        "from pyspark.ml.tuning import CrossValidator, ParamGridBuilder\n",
        "import pandas as pd\n",
        "import numpy as np\n",
        "import pyspark.sql.functions as f\n",
        "import datetime\n",
        "import matplotlib as plt"
      ],
      "metadata": {
        "id": "JATBzGCG8ppO"
      },
      "execution_count": 11,
      "outputs": []
    },
    {
      "cell_type": "markdown",
      "source": [
        "#Exploratory Data Analysis\n",
        "Here we are finding the missing values in each of the columns\n",
        "We define our churn variable based on the users that have cancelled their subscription\n",
        "We perform visualisation of users churned based on their gender, age, artists and user activity"
      ],
      "metadata": {
        "id": "3vYRDfq9DXsH"
      }
    },
    {
      "cell_type": "code",
      "source": [
        "data = spark.read.json(\"/content/drive/MyDrive/IDS 561 Assignment/mini_sparkify_event_data.json\")\n",
        "data.printSchema()"
      ],
      "metadata": {
        "colab": {
          "base_uri": "https://localhost:8080/"
        },
        "id": "F19htLsF9CLL",
        "outputId": "2425eea4-de01-41ce-825d-e41470ca23b9"
      },
      "execution_count": 12,
      "outputs": [
        {
          "output_type": "stream",
          "name": "stdout",
          "text": [
            "root\n",
            " |-- artist: string (nullable = true)\n",
            " |-- auth: string (nullable = true)\n",
            " |-- firstName: string (nullable = true)\n",
            " |-- gender: string (nullable = true)\n",
            " |-- itemInSession: long (nullable = true)\n",
            " |-- lastName: string (nullable = true)\n",
            " |-- length: double (nullable = true)\n",
            " |-- level: string (nullable = true)\n",
            " |-- location: string (nullable = true)\n",
            " |-- method: string (nullable = true)\n",
            " |-- page: string (nullable = true)\n",
            " |-- registration: long (nullable = true)\n",
            " |-- sessionId: long (nullable = true)\n",
            " |-- song: string (nullable = true)\n",
            " |-- status: long (nullable = true)\n",
            " |-- ts: long (nullable = true)\n",
            " |-- userAgent: string (nullable = true)\n",
            " |-- userId: string (nullable = true)\n",
            "\n"
          ]
        }
      ]
    },
    {
      "cell_type": "code",
      "source": [
        "print('The columns of dataframe are:',data.columns,'\\n')\n",
        "\n",
        "# Null values in each dataframe are\n",
        "data.select([count(when(isnan(c), c)).alias(c) for c in data.columns]).show(vertical = True, truncate = False)"
      ],
      "metadata": {
        "colab": {
          "base_uri": "https://localhost:8080/"
        },
        "id": "gPVWUboIDHXR",
        "outputId": "faa6ed04-96d5-4de8-c471-3079a5c1de68"
      },
      "execution_count": 14,
      "outputs": [
        {
          "output_type": "stream",
          "name": "stdout",
          "text": [
            "The columns of dataframe are: ['artist', 'auth', 'firstName', 'gender', 'itemInSession', 'lastName', 'length', 'level', 'location', 'method', 'page', 'registration', 'sessionId', 'song', 'status', 'ts', 'userAgent', 'userId'] \n",
            "\n",
            "-RECORD 0------------\n",
            " artist        | 0   \n",
            " auth          | 0   \n",
            " firstName     | 0   \n",
            " gender        | 0   \n",
            " itemInSession | 0   \n",
            " lastName      | 0   \n",
            " length        | 0   \n",
            " level         | 0   \n",
            " location      | 0   \n",
            " method        | 0   \n",
            " page          | 0   \n",
            " registration  | 0   \n",
            " sessionId     | 0   \n",
            " song          | 0   \n",
            " status        | 0   \n",
            " ts            | 0   \n",
            " userAgent     | 0   \n",
            " userId        | 0   \n",
            "\n"
          ]
        }
      ]
    },
    {
      "cell_type": "markdown",
      "source": [
        "Create a column Churn using the Cancellation Confirmation page to define the churn rate for both paid and free users"
      ],
      "metadata": {
        "id": "70NUAhI6m7Gc"
      }
    },
    {
      "cell_type": "code",
      "source": [
        "# Churn is a label for user who cancelled their subscription\n",
        "flag_cancelation_event = udf(lambda x: 1 if x == \"Cancellation Confirmation\" else 0, IntegerType())\n",
        "# Create a dataframe\n",
        "data = data.withColumn(\"churn\", flag_cancelation_event(\"page\"))\n",
        "#Defining window bounds\n",
        "windowval = Window.partitionBy(\"userId\").rangeBetween(Window.unboundedPreceding, Window.unboundedFollowing)\n",
        "# Applying the window\n",
        "data = data.withColumn(\"churn\", Fsum(\"churn\").over(windowval))\n",
        "\n",
        "\n",
        "print('The total number of churners are:', data.agg(Fsum(\"churn\")).collect()[0][0])\n",
        "print('The total number of churners are:', data.agg(Fsum(\"churn\")).collect()[0][0])"
      ],
      "metadata": {
        "colab": {
          "base_uri": "https://localhost:8080/"
        },
        "id": "qgZGhhyRDLTl",
        "outputId": "3d3ae7ba-84a6-4dc0-fb30-9c8e35b7742a"
      },
      "execution_count": 16,
      "outputs": [
        {
          "output_type": "stream",
          "name": "stdout",
          "text": [
            "The total number of churners are: 44864\n",
            "The total number of churners are: 44864\n"
          ]
        }
      ]
    },
    {
      "cell_type": "code",
      "source": [
        "#Distinct no of customers that have churned based on their user id\n",
        "data.select('userId', 'churn').distinct().agg(Fsum(\"churn\")).collect()[0][0]"
      ],
      "metadata": {
        "colab": {
          "base_uri": "https://localhost:8080/"
        },
        "id": "XAkdE_4KDnOU",
        "outputId": "fdb0502c-92ea-4249-b692-b242e5d7e2c2"
      },
      "execution_count": 17,
      "outputs": [
        {
          "output_type": "execute_result",
          "data": {
            "text/plain": [
              "52"
            ]
          },
          "metadata": {},
          "execution_count": 17
        }
      ]
    },
    {
      "cell_type": "code",
      "source": [
        "#Function for calculating the missing values in each column of the dataset\n",
        "def missing_recs(df, col):\n",
        "\n",
        "    return df.filter((isnan(df[col])) | (df[col].isNull()) | (df[col] == \"\")).count()\n",
        "\n",
        "\n",
        "print(\"\\nColumns in data are:\\n\",data.columns)\n",
        "\n",
        "print(\"\\n[missing values]\\n\")\n",
        "for col in data.columns:\n",
        "    missing_count = missing_recs(data, col)\n",
        "    if missing_count > 0:\n",
        "        print(\"{}: {}\".format(col, missing_count))\n",
        "\n",
        "\n",
        "#df = data.filter(data.userId != '').collect()\n",
        "#data.agg(Fsum(\"page\")).collect()[0][0]"
      ],
      "metadata": {
        "colab": {
          "base_uri": "https://localhost:8080/"
        },
        "id": "oYIykWLrDziO",
        "outputId": "7c0c88d1-959c-4fe7-f083-5b5beede460f"
      },
      "execution_count": 19,
      "outputs": [
        {
          "output_type": "stream",
          "name": "stdout",
          "text": [
            "\n",
            "Columns in data are:\n",
            " ['artist', 'auth', 'firstName', 'gender', 'itemInSession', 'lastName', 'length', 'level', 'location', 'method', 'page', 'registration', 'sessionId', 'song', 'status', 'ts', 'userAgent', 'userId', 'churn']\n",
            "\n",
            "[missing values]\n",
            "\n",
            "artist: 58392\n",
            "firstName: 8346\n",
            "gender: 8346\n",
            "lastName: 8346\n",
            "length: 58392\n",
            "location: 8346\n",
            "registration: 8346\n",
            "song: 58392\n",
            "userAgent: 8346\n",
            "userId: 8346\n"
          ]
        }
      ]
    },
    {
      "cell_type": "code",
      "source": [
        "print('Total number of rows in data are:', data.count())\n",
        "print('Length of data after dropping blank userId:', data[data['userId'] != ''].count())\n",
        "data = data[data['userId'] != '']"
      ],
      "metadata": {
        "colab": {
          "base_uri": "https://localhost:8080/"
        },
        "id": "KChlBG1aD6th",
        "outputId": "15ace8cb-7cd9-4466-c659-d68256a9f624"
      },
      "execution_count": 20,
      "outputs": [
        {
          "output_type": "stream",
          "name": "stdout",
          "text": [
            "Total number of rows in data are: 286500\n",
            "Length of data after dropping blank userId: 278154\n"
          ]
        }
      ]
    },
    {
      "cell_type": "code",
      "source": [
        "stat_df = spark.createDataFrame(data.dropDuplicates(['userId']).collect()) # A way to convert list to dataframe"
      ],
      "metadata": {
        "id": "qWNoHptsD_IV"
      },
      "execution_count": 21,
      "outputs": []
    },
    {
      "cell_type": "markdown",
      "source": [
        "Customer churn by gender"
      ],
      "metadata": {
        "id": "Y4TSr8eqECr1"
      }
    },
    {
      "cell_type": "code",
      "source": [
        "\n",
        "stat_df1 = stat_df[['gender', 'churn']]\n",
        "\n",
        "print('The avg churn rate of females is:', stat_df1.groupby(['gender']).mean().collect()[0][1]*100)\n",
        "print('The avg churn rate of males is:', stat_df1.groupby(['gender']).mean().collect()[1][1]*100)"
      ],
      "metadata": {
        "colab": {
          "base_uri": "https://localhost:8080/"
        },
        "id": "oe8yM4ciEDZ8",
        "outputId": "b21f8757-61fe-4389-e0e7-0121fbf26131"
      },
      "execution_count": 22,
      "outputs": [
        {
          "output_type": "stream",
          "name": "stdout",
          "text": [
            "The avg churn rate of females is: 19.230769230769234\n",
            "The avg churn rate of males is: 26.446280991735538\n"
          ]
        }
      ]
    },
    {
      "cell_type": "markdown",
      "source": [
        "Top 5 artists for churning"
      ],
      "metadata": {
        "id": "H4rDlGqlELu2"
      }
    },
    {
      "cell_type": "code",
      "source": [
        "stat_df1 = stat_df[['artist', 'churn']]\n",
        "stat_df1.groupBy(['artist']).sum().orderBy('sum(churn)', ascending = False).collect()[:5]"
      ],
      "metadata": {
        "colab": {
          "base_uri": "https://localhost:8080/"
        },
        "id": "E2SnB3tWEMjV",
        "outputId": "cc877486-1313-4985-a187-294568c6ab3f"
      },
      "execution_count": 23,
      "outputs": [
        {
          "output_type": "execute_result",
          "data": {
            "text/plain": [
              "[Row(artist=None, sum(churn)=27),\n",
              " Row(artist='Orenda Fink', sum(churn)=1),\n",
              " Row(artist='P!nk', sum(churn)=1),\n",
              " Row(artist='Tasavallan Presidentti', sum(churn)=1),\n",
              " Row(artist='Bachman-Turner Overdrive', sum(churn)=1)]"
            ]
          },
          "metadata": {},
          "execution_count": 23
        }
      ]
    },
    {
      "cell_type": "markdown",
      "source": [
        "There have been 50% cancellations of customers because of songs with no artist name"
      ],
      "metadata": {
        "id": "5xclJzGhEQtb"
      }
    },
    {
      "cell_type": "markdown",
      "source": [
        "Level at which the customers churned"
      ],
      "metadata": {
        "id": "1sI45Ge8EbEi"
      }
    },
    {
      "cell_type": "code",
      "source": [
        "stat_df1 = stat_df[['level', 'churn']]\n",
        "print('proportion of users that chruned from free subscirption', stat_df1.groupBy(['level']).mean().collect()[0][1]*100)\n",
        "print('proportion of users that chruned from paid subscirption',stat_df1.groupBy(['level']).mean().collect()[1][1]*100)"
      ],
      "metadata": {
        "colab": {
          "base_uri": "https://localhost:8080/"
        },
        "id": "K6kDk7ZZEYbH",
        "outputId": "a4fd698a-e343-40f1-e908-8c01ece6b83c"
      },
      "execution_count": 24,
      "outputs": [
        {
          "output_type": "stream",
          "name": "stdout",
          "text": [
            "proportion of users that chruned from free subscirption 24.858757062146893\n",
            "proportion of users that chruned from paid subscirption 16.666666666666664\n"
          ]
        }
      ]
    },
    {
      "cell_type": "markdown",
      "source": [
        "From the above result the proportion of free users tend to cancel much more than the people who are paid users"
      ],
      "metadata": {
        "id": "vXU_rxjxEkr6"
      }
    },
    {
      "cell_type": "markdown",
      "source": [
        "Top 10 states with highest churn"
      ],
      "metadata": {
        "id": "uz1gqolSEq2V"
      }
    },
    {
      "cell_type": "code",
      "source": [
        "stat_df1 = stat_df[['location', 'churn']]\n",
        "\n",
        "stat_df1 = stat_df1.withColumn('state', split(stat_df['location'], ',').getItem(1))\n",
        "stat_df1 = stat_df1.drop('location')\n",
        "\n",
        "print(\"Viewing top 10 states to churn:\\n\")\n",
        "stat_df1.groupBy(['state']).sum().filter(\"sum(churn)> 0\").orderBy('sum(churn)', ascending = False).show(10)"
      ],
      "metadata": {
        "colab": {
          "base_uri": "https://localhost:8080/"
        },
        "id": "tHkRMeJxEris",
        "outputId": "5f3b41de-62fa-4599-9bbd-9004123291ea"
      },
      "execution_count": 25,
      "outputs": [
        {
          "output_type": "stream",
          "name": "stdout",
          "text": [
            "Viewing top 10 states to churn:\n",
            "\n",
            "+---------+----------+\n",
            "|    state|sum(churn)|\n",
            "+---------+----------+\n",
            "|       CA|         6|\n",
            "| NY-NJ-PA|         5|\n",
            "|       MI|         3|\n",
            "|       FL|         3|\n",
            "|       TX|         3|\n",
            "|       WA|         2|\n",
            "|       AZ|         2|\n",
            "|       AL|         2|\n",
            "|       OH|         2|\n",
            "|       MS|         2|\n",
            "+---------+----------+\n",
            "only showing top 10 rows\n",
            "\n"
          ]
        }
      ]
    },
    {
      "cell_type": "markdown",
      "source": [
        "Thus, the customers that mostly churned were from California, New York - New Jersey and Philidelphia, Michigan, Texas and Florida. "
      ],
      "metadata": {
        "id": "pLfSbFN5E10a"
      }
    },
    {
      "cell_type": "markdown",
      "source": [
        "Time Analysis: This is performed to compare the customer churn rate based on day, hour and month."
      ],
      "metadata": {
        "id": "OJzUfZ2eE5ku"
      }
    },
    {
      "cell_type": "code",
      "source": [
        "# User defined functions to get hour, day, month, and weekday of cancellation\n",
        "\n",
        "get_hour = udf(lambda x: datetime.datetime.fromtimestamp(x / 1000.0).hour)\n",
        "get_day = udf(lambda x: datetime.datetime.fromtimestamp(x / 1000.0).day)\n",
        "get_month = udf(lambda x: datetime.datetime.fromtimestamp(x / 1000.0).month)\n",
        "\n",
        "# Source https://stackoverflow.com/questions/38928919/how-to-get-the-weekday-from-day-of-month-using-pyspark\n",
        "get_weekday = udf(lambda x: datetime.datetime.fromtimestamp(x / 1000.0).strftime('%w'))"
      ],
      "metadata": {
        "id": "wCXWyxnPE6Xf"
      },
      "execution_count": 26,
      "outputs": []
    },
    {
      "cell_type": "code",
      "source": [
        "# Adding columns to the dataframe\n",
        "funcs = {'hour':get_hour, 'day':get_day, 'month':get_month, 'week_day':get_weekday}\n",
        "for label, func in funcs.items():\n",
        "    data = data.withColumn(label, func(data.ts))\n",
        "    print(f'Column {label} added successfully.')\n",
        "\n",
        "# to help in better plotting and visuals\n",
        "dfp = data.toPandas()"
      ],
      "metadata": {
        "colab": {
          "base_uri": "https://localhost:8080/"
        },
        "id": "3GSKDaAEFASA",
        "outputId": "7ebc2480-0f6a-4734-e69b-248f042f1384"
      },
      "execution_count": 27,
      "outputs": [
        {
          "output_type": "stream",
          "name": "stdout",
          "text": [
            "Column hour added successfully.\n",
            "Column day added successfully.\n",
            "Column month added successfully.\n",
            "Column week_day added successfully.\n"
          ]
        }
      ]
    },
    {
      "cell_type": "code",
      "source": [
        "def get_series(col, churn, normalize=False):\n",
        "    ''' \n",
        "    Get a series either of churn users or existing users\n",
        "    THe function can normalize the series and return a percent value\n",
        "    col: {str} the column to plot (hour, month, day, week_day)\n",
        "    churn: {int} 0 or 1\n",
        "    normalize: {bool} T/F, Default is False\n",
        "    return a sorted pandas series\n",
        "    '''\n",
        "    ser1 = dfp[dfp.churn == churn].groupby([col])['userId'].count()\n",
        "    try:\n",
        "        ser1.index = ser1.index.astype(int)\n",
        "    except:\n",
        "        pass\n",
        "    if normalize:\n",
        "        ser1=ser1/ser1.sum()*100\n",
        "    return ser1.sort_index()"
      ],
      "metadata": {
        "id": "_A8rybw8FItq"
      },
      "execution_count": 28,
      "outputs": []
    },
    {
      "cell_type": "code",
      "source": [
        "def draw_time(col, normalize=True, figsize=(16,4), title=None, label_rotation=0):\n",
        "    '''\n",
        "    Draw a bar plot for churn and existing users based on \n",
        "         a specific column (hour, month, day, week_day)\n",
        "         \n",
        "    normalize: {bool} T/F, Default is True\n",
        "    figsize: {tuple} the plot size, default is (16,4)\n",
        "    title: descriptive title part\n",
        "    Returns: None\n",
        "    '''\n",
        "    df_time = pd.DataFrame({'Cancelled': get_series(col, 1, normalize),\n",
        "                            'Active users':get_series(col, 0, normalize)})\n",
        "    ax = df_time.plot(kind='bar', figsize=figsize);\n",
        "    ax.set_ylabel('Percent of users')\n",
        "    if title is None:\n",
        "        title = col\n",
        "    ax.set_ylabel(f'Percent of users')\n",
        "    #print(ax.get_xticks())\n",
        "    ax.set_xticklabels(ax.get_xticklabels(), rotation=label_rotation)\n",
        "    ax.set_title(f'Percent of users took action per {title}') \n",
        "    return ax"
      ],
      "metadata": {
        "id": "CnXsO19yFND3"
      },
      "execution_count": 29,
      "outputs": []
    },
    {
      "cell_type": "code",
      "source": [
        "draw_time('hour', title='hour of the day');"
      ],
      "metadata": {
        "colab": {
          "base_uri": "https://localhost:8080/",
          "height": 295
        },
        "id": "Vqyp-IWCFQXC",
        "outputId": "730fb1fe-2b47-4076-b361-ad76df557049"
      },
      "execution_count": 30,
      "outputs": [
        {
          "output_type": "display_data",
          "data": {
            "text/plain": [
              "<Figure size 1152x288 with 1 Axes>"
            ],
            "image/png": "[encoded data removed]"
          },
          "metadata": {
            "needs_background": "light"
          }
        }
      ]
    },
    {
      "cell_type": "code",
      "source": [
        "draw_time('day', title='day of the month');"
      ],
      "metadata": {
        "colab": {
          "base_uri": "https://localhost:8080/",
          "height": 295
        },
        "id": "RYmhYraEFa7D",
        "outputId": "33d414df-778d-4896-b322-155e406ea189"
      },
      "execution_count": 31,
      "outputs": [
        {
          "output_type": "display_data",
          "data": {
            "text/plain": [
              "<Figure size 1152x288 with 1 Axes>"
            ],
            "image/png": "[encoded data removed]"
          },
          "metadata": {
            "needs_background": "light"
          }
        }
      ]
    },
    {
      "cell_type": "code",
      "source": [
        "ax = draw_time('week_day', title='week day')\n",
        "ax.set_xticklabels(['Mon', 'Tue', 'Wed', 'Thu', 'Fri', 'Sat', 'Sun'], rotation=0);"
      ],
      "metadata": {
        "colab": {
          "base_uri": "https://localhost:8080/",
          "height": 296
        },
        "id": "mDPk5rdxFdWc",
        "outputId": "4cefce8a-090f-47bd-d153-cb4d7ea413f7"
      },
      "execution_count": 32,
      "outputs": [
        {
          "output_type": "display_data",
          "data": {
            "text/plain": [
              "<Figure size 1152x288 with 1 Axes>"
            ],
            "image/png": "[encoded data removed]"
          },
          "metadata": {
            "needs_background": "light"
          }
        }
      ]
    },
    {
      "cell_type": "markdown",
      "source": [
        "Lifetime Since registration: This is done to calculate the no of days the customers have been with the music company since they have registered. This is helpful in calculating the churn rate of the customers"
      ],
      "metadata": {
        "id": "l6bC_YgOGJuE"
      }
    },
    {
      "cell_type": "code",
      "source": [
        "from pyspark.sql.functions import sum as Fsum, col, split, mean, first, lit\n",
        "\n",
        "stat_df = data \\\n",
        "    .select('userId','registration','ts','churn') \\\n",
        "    .withColumn('lifetime',(data.ts-data.registration)) \\\n",
        "    .groupBy('userId','churn') \\\n",
        "    .agg({'lifetime':'max'}) \\\n",
        "    .withColumnRenamed('max(lifetime)','lifetime') \\\n",
        "    .select('userId', 'churn', (col('lifetime')/1000/3600/24).alias('lifetime')) \\\n",
        "    .toPandas()"
      ],
      "metadata": {
        "id": "Uu2GJzWeGKZf"
      },
      "execution_count": 33,
      "outputs": []
    },
    {
      "cell_type": "code",
      "source": [
        "ax =stat_df.boxplot(column='lifetime', by='churn', figsize=(5,5), vert = False)#kind='box', ));\n",
        "ax.set_xlabel('Days from registration before churning')\n",
        "labels = [item.get_text() for item in ax.get_yticklabels()]\n",
        "labels = ['non-churners','churners']\n",
        "ax.set_yticklabels(labels)\n",
        "ax.get_figure().suptitle(\"\")\n",
        "ax.set_title('Lifetime of customers')\n",
        "ax.set_ylabel('customer type');"
      ],
      "metadata": {
        "colab": {
          "base_uri": "https://localhost:8080/",
          "height": 404
        },
        "id": "IUExQeBJGRmN",
        "outputId": "63ccea19-5f05-4dfe-e0f5-f8dcf5d8829c"
      },
      "execution_count": 34,
      "outputs": [
        {
          "output_type": "stream",
          "name": "stderr",
          "text": [
            "/usr/local/lib/python3.7/dist-packages/matplotlib/cbook/__init__.py:1376: VisibleDeprecationWarning: Creating an ndarray from ragged nested sequences (which is a list-or-tuple of lists-or-tuples-or ndarrays with different lengths or shapes) is deprecated. If you meant to do this, you must specify 'dtype=object' when creating the ndarray.\n",
            "  X = np.atleast_1d(X.T if isinstance(X, np.ndarray) else np.asarray(X))\n"
          ]
        },
        {
          "output_type": "display_data",
          "data": {
            "text/plain": [
              "<Figure size 360x360 with 1 Axes>"
            ],
            "image/png": "[encoded data removed]"
          },
          "metadata": {
            "needs_background": "light"
          }
        }
      ]
    },
    {
      "cell_type": "markdown",
      "source": [
        "This plot depicts that churners had less experience with the music features of our product than the one that did not churn. Hence we can suggest longer period of free trials or also send out gentle emails for suggestion of longer stay with product before confirming cancellations."
      ],
      "metadata": {
        "id": "413BdWNnGWvv"
      }
    },
    {
      "cell_type": "code",
      "source": [
        "stat_df = data.where('page == \"NextSong\" OR page == \"Thumbs Up\"').groupby(['userId', 'churn', 'gender', 'page']).count().toPandas()\n",
        "stat_df = stat_df.pivot_table(index=['userId','churn','gender'], values='count', columns='page').reset_index()"
      ],
      "metadata": {
        "id": "55_Zf97PGTEA"
      },
      "execution_count": 35,
      "outputs": []
    },
    {
      "cell_type": "markdown",
      "source": [
        "Churn and non-churn density patterns between genders"
      ],
      "metadata": {
        "id": "ZsOem-2HGhMY"
      }
    },
    {
      "cell_type": "code",
      "source": [
        "fig, ax = plt.pyplot.subplots()\n",
        "ax = plt.pyplot.violinplot(dataset=[stat_df[(stat_df.churn == 0) & (stat_df.gender == 'M')][\"NextSong\"].values,\n",
        "                                    stat_df[(stat_df.churn == 0) & (stat_df.gender == 'F')][\"NextSong\"].values,\n",
        "                                    stat_df[(stat_df.churn == 1) & (stat_df.gender == 'M')][\"NextSong\"].values,\n",
        "                                    stat_df[(stat_df.churn == 1) & (stat_df.gender == 'F')][\"NextSong\"].values\n",
        "                                   ])\n",
        "plt.pyplot.xticks([1,2.1,3.1,4],['Non-Churn Males','Non-Churn Females','Churn Males','Churn Females'])\n",
        "plt.pyplot.xlabel('Classes')\n",
        "plt.pyplot.ylabel('Lifetime songs listened')\n",
        "plt.pyplot.title(\"Customer lifetime songs listened did/n't vary a lot\")\n",
        "plt.pyplot.show()"
      ],
      "metadata": {
        "colab": {
          "base_uri": "https://localhost:8080/",
          "height": 387
        },
        "id": "ZWnbjxQqGh0-",
        "outputId": "1970e23b-3cd6-450f-c5f3-02c6084e073a"
      },
      "execution_count": 36,
      "outputs": [
        {
          "output_type": "stream",
          "name": "stderr",
          "text": [
            "/usr/local/lib/python3.7/dist-packages/matplotlib/cbook/__init__.py:1376: VisibleDeprecationWarning: Creating an ndarray from ragged nested sequences (which is a list-or-tuple of lists-or-tuples-or ndarrays with different lengths or shapes) is deprecated. If you meant to do this, you must specify 'dtype=object' when creating the ndarray.\n",
            "  X = np.atleast_1d(X.T if isinstance(X, np.ndarray) else np.asarray(X))\n",
            "/usr/local/lib/python3.7/dist-packages/numpy/core/fromnumeric.py:1970: VisibleDeprecationWarning: Creating an ndarray from ragged nested sequences (which is a list-or-tuple of lists-or-tuples-or ndarrays with different lengths or shapes) is deprecated. If you meant to do this, you must specify 'dtype=object' when creating the ndarray.\n",
            "  result = asarray(a).shape\n"
          ]
        },
        {
          "output_type": "display_data",
          "data": {
            "text/plain": [
              "<Figure size 432x288 with 1 Axes>"
            ],
            "image/png": "[encoded data removed]"
          },
          "metadata": {
            "needs_background": "light"
          }
        }
      ]
    },
    {
      "cell_type": "markdown",
      "source": [
        "The lifetime songs listened by both males and females in churn and non-churn group did vary but not for two genders within the same group"
      ],
      "metadata": {
        "id": "gtf_41RRGtH4"
      }
    },
    {
      "cell_type": "markdown",
      "source": [
        "**Number of songs played per session**"
      ],
      "metadata": {
        "id": "1t4xlItIGxXk"
      }
    },
    {
      "cell_type": "code",
      "source": [
        "stat_df = data.where('page == \"NextSong\"').groupby(['churn', 'userId', 'sessionId','gender']).count()\\\n",
        "    .groupby(['churn', 'userId', 'gender']).agg({'count':'avg'})\\\n",
        "    .withColumnRenamed('avg(count)', 'avg_songs_played')\\\n",
        "    .toPandas()\n",
        "\n",
        "fig, ax = plt.pyplot.subplots()\n",
        "ax = plt.pyplot.violinplot(dataset=[stat_df[(stat_df.churn == 0) & (stat_df.gender == 'M')][\"avg_songs_played\"].values,\n",
        "                                    stat_df[(stat_df.churn == 0) & (stat_df.gender == 'F')][\"avg_songs_played\"].values,\n",
        "                                    stat_df[(stat_df.churn == 1) & (stat_df.gender == 'M')][\"avg_songs_played\"].values,\n",
        "                                    stat_df[(stat_df.churn == 1) & (stat_df.gender == 'F')][\"avg_songs_played\"].values,\n",
        "                                    ])\n",
        "plt.pyplot.xticks([1,2.1,3.1,4],['Non-Churn Males','Non-Churn Females','Churn Males','Churn Females'])\n",
        "plt.pyplot.xlabel('Classes')\n",
        "plt.pyplot.ylabel('Average songs played per session')\n",
        "plt.pyplot.title(\"Customers playing music per session\")\n",
        "plt.pyplot.show()"
      ],
      "metadata": {
        "colab": {
          "base_uri": "https://localhost:8080/",
          "height": 387
        },
        "id": "CrIQ6VwWGyGn",
        "outputId": "bb5a3bca-22a6-4aac-d3f4-6d24750dda03"
      },
      "execution_count": 37,
      "outputs": [
        {
          "output_type": "stream",
          "name": "stderr",
          "text": [
            "/usr/local/lib/python3.7/dist-packages/matplotlib/cbook/__init__.py:1376: VisibleDeprecationWarning: Creating an ndarray from ragged nested sequences (which is a list-or-tuple of lists-or-tuples-or ndarrays with different lengths or shapes) is deprecated. If you meant to do this, you must specify 'dtype=object' when creating the ndarray.\n",
            "  X = np.atleast_1d(X.T if isinstance(X, np.ndarray) else np.asarray(X))\n",
            "/usr/local/lib/python3.7/dist-packages/numpy/core/fromnumeric.py:1970: VisibleDeprecationWarning: Creating an ndarray from ragged nested sequences (which is a list-or-tuple of lists-or-tuples-or ndarrays with different lengths or shapes) is deprecated. If you meant to do this, you must specify 'dtype=object' when creating the ndarray.\n",
            "  result = asarray(a).shape\n"
          ]
        },
        {
          "output_type": "display_data",
          "data": {
            "text/plain": [
              "<Figure size 432x288 with 1 Axes>"
            ],
            "image/png": "[encoded data removed]"
          },
          "metadata": {
            "needs_background": "light"
          }
        }
      ]
    },
    {
      "cell_type": "markdown",
      "source": [
        "Both the churning and non-churning males had played more songs per session than females. Nevertheless, overall the churning members played less songs than the ones that did not"
      ],
      "metadata": {
        "id": "Gf4QmqV2G8LX"
      }
    },
    {
      "cell_type": "markdown",
      "source": [
        "Pages visited by churned and non-churned customers"
      ],
      "metadata": {
        "id": "OiMAAdFPG8U_"
      }
    },
    {
      "cell_type": "code",
      "source": [
        "''' Understanding difference of activites between churned and active users to understand what went wrong \n",
        "with churned users better '''\n",
        "\n",
        "# Creating records of Churned users\n",
        "users_1 = data[data['churn'] == 1][['userId','page']].groupBy(['page']).agg(\n",
        "    count('userId')).filter(data['page'] != 'NextSong')\n",
        "\n",
        "users_1 = users_1.select(f.col('page'), \n",
        "                         (f.col('count(userId)')/users_1.select(Fsum('count(userId)')).collect()[0][0])*100)                        \n",
        "\n",
        "users_1 = users_1.withColumnRenamed(\"((count(userId) / 8470) * 100)\", \"%churn\")\n",
        "\n",
        "\n",
        "# Creating records for Active Users\n",
        "users_0 = data[data['churn'] == 0][['userId','page']].groupBy(['page']).agg(\n",
        "    count('userId')).filter(data['page'] != 'NextSong')\n",
        "\n",
        "users_0 = users_0.select(f.col('page'), \n",
        "                         (f.col('count(userId)')/users_0.select(Fsum('count(userId)')).collect()[0][0])*100)                        \n",
        "\n",
        "users_0 = users_0.withColumnRenamed(\"((count(userId) / 41576) * 100)\", \"%nonchurn\")\n",
        "\n",
        "# Plotting percentage of churned users besides active users\n",
        "stat_df = users_1.join(users_0, \"page\",'left_outer')\n",
        "stat_df = stat_df.toPandas()\n",
        "stat_df = stat_df.set_index(stat_df.columns[0])\n",
        "\n",
        "ax = stat_df.plot(kind='barh', figsize=(10,14));\n",
        "ax.set_xlabel('Percent of event occurence (%)')\n",
        "ax.set_title('Percent of event occurence for churned and nonchurned users');"
      ],
      "metadata": {
        "colab": {
          "base_uri": "https://localhost:8080/",
          "height": 839
        },
        "id": "UTBq7Xf4HBeU",
        "outputId": "68b5d021-9055-4c1b-fd8a-a9156bcbb219"
      },
      "execution_count": 38,
      "outputs": [
        {
          "output_type": "display_data",
          "data": {
            "text/plain": [
              "<Figure size 720x1008 with 1 Axes>"
            ],
            "image/png": "[encoded data removed]"
          },
          "metadata": {
            "needs_background": "light"
          }
        }
      ]
    },
    {
      "cell_type": "markdown",
      "source": [
        "The difference between the count of thumps up for churners and non-churners shows that churned customers were dissapointed with songs that they like but had bad audio quality. We also support this claim based on the bar graph of \"Add friend\" and \"Add to Playlist\" where the see the bar is higher for non-churners compared to churn customers showing the like/dislike of non-churned customers being higher than churned customers.\n",
        "\n",
        "The above explanation is also supplemented by seeing the \"Thumbs down\" bar higher for users who churned as compared for the ones that did not churned. The churners \"Roll Advertisement\" much larger as compared to ones that did not cancel. This too supports the claim that churned customers were dissapointed with song quality or collection and we should take their feedback into consideration"
      ],
      "metadata": {
        "id": "YvD3MuzAHM3k"
      }
    },
    {
      "cell_type": "markdown",
      "source": [
        "#Feature Selection\n",
        "We select the columns from our dataset which are valuable in building the models. These data attributes are selected where we observe a considerable difference in the proportion of users churned and non-churned. For this we perform analysis by tracking user activity, users churned based on days"
      ],
      "metadata": {
        "id": "1iwuuXFIHOkp"
      }
    },
    {
      "cell_type": "code",
      "source": [
        "# Time since registration\n",
        "feat_1 = data \\\n",
        "    .select('userId','registration','ts') \\\n",
        "    .withColumn('lifetime',(data.ts-data.registration)) \\\n",
        "    .groupBy('userId') \\\n",
        "    .agg({'lifetime':'max'}) \\\n",
        "    .withColumnRenamed('max(lifetime)','lifetime') \\\n",
        "    .select('userId', (col('lifetime')/1000/3600/24).alias('lifetime'))\n",
        "feat_1.describe().show()"
      ],
      "metadata": {
        "colab": {
          "base_uri": "https://localhost:8080/"
        },
        "id": "AZsKjJFvHVYK",
        "outputId": "0269b3eb-2160-4963-a61e-e3017979519b"
      },
      "execution_count": 39,
      "outputs": [
        {
          "output_type": "stream",
          "name": "stdout",
          "text": [
            "+-------+------------------+-------------------+\n",
            "|summary|            userId|           lifetime|\n",
            "+-------+------------------+-------------------+\n",
            "|  count|               225|                225|\n",
            "|   mean|65391.013333333336|  79.84568348765431|\n",
            "| stddev|105396.47791907159|  37.66147001861255|\n",
            "|    min|                10|0.31372685185185184|\n",
            "|    max|                99|  256.3776736111111|\n",
            "+-------+------------------+-------------------+\n",
            "\n"
          ]
        }
      ]
    },
    {
      "cell_type": "markdown",
      "source": [
        "The overall songs listened by churners was less than the ones listened by non-churners. This is our second feature"
      ],
      "metadata": {
        "id": "PgdzAJ1aHZm0"
      }
    },
    {
      "cell_type": "code",
      "source": [
        "# Total songs listened\n",
        "feat_2 = data \\\n",
        "    .select('userID','song') \\\n",
        "    .groupBy('userID') \\\n",
        "    .count() \\\n",
        "    .withColumnRenamed('count', 'total_songs')\n",
        "feat_2.describe().show()"
      ],
      "metadata": {
        "colab": {
          "base_uri": "https://localhost:8080/"
        },
        "id": "eqthdlLlHcfX",
        "outputId": "8c67c8c2-8780-421f-9084-bf60714c760a"
      },
      "execution_count": 40,
      "outputs": [
        {
          "output_type": "stream",
          "name": "stdout",
          "text": [
            "+-------+------------------+-----------------+\n",
            "|summary|            userID|      total_songs|\n",
            "+-------+------------------+-----------------+\n",
            "|  count|               225|              225|\n",
            "|   mean|65391.013333333336|          1236.24|\n",
            "| stddev|105396.47791907159|1329.531716432518|\n",
            "|    min|                10|                6|\n",
            "|    max|                99|             9632|\n",
            "+-------+------------------+-----------------+\n",
            "\n"
          ]
        }
      ]
    },
    {
      "cell_type": "markdown",
      "source": [
        "Now let the third feature make about thumbs up and fourth be of thumbs down because we saw in bar graph above the stark difference these two features had between churners and non-churners."
      ],
      "metadata": {
        "id": "uFK7R6n0Hgq-"
      }
    },
    {
      "cell_type": "code",
      "source": [
        "# Number of Thumbs-Up/Down\n",
        "feat_3 = data \\\n",
        "    .select('userID','page') \\\n",
        "    .where(data.page == 'Thumbs Up') \\\n",
        "    .groupBy('userID') \\\n",
        "    .count() \\\n",
        "    .withColumnRenamed('count', 'num_thumb_up') \n",
        "feat_3.describe().show()\n",
        "\n",
        "feat_4 = data \\\n",
        "    .select('userID','page') \\\n",
        "    .where(data.page == 'Thumbs Down') \\\n",
        "    .groupBy('userID') \\\n",
        "    .count() \\\n",
        "    .withColumnRenamed('count', 'num_thumb_down')\n",
        "feat_4.describe().show()"
      ],
      "metadata": {
        "colab": {
          "base_uri": "https://localhost:8080/"
        },
        "id": "eC9_8wV3HhVP",
        "outputId": "01f67786-7536-4e6f-b7a6-d85ad1c2e761"
      },
      "execution_count": 41,
      "outputs": [
        {
          "output_type": "stream",
          "name": "stdout",
          "text": [
            "+-------+------------------+-----------------+\n",
            "|summary|            userID|     num_thumb_up|\n",
            "+-------+------------------+-----------------+\n",
            "|  count|               220|              220|\n",
            "|   mean| 66420.27727272727|            57.05|\n",
            "| stddev|106196.51156121882|65.67028650524044|\n",
            "|    min|                10|                1|\n",
            "|    max|                99|              437|\n",
            "+-------+------------------+-----------------+\n",
            "\n",
            "+-------+------------------+------------------+\n",
            "|summary|            userID|    num_thumb_down|\n",
            "+-------+------------------+------------------+\n",
            "|  count|               203|               203|\n",
            "|   mean| 66066.16256157635|12.541871921182265|\n",
            "| stddev|106108.32569893776|13.198108566983786|\n",
            "|    min|                10|                 1|\n",
            "|    max|                99|                75|\n",
            "+-------+------------------+------------------+\n",
            "\n"
          ]
        }
      ]
    },
    {
      "cell_type": "markdown",
      "source": [
        "Number of songs listened per session were less for churners than non-churners and churners did add less songs to their playlist (as seen from bar graph). Hence, we will rely on this study to make our fifth feature as number of songs added to playlist"
      ],
      "metadata": {
        "id": "GkzbATy8HnVC"
      }
    },
    {
      "cell_type": "code",
      "source": [
        "# Number of songs added to playlist\n",
        "feat_5 = data \\\n",
        "    .select('userID','page') \\\n",
        "    .where(data.page == 'Add to Playlist') \\\n",
        "    .groupBy('userID')\\\n",
        "    .count() \\\n",
        "    .withColumnRenamed('count', 'add_to_playlist')\n",
        "feat_5.describe().show()"
      ],
      "metadata": {
        "colab": {
          "base_uri": "https://localhost:8080/"
        },
        "id": "-EAoqXomHp6k",
        "outputId": "660f76dc-02b6-4f78-e4b6-598fa037c923"
      },
      "execution_count": 42,
      "outputs": [
        {
          "output_type": "stream",
          "name": "stdout",
          "text": [
            "+-------+------------------+------------------+\n",
            "|summary|            userID|   add_to_playlist|\n",
            "+-------+------------------+------------------+\n",
            "|  count|               215|               215|\n",
            "|   mean| 66103.63720930232| 30.35348837209302|\n",
            "| stddev|106360.47999565041|32.852056855599706|\n",
            "|    min|                10|                 1|\n",
            "|    max|                99|               240|\n",
            "+-------+------------------+------------------+\n",
            "\n"
          ]
        }
      ]
    },
    {
      "cell_type": "markdown",
      "source": [
        "From bar graph we also clearly see that friends added by non-churners were more than churners. Hence we would consider this to be our sixth feature"
      ],
      "metadata": {
        "id": "HJ85fbXYHwb2"
      }
    },
    {
      "cell_type": "code",
      "source": [
        "# Number of friends added\n",
        "feat_6 = data \\\n",
        "    .select('userID','page') \\\n",
        "    .where(data.page == 'Add Friend') \\\n",
        "    .groupBy('userID') \\\n",
        "    .count() \\\n",
        "    .withColumnRenamed('count', 'add_friend') \n",
        "feat_6.describe().show()"
      ],
      "metadata": {
        "colab": {
          "base_uri": "https://localhost:8080/"
        },
        "id": "rKhWjiY7HxVW",
        "outputId": "da163b2f-c956-4a22-ba9d-36031e06721f"
      },
      "execution_count": 43,
      "outputs": [
        {
          "output_type": "stream",
          "name": "stdout",
          "text": [
            "+-------+------------------+------------------+\n",
            "|summary|            userID|        add_friend|\n",
            "+-------+------------------+------------------+\n",
            "|  count|               206|               206|\n",
            "|   mean| 66076.91262135922|20.762135922330096|\n",
            "| stddev|106860.60517425007| 20.64677907440501|\n",
            "|    min|                10|                 1|\n",
            "|    max|                99|               143|\n",
            "+-------+------------------+------------------+\n",
            "\n"
          ]
        }
      ]
    },
    {
      "cell_type": "markdown",
      "source": [
        "Total number of songs listened by customers in lifetime were way more for non-churners than the churners. Hence, in time instrospection we shall consider longetivity of listening to songs."
      ],
      "metadata": {
        "id": "QuLyHuwPH4_3"
      }
    },
    {
      "cell_type": "code",
      "source": [
        "# Total length of listening\n",
        "feat_7 = data \\\n",
        "    .select('userID','length') \\\n",
        "    .groupBy('userID') \\\n",
        "    .sum() \\\n",
        "    .withColumnRenamed('sum(length)', 'listen_time')\n",
        "feat_7.describe().show()"
      ],
      "metadata": {
        "colab": {
          "base_uri": "https://localhost:8080/"
        },
        "id": "fhRlTkF1H8VE",
        "outputId": "48333fb3-608f-4dee-a0a5-1e4d2cdf8cda"
      },
      "execution_count": 44,
      "outputs": [
        {
          "output_type": "stream",
          "name": "stdout",
          "text": [
            "+-------+------------------+------------------+\n",
            "|summary|            userID|       listen_time|\n",
            "+-------+------------------+------------------+\n",
            "|  count|               225|               225|\n",
            "|   mean|65391.013333333336|252558.32065155552|\n",
            "| stddev|105396.47791907159| 275396.4038847635|\n",
            "|    min|                10|         691.66884|\n",
            "|    max|                99| 1991154.915579993|\n",
            "+-------+------------------+------------------+\n",
            "\n"
          ]
        }
      ]
    },
    {
      "cell_type": "markdown",
      "source": [
        "Density of songs listened were higher for non-churners than churners. Hence average songs listened per session becomes our eighth feature."
      ],
      "metadata": {
        "id": "_YuBSltaIAyZ"
      }
    },
    {
      "cell_type": "code",
      "source": [
        "# Number of songs listened per session\n",
        "feat_8 = data.where('page == \"NextSong\"') \\\n",
        "    .groupby(['userId', 'sessionId']) \\\n",
        "    .count() \\\n",
        "    .groupby(['userId']) \\\n",
        "    .agg({'count':'avg'}) \\\n",
        "    .withColumnRenamed('avg(count)', 'avg_songs_played')\n",
        "feat_8.describe().show()"
      ],
      "metadata": {
        "colab": {
          "base_uri": "https://localhost:8080/"
        },
        "id": "HsJgGD1xIBjp",
        "outputId": "0bfacad7-b683-4c4d-ad39-41d768802e2c"
      },
      "execution_count": 45,
      "outputs": [
        {
          "output_type": "stream",
          "name": "stdout",
          "text": [
            "+-------+------------------+-----------------+\n",
            "|summary|            userId| avg_songs_played|\n",
            "+-------+------------------+-----------------+\n",
            "|  count|               225|              225|\n",
            "|   mean|65391.013333333336|70.78971233958933|\n",
            "| stddev|105396.47791907164|42.61536975438171|\n",
            "|    min|                10|              3.0|\n",
            "|    max|                99|286.6666666666667|\n",
            "+-------+------------------+-----------------+\n",
            "\n"
          ]
        }
      ]
    },
    {
      "cell_type": "markdown",
      "source": [
        "We saw that proprtion of females churned were less than males. Hence we will include this as ninth feature."
      ],
      "metadata": {
        "id": "7HaqyG4CIIMG"
      }
    },
    {
      "cell_type": "code",
      "source": [
        "# Gender\n",
        "feat_9 = data \\\n",
        "    .select(\"userId\", \"gender\") \\\n",
        "    .dropDuplicates() \\\n",
        "    .replace(['M', 'F'], ['0', '1'], 'gender') \\\n",
        "    .select('userId', col('gender').cast('int'))\n",
        "feat_9.describe().show()"
      ],
      "metadata": {
        "colab": {
          "base_uri": "https://localhost:8080/"
        },
        "id": "F8fTYp9JIKHU",
        "outputId": "25d9ce72-58b4-483d-b7e4-fb255c7c363d"
      },
      "execution_count": 46,
      "outputs": [
        {
          "output_type": "stream",
          "name": "stdout",
          "text": [
            "+-------+------------------+------------------+\n",
            "|summary|            userId|            gender|\n",
            "+-------+------------------+------------------+\n",
            "|  count|               225|               225|\n",
            "|   mean|65391.013333333336|0.4622222222222222|\n",
            "| stddev|105396.47791907164|0.4996824388374476|\n",
            "|    min|                10|                 0|\n",
            "|    max|                99|                 1|\n",
            "+-------+------------------+------------------+\n",
            "\n"
          ]
        }
      ]
    },
    {
      "cell_type": "markdown",
      "source": [
        "In the start we saw that there were some artists for which churning occured more than others. Hence, including number of artists listened to as our tenth feature."
      ],
      "metadata": {
        "id": "25EOQCSiISJC"
      }
    },
    {
      "cell_type": "code",
      "source": [
        "# Number of artists listened\n",
        "feat_10 = data \\\n",
        "    .filter(data.page==\"NextSong\") \\\n",
        "    .select(\"userId\", \"artist\") \\\n",
        "    .dropDuplicates() \\\n",
        "    .groupby(\"userId\") \\\n",
        "    .count() \\\n",
        "    .withColumnRenamed(\"count\", \"artist_count\")\n",
        "feat_10.describe().show()"
      ],
      "metadata": {
        "colab": {
          "base_uri": "https://localhost:8080/"
        },
        "id": "YcXun5dBITQD",
        "outputId": "62e3c4ee-231d-4d4e-b107-1ee858e57d42"
      },
      "execution_count": 47,
      "outputs": [
        {
          "output_type": "stream",
          "name": "stdout",
          "text": [
            "+-------+------------------+-----------------+\n",
            "|summary|            userId|     artist_count|\n",
            "+-------+------------------+-----------------+\n",
            "|  count|               225|              225|\n",
            "|   mean|65391.013333333336|696.3777777777777|\n",
            "| stddev|105396.47791907162|603.9518698630803|\n",
            "|    min|                10|                3|\n",
            "|    max|                99|             3544|\n",
            "+-------+------------------+-----------------+\n",
            "\n"
          ]
        }
      ]
    },
    {
      "cell_type": "markdown",
      "source": [
        "Churn and non-churn label"
      ],
      "metadata": {
        "id": "2Jo_WmVRImwS"
      }
    },
    {
      "cell_type": "code",
      "source": [
        "# Churn label\n",
        "label = data \\\n",
        "    .select('userId', col('churn').alias('label')) \\\n",
        "    .dropDuplicates()\n",
        "label.describe().show()"
      ],
      "metadata": {
        "colab": {
          "base_uri": "https://localhost:8080/"
        },
        "id": "xOyT3pLaIpJ1",
        "outputId": "f49e7bd3-5b0b-450d-93cf-0b68628aa5b6"
      },
      "execution_count": 48,
      "outputs": [
        {
          "output_type": "stream",
          "name": "stdout",
          "text": [
            "+-------+------------------+------------------+\n",
            "|summary|            userId|             label|\n",
            "+-------+------------------+------------------+\n",
            "|  count|               225|               225|\n",
            "|   mean|65391.013333333336|0.2311111111111111|\n",
            "| stddev|105396.47791907164|0.4224832108996326|\n",
            "|    min|                10|                 0|\n",
            "|    max|                99|                 1|\n",
            "+-------+------------------+------------------+\n",
            "\n"
          ]
        }
      ]
    },
    {
      "cell_type": "markdown",
      "source": [
        "Preparing our final dataframe to be used in modelling"
      ],
      "metadata": {
        "id": "8vjy_rtRI3Kc"
      }
    },
    {
      "cell_type": "code",
      "source": [
        "data = feat_1.join(feat_2,'userID','outer') \\\n",
        "    .join(feat_3,'userID','outer') \\\n",
        "    .join(feat_4,'userID','outer') \\\n",
        "    .join(feat_5,'userID','outer') \\\n",
        "    .join(feat_6,'userID','outer') \\\n",
        "    .join(feat_7,'userID','outer') \\\n",
        "    .join(feat_8,'userID','outer') \\\n",
        "    .join(feat_9,'userID','outer') \\\n",
        "    .join(feat_10,'userID','outer') \\\n",
        "    .join(label,'userID','outer') \\\n",
        "    .drop('userID') \\\n",
        "    .fillna(0)\n",
        "\n",
        "data.show(5)"
      ],
      "metadata": {
        "colab": {
          "base_uri": "https://localhost:8080/"
        },
        "id": "pjCqdxqeI4lD",
        "outputId": "c8187d43-1d97-4220-d4e1-75ec54876a70"
      },
      "execution_count": 49,
      "outputs": [
        {
          "output_type": "stream",
          "name": "stdout",
          "text": [
            "+------------------+-----------+------------+--------------+---------------+----------+------------------+------------------+------+------------+-----+\n",
            "|          lifetime|total_songs|num_thumb_up|num_thumb_down|add_to_playlist|add_friend|       listen_time|  avg_songs_played|gender|artist_count|label|\n",
            "+------------------+-----------+------------+--------------+---------------+----------+------------------+------------------+------+------------+-----+\n",
            "| 51.76265046296297|        795|          37|             4|              9|        12|166866.37251000002|112.16666666666667|     0|         565|    0|\n",
            "| 64.87377314814815|       3214|         148|            27|             61|        49| 672877.8565899999| 78.88235294117646|     0|        1705|    0|\n",
            "| 44.80021990740741|        187|           8|             2|              3|         2|35073.742150000005|             33.25|     1|         125|    1|\n",
            "|160.47207175925925|        218|           5|             0|              5|         1| 49559.91809999999|             48.75|     1|         184|    0|\n",
            "|22.748113425925926|         78|           3|             0|              2|         0|12306.419320000003|              25.5|     1|          50|    1|\n",
            "+------------------+-----------+------------+--------------+---------------+----------+------------------+------------------+------+------------+-----+\n",
            "only showing top 5 rows\n",
            "\n"
          ]
        }
      ]
    },
    {
      "cell_type": "markdown",
      "source": [
        "#Model Development\n",
        "\n",
        "We split the dataset into train, testing and validation datasets\n",
        "\n",
        "We develop two models - Gradient Boosting and Logistic regression \n",
        "and compare the models based on the accuracy, F-score. After we select the best model based on test accuracy and results of the validation set we then tune the model to get the best accuracy.\n",
        "\n",
        "First we have to vectorize and scale the features to remove any present bias and introduce normalization. This is done to ensure that one feature doesn't domainate the entire model.Thus, we will we standardize the features by taking off the mean and divided by the standard deviation of each feature"
      ],
      "metadata": {
        "id": "BSNZdlYpJDKU"
      }
    },
    {
      "cell_type": "code",
      "source": [
        "# Vector assembler\n",
        "cols = [\"lifetime\",\"total_songs\",\"num_thumb_up\",'num_thumb_down','add_to_playlist',\n",
        "        'add_friend','listen_time','avg_songs_played','gender','artist_count']\n",
        "\n",
        "assembler = VectorAssembler(inputCols=cols, outputCol=\"NumFeatures\")\n",
        "data = assembler.transform(data)\n",
        "\n",
        "# standard scaler\n",
        "scaler = StandardScaler(inputCol=\"NumFeatures\", outputCol=\"features\", withStd=True)\n",
        "scalerModel = scaler.fit(data)\n",
        "data = scalerModel.transform(data)"
      ],
      "metadata": {
        "id": "9FOnsvrzJLZx"
      },
      "execution_count": 50,
      "outputs": []
    },
    {
      "cell_type": "markdown",
      "source": [
        "We need a stratified samplifing as our label is too much skewed. We would make two splits to test. One of validation set and other of test set."
      ],
      "metadata": {
        "id": "Z3bA0FpAJQNm"
      }
    },
    {
      "cell_type": "code",
      "source": [
        "# train test split\n",
        "train, rest = data.randomSplit([0.7, 0.3], seed=42)\n",
        "validation, test = rest.randomSplit([0.6, 0.4], seed=42)"
      ],
      "metadata": {
        "id": "kCavt_5bJQ7O"
      },
      "execution_count": 51,
      "outputs": []
    },
    {
      "cell_type": "markdown",
      "source": [
        "**Base Models to decide approach for unbalanced dataset**\n",
        "\n",
        "We will check for churned as well as non-churn. Because, the dataset is uneven. The churners are far less than non-churners.Hence we will create two base models for both churners as well as non-churners. Thus making 2 base models for label churn = 1 (churned) and churn = 0 (non-churned)"
      ],
      "metadata": {
        "id": "OseB5QZKJZex"
      }
    },
    {
      "cell_type": "code",
      "source": [
        "results_base_all_1 = test.withColumn('prediction', lit(1.0))\n",
        "evaluator = MulticlassClassificationEvaluator(predictionCol=\"prediction\")\n",
        "print('Test set metrics:')\n",
        "print('Accuracy: {}'.format(evaluator.evaluate(results_base_all_1, {evaluator.metricName: \"accuracy\"})))\n",
        "print('F1 Score:{}'.format(evaluator.evaluate(results_base_all_1, {evaluator.metricName: \"f1\"})))"
      ],
      "metadata": {
        "colab": {
          "base_uri": "https://localhost:8080/"
        },
        "id": "saiU2LUaJgDB",
        "outputId": "c191696d-f139-4e16-8ae5-033590679d58"
      },
      "execution_count": 52,
      "outputs": [
        {
          "output_type": "stream",
          "name": "stdout",
          "text": [
            "Test set metrics:\n",
            "Accuracy: 0.25\n",
            "F1 Score:0.1\n"
          ]
        }
      ]
    },
    {
      "cell_type": "code",
      "source": [
        "results_base_all_0 = test.withColumn('prediction', lit(0.0))\n",
        "evaluator = MulticlassClassificationEvaluator(predictionCol=\"prediction\")\n",
        "print('Test set metrics:')\n",
        "print('Accuracy: {}'.format(evaluator.evaluate(results_base_all_0, {evaluator.metricName: \"accuracy\"})))\n",
        "print('F1 Score:{}'.format(evaluator.evaluate(results_base_all_0, {evaluator.metricName: \"f1\"})))\n"
      ],
      "metadata": {
        "colab": {
          "base_uri": "https://localhost:8080/"
        },
        "id": "z26P82S8JlkP",
        "outputId": "ff157d96-89da-426a-bb05-321fbedcb5a6"
      },
      "execution_count": 53,
      "outputs": [
        {
          "output_type": "stream",
          "name": "stdout",
          "text": [
            "Test set metrics:\n",
            "Accuracy: 0.75\n",
            "F1 Score:0.6428571428571428\n"
          ]
        }
      ]
    },
    {
      "cell_type": "markdown",
      "source": [
        "Gradient Boosted Trees"
      ],
      "metadata": {
        "id": "3N9CGx0oJxve"
      }
    },
    {
      "cell_type": "code",
      "source": [
        "# initialize classifier\n",
        "GradBoostTree = GBTClassifier(maxIter=5,seed=42)\n",
        "\n",
        "# set evaluator\n",
        "f1_evaluator = MulticlassClassificationEvaluator(metricName='f1')\n",
        "\n",
        "# build paramGrid\n",
        "paramGrid = ParamGridBuilder().build()\n",
        "\n",
        "crossval_GradBoostTree = CrossValidator(estimator=GradBoostTree,\n",
        "                          estimatorParamMaps=paramGrid,\n",
        "                          evaluator=f1_evaluator,\n",
        "                          numFolds=5)\n",
        "\n",
        "cvModel_GradBoostTree = crossval_GradBoostTree.fit(train)\n",
        "cvModel_GradBoostTree.avgMetrics\n",
        "\n",
        "results_GradBoostTree = cvModel_GradBoostTree.transform(validation)\n",
        "evaluator = MulticlassClassificationEvaluator(predictionCol=\"prediction\")\n",
        "print('Gradient Boosted Trees Metrics:')\n",
        "print('Accuracy: {}'.format(evaluator.evaluate(results_GradBoostTree, {evaluator.metricName: \"accuracy\"})))\n",
        "print('F1 Score:{}'.format(evaluator.evaluate(results_GradBoostTree, {evaluator.metricName: \"f1\"})))"
      ],
      "metadata": {
        "id": "be0drp_eJyRV",
        "colab": {
          "base_uri": "https://localhost:8080/"
        },
        "outputId": "e292b30e-621f-47dc-883c-abf796280338"
      },
      "execution_count": 54,
      "outputs": [
        {
          "output_type": "stream",
          "name": "stdout",
          "text": [
            "Gradient Boosted Trees Metrics:\n",
            "Accuracy: 0.6\n",
            "F1 Score:0.5681818181818181\n"
          ]
        }
      ]
    },
    {
      "cell_type": "markdown",
      "source": [
        "Logistic Regression"
      ],
      "metadata": {
        "id": "vOCr9LZXKqwN"
      }
    },
    {
      "cell_type": "code",
      "source": [
        "# initialize classifier\n",
        "lr = LogisticRegression(maxIter=10)\n",
        "\n",
        "# set evaluator\n",
        "f1_evaluator = MulticlassClassificationEvaluator(metricName='f1')\n",
        "\n",
        "# build paramGrid\n",
        "paramGrid = ParamGridBuilder() \\\n",
        "    .build()\n",
        "\n",
        "crossval_lr = CrossValidator(estimator=lr,\n",
        "                          evaluator=f1_evaluator, \n",
        "                          estimatorParamMaps=paramGrid,\n",
        "                          numFolds=3)\n",
        "\n",
        "cvModel_lr = crossval_lr.fit(train)\n",
        "cvModel_lr.avgMetrics\n",
        "\n",
        "results_lr = cvModel_lr.transform(validation)\n",
        "\n",
        "evaluator = MulticlassClassificationEvaluator(predictionCol=\"prediction\")\n",
        "print('Logistic Regression Metrics:')\n",
        "print('Accuracy: {}'.format(evaluator.evaluate(results_lr, {evaluator.metricName: \"accuracy\"})))\n",
        "print('F-1 Score:{}'.format(evaluator.evaluate(results_lr, {evaluator.metricName: \"f1\"})))"
      ],
      "metadata": {
        "id": "HCwYLaE-Kxo5",
        "colab": {
          "base_uri": "https://localhost:8080/"
        },
        "outputId": "fccf6a0a-4999-471d-e029-39c15bdb91f6"
      },
      "execution_count": 55,
      "outputs": [
        {
          "output_type": "stream",
          "name": "stdout",
          "text": [
            "Logistic Regression Metrics:\n",
            "Accuracy: 0.7\n",
            "F-1 Score:0.6048237476808906\n"
          ]
        }
      ]
    },
    {
      "cell_type": "markdown",
      "source": [
        "Out of the two models we find that Logistic Regression is our best model because of high accuracy and F1 score\n",
        "\n",
        "For high precision and recall we perform hyperparameter tuning of our model to increase our accuracy in predicting churn rate for test dataset"
      ],
      "metadata": {
        "id": "aQlP1PLLI3Qg"
      }
    },
    {
      "cell_type": "markdown",
      "source": [
        "Hyperparameter tuning:"
      ],
      "metadata": {
        "id": "_VSLQmXILKXh"
      }
    },
    {
      "cell_type": "code",
      "source": [
        "\n",
        "f1_evaluator = MulticlassClassificationEvaluator(metricName='f1')\n",
        "lr = LogisticRegression()\n",
        "paramGrid = ParamGridBuilder().addGrid(lr.maxIter, [10,12])\\\n",
        "                                .addGrid(lr.regParam, [0,0.1]) \\\n",
        "                                .addGrid(lr.elasticNetParam, [0.001,0.01]) \\\n",
        "                                .build()\n",
        "lr_cv = CrossValidator(estimator=lr, estimatorParamMaps=paramGrid, \\\n",
        "                        evaluator=f1_evaluator, numFolds=3)\n",
        "lrModel = lr_cv.fit(train)\n",
        "bestModel = lrModel.bestModel"
      ],
      "metadata": {
        "id": "H7fucb5qLQcd"
      },
      "execution_count": 56,
      "outputs": []
    },
    {
      "cell_type": "code",
      "source": [
        "results_final = bestModel.transform(test)\n",
        "\n",
        "evaluator = MulticlassClassificationEvaluator(predictionCol=\"prediction\")\n",
        "print('Test set metrics:')\n",
        "print('Accuracy: {}'.format(evaluator.evaluate(results_final, {evaluator.metricName: \"accuracy\"})))\n",
        "print('F-1 Score:{}'.format(evaluator.evaluate(results_final, {evaluator.metricName: \"f1\"})))"
      ],
      "metadata": {
        "id": "dXEOKJhHLWUU",
        "colab": {
          "base_uri": "https://localhost:8080/"
        },
        "outputId": "9c015268-4ed0-4901-98a5-4c90564a0e55"
      },
      "execution_count": 57,
      "outputs": [
        {
          "output_type": "stream",
          "name": "stdout",
          "text": [
            "Test set metrics:\n",
            "Accuracy: 0.78125\n",
            "F-1 Score:0.741852487135506\n"
          ]
        }
      ]
    },
    {
      "cell_type": "markdown",
      "source": [
        "Feature Importance of LogR Model: This has been done to understand which is our top feature among the 10 features and under logistic regression model"
      ],
      "metadata": {
        "id": "sg_0yb_3LdNW"
      }
    },
    {
      "cell_type": "code",
      "source": [
        "feat_imp = abs(bestModel.coefficients.values)\n",
        "cols = [\"lifetime\", \"TotalSongs\", \"Thumbsup\", \\\n",
        "          'ThumbsDown','PlaylistAdd','FriendAdd','ListeningTime','AvgSongsPlay', \\\n",
        "        'Gender', 'NumofArtists']\n",
        "y_pos = np.arange(len(cols))\n",
        " \n",
        "plt.pyplot.barh(y_pos, feat_imp, align='center')\n",
        "plt.pyplot.yticks(y_pos,cols, rotation = 45)\n",
        "plt.pyplot.xlabel('Importance Score')\n",
        "plt.pyplot.title('Feature Importances');\n",
        "plt.pyplot.tight_layout()\n",
        "plt.pyplot.show()"
      ],
      "metadata": {
        "id": "zQRgj-KoLhCp",
        "colab": {
          "base_uri": "https://localhost:8080/",
          "height": 297
        },
        "outputId": "2ed55561-2047-434c-eb24-61fbb6168176"
      },
      "execution_count": 58,
      "outputs": [
        {
          "output_type": "display_data",
          "data": {
            "text/plain": [
              "<Figure size 432x288 with 1 Axes>"
            ],
            "image/png": "[encoded data removed]"
          },
          "metadata": {
            "needs_background": "light"
          }
        }
      ]
    },
    {
      "cell_type": "markdown",
      "source": [
        "#Result\n",
        "\n",
        "We see that the lifetime is the greatest important feature, thumbs down page and friends referred page makes top 3 important features.\n",
        "\n",
        "We can easily say that the person about to churn did not like the quality of songs.Such people did not referred friends which was very obvious. \n",
        "\n",
        "The length of using service seems to dominate the behaviour to churn, because, the churned customers used the product for shorter time and were not satisfied with the service offered by the company\n"
      ],
      "metadata": {
        "id": "nr1gHLvPL2qC"
      }
    }
  ]
}